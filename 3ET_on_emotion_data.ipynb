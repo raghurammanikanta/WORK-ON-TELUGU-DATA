{
  "cells": [
    {
      "cell_type": "markdown",
      "metadata": {
        "id": "view-in-github",
        "colab_type": "text"
      },
      "source": [
        "<a href=\"https://colab.research.google.com/github/raghurammanikanta/WORK-ON-TELUGU-DATA/blob/main/3ET_on_emotion_data.ipynb\" target=\"_parent\"><img src=\"https://colab.research.google.com/assets/colab-badge.svg\" alt=\"Open In Colab\"/></a>"
      ]
    },
    {
      "cell_type": "code",
      "execution_count": null,
      "metadata": {
        "id": "lOF_7TDdA8G8"
      },
      "outputs": [],
      "source": []
    },
    {
      "cell_type": "code",
      "execution_count": null,
      "metadata": {
        "colab": {
          "base_uri": "https://localhost:8080/"
        },
        "id": "BpqUAB8r9rTJ",
        "outputId": "089410cf-a773-40fd-b2d5-08f4fd3f632e"
      },
      "outputs": [
        {
          "name": "stdout",
          "output_type": "stream",
          "text": [
            "Collecting indic-nlp-library\n",
            "  Downloading indic_nlp_library-0.92-py3-none-any.whl.metadata (5.7 kB)\n",
            "Collecting sphinx-argparse (from indic-nlp-library)\n",
            "  Downloading sphinx_argparse-0.5.2-py3-none-any.whl.metadata (3.7 kB)\n",
            "Collecting sphinx-rtd-theme (from indic-nlp-library)\n",
            "  Downloading sphinx_rtd_theme-2.0.0-py2.py3-none-any.whl.metadata (4.4 kB)\n",
            "Collecting morfessor (from indic-nlp-library)\n",
            "  Downloading Morfessor-2.0.6-py3-none-any.whl.metadata (628 bytes)\n",
            "Requirement already satisfied: pandas in /usr/local/lib/python3.10/dist-packages (from indic-nlp-library) (2.1.4)\n",
            "Requirement already satisfied: numpy in /usr/local/lib/python3.10/dist-packages (from indic-nlp-library) (1.26.4)\n",
            "Requirement already satisfied: python-dateutil>=2.8.2 in /usr/local/lib/python3.10/dist-packages (from pandas->indic-nlp-library) (2.8.2)\n",
            "Requirement already satisfied: pytz>=2020.1 in /usr/local/lib/python3.10/dist-packages (from pandas->indic-nlp-library) (2024.2)\n",
            "Requirement already satisfied: tzdata>=2022.1 in /usr/local/lib/python3.10/dist-packages (from pandas->indic-nlp-library) (2024.1)\n",
            "Collecting sphinx>=5.1.0 (from sphinx-argparse->indic-nlp-library)\n",
            "  Downloading sphinx-8.0.2-py3-none-any.whl.metadata (6.2 kB)\n",
            "Collecting docutils>=0.19 (from sphinx-argparse->indic-nlp-library)\n",
            "  Downloading docutils-0.21.2-py3-none-any.whl.metadata (2.8 kB)\n",
            "Collecting sphinx>=5.1.0 (from sphinx-argparse->indic-nlp-library)\n",
            "  Downloading sphinx-7.4.7-py3-none-any.whl.metadata (6.1 kB)\n",
            "Collecting docutils>=0.19 (from sphinx-argparse->indic-nlp-library)\n",
            "  Downloading docutils-0.20.1-py3-none-any.whl.metadata (2.8 kB)\n",
            "Collecting sphinxcontrib-jquery<5,>=4 (from sphinx-rtd-theme->indic-nlp-library)\n",
            "  Downloading sphinxcontrib_jquery-4.1-py2.py3-none-any.whl.metadata (2.6 kB)\n",
            "Requirement already satisfied: six>=1.5 in /usr/local/lib/python3.10/dist-packages (from python-dateutil>=2.8.2->pandas->indic-nlp-library) (1.16.0)\n",
            "Requirement already satisfied: sphinxcontrib-applehelp in /usr/local/lib/python3.10/dist-packages (from sphinx>=5.1.0->sphinx-argparse->indic-nlp-library) (2.0.0)\n",
            "Requirement already satisfied: sphinxcontrib-devhelp in /usr/local/lib/python3.10/dist-packages (from sphinx>=5.1.0->sphinx-argparse->indic-nlp-library) (2.0.0)\n",
            "Requirement already satisfied: sphinxcontrib-jsmath in /usr/local/lib/python3.10/dist-packages (from sphinx>=5.1.0->sphinx-argparse->indic-nlp-library) (1.0.1)\n",
            "Requirement already satisfied: sphinxcontrib-htmlhelp>=2.0.0 in /usr/local/lib/python3.10/dist-packages (from sphinx>=5.1.0->sphinx-argparse->indic-nlp-library) (2.1.0)\n",
            "Requirement already satisfied: sphinxcontrib-serializinghtml>=1.1.9 in /usr/local/lib/python3.10/dist-packages (from sphinx>=5.1.0->sphinx-argparse->indic-nlp-library) (2.0.0)\n",
            "Requirement already satisfied: sphinxcontrib-qthelp in /usr/local/lib/python3.10/dist-packages (from sphinx>=5.1.0->sphinx-argparse->indic-nlp-library) (2.0.0)\n",
            "Requirement already satisfied: Jinja2>=3.1 in /usr/local/lib/python3.10/dist-packages (from sphinx>=5.1.0->sphinx-argparse->indic-nlp-library) (3.1.4)\n",
            "Requirement already satisfied: Pygments>=2.17 in /usr/local/lib/python3.10/dist-packages (from sphinx>=5.1.0->sphinx-argparse->indic-nlp-library) (2.18.0)\n",
            "Requirement already satisfied: snowballstemmer>=2.2 in /usr/local/lib/python3.10/dist-packages (from sphinx>=5.1.0->sphinx-argparse->indic-nlp-library) (2.2.0)\n",
            "Requirement already satisfied: babel>=2.13 in /usr/local/lib/python3.10/dist-packages (from sphinx>=5.1.0->sphinx-argparse->indic-nlp-library) (2.16.0)\n",
            "Requirement already satisfied: alabaster~=0.7.14 in /usr/local/lib/python3.10/dist-packages (from sphinx>=5.1.0->sphinx-argparse->indic-nlp-library) (0.7.16)\n",
            "Requirement already satisfied: imagesize>=1.3 in /usr/local/lib/python3.10/dist-packages (from sphinx>=5.1.0->sphinx-argparse->indic-nlp-library) (1.4.1)\n",
            "Requirement already satisfied: requests>=2.30.0 in /usr/local/lib/python3.10/dist-packages (from sphinx>=5.1.0->sphinx-argparse->indic-nlp-library) (2.32.3)\n",
            "Requirement already satisfied: packaging>=23.0 in /usr/local/lib/python3.10/dist-packages (from sphinx>=5.1.0->sphinx-argparse->indic-nlp-library) (24.1)\n",
            "Requirement already satisfied: tomli>=2 in /usr/local/lib/python3.10/dist-packages (from sphinx>=5.1.0->sphinx-argparse->indic-nlp-library) (2.0.1)\n",
            "Requirement already satisfied: MarkupSafe>=2.0 in /usr/local/lib/python3.10/dist-packages (from Jinja2>=3.1->sphinx>=5.1.0->sphinx-argparse->indic-nlp-library) (2.1.5)\n",
            "Requirement already satisfied: charset-normalizer<4,>=2 in /usr/local/lib/python3.10/dist-packages (from requests>=2.30.0->sphinx>=5.1.0->sphinx-argparse->indic-nlp-library) (3.3.2)\n",
            "Requirement already satisfied: idna<4,>=2.5 in /usr/local/lib/python3.10/dist-packages (from requests>=2.30.0->sphinx>=5.1.0->sphinx-argparse->indic-nlp-library) (3.10)\n",
            "Requirement already satisfied: urllib3<3,>=1.21.1 in /usr/local/lib/python3.10/dist-packages (from requests>=2.30.0->sphinx>=5.1.0->sphinx-argparse->indic-nlp-library) (2.2.3)\n",
            "Requirement already satisfied: certifi>=2017.4.17 in /usr/local/lib/python3.10/dist-packages (from requests>=2.30.0->sphinx>=5.1.0->sphinx-argparse->indic-nlp-library) (2024.8.30)\n",
            "Downloading indic_nlp_library-0.92-py3-none-any.whl (40 kB)\n",
            "\u001b[2K   \u001b[90m━━━━━━━━━━━━━━━━━━━━━━━━━━━━━━━━━━━━━━━━\u001b[0m \u001b[32m40.3/40.3 kB\u001b[0m \u001b[31m3.2 MB/s\u001b[0m eta \u001b[36m0:00:00\u001b[0m\n",
            "\u001b[?25hDownloading Morfessor-2.0.6-py3-none-any.whl (35 kB)\n",
            "Downloading sphinx_argparse-0.5.2-py3-none-any.whl (12 kB)\n",
            "Downloading sphinx_rtd_theme-2.0.0-py2.py3-none-any.whl (2.8 MB)\n",
            "\u001b[2K   \u001b[90m━━━━━━━━━━━━━━━━━━━━━━━━━━━━━━━━━━━━━━━━\u001b[0m \u001b[32m2.8/2.8 MB\u001b[0m \u001b[31m52.3 MB/s\u001b[0m eta \u001b[36m0:00:00\u001b[0m\n",
            "\u001b[?25hDownloading docutils-0.20.1-py3-none-any.whl (572 kB)\n",
            "\u001b[2K   \u001b[90m━━━━━━━━━━━━━━━━━━━━━━━━━━━━━━━━━━━━━━━━\u001b[0m \u001b[32m572.7/572.7 kB\u001b[0m \u001b[31m36.5 MB/s\u001b[0m eta \u001b[36m0:00:00\u001b[0m\n",
            "\u001b[?25hDownloading sphinx-7.4.7-py3-none-any.whl (3.4 MB)\n",
            "\u001b[2K   \u001b[90m━━━━━━━━━━━━━━━━━━━━━━━━━━━━━━━━━━━━━━━━\u001b[0m \u001b[32m3.4/3.4 MB\u001b[0m \u001b[31m70.0 MB/s\u001b[0m eta \u001b[36m0:00:00\u001b[0m\n",
            "\u001b[?25hDownloading sphinxcontrib_jquery-4.1-py2.py3-none-any.whl (121 kB)\n",
            "\u001b[2K   \u001b[90m━━━━━━━━━━━━━━━━━━━━━━━━━━━━━━━━━━━━━━━━\u001b[0m \u001b[32m121.1/121.1 kB\u001b[0m \u001b[31m10.0 MB/s\u001b[0m eta \u001b[36m0:00:00\u001b[0m\n",
            "\u001b[?25hInstalling collected packages: morfessor, docutils, sphinx, sphinxcontrib-jquery, sphinx-argparse, sphinx-rtd-theme, indic-nlp-library\n",
            "  Attempting uninstall: docutils\n",
            "    Found existing installation: docutils 0.18.1\n",
            "    Uninstalling docutils-0.18.1:\n",
            "      Successfully uninstalled docutils-0.18.1\n",
            "  Attempting uninstall: sphinx\n",
            "    Found existing installation: Sphinx 5.0.2\n",
            "    Uninstalling Sphinx-5.0.2:\n",
            "      Successfully uninstalled Sphinx-5.0.2\n",
            "Successfully installed docutils-0.20.1 indic-nlp-library-0.92 morfessor-2.0.6 sphinx-7.4.7 sphinx-argparse-0.5.2 sphinx-rtd-theme-2.0.0 sphinxcontrib-jquery-4.1\n"
          ]
        }
      ],
      "source": [
        "!pip install indic-nlp-library"
      ]
    },
    {
      "cell_type": "markdown",
      "metadata": {
        "id": "0OzurFnK-gh9"
      },
      "source": [
        "# Import Libraries and Load Dataset"
      ]
    },
    {
      "cell_type": "code",
      "execution_count": null,
      "metadata": {
        "id": "Nq9-urKS99eD"
      },
      "outputs": [],
      "source": [
        "import pandas as pd\n",
        "import re\n",
        "import numpy as np\n",
        "from gensim.models import FastText, Word2Vec\n",
        "from sklearn.svm import SVC\n",
        "from sklearn.model_selection import train_test_split\n",
        "from sklearn.metrics import classification_report, accuracy_score\n",
        "from sklearn.feature_extraction.text import TfidfVectorizer\n",
        "from sklearn.neighbors import KNeighborsClassifier\n",
        "from sklearn.linear_model import LogisticRegression\n",
        "from sklearn.tree import DecisionTreeClassifier\n",
        "from sklearn.naive_bayes import MultinomialNB\n",
        "from sklearn.preprocessing import MinMaxScaler, MaxAbsScaler\n",
        "from sklearn.ensemble import RandomForestClassifier\n",
        "from indicnlp.tokenize import indic_tokenize\n",
        "\n"
      ]
    },
    {
      "cell_type": "code",
      "execution_count": null,
      "metadata": {
        "id": "rTFSuNt7VKMP"
      },
      "outputs": [],
      "source": [
        "# # Load and preprocess dataset\n",
        "df = pd.read_csv('/content/drive/MyDrive/emotion_filtered.csv')\n",
        "# df.head()\n",
        "# df['topic'] = df['topic'].apply(lambda x: x if x in ['entertainment', 'nation'] else 'others')\n",
        "# c = df['topic'].value_counts()\n",
        "# c\n"
      ]
    },
    {
      "cell_type": "code",
      "execution_count": null,
      "metadata": {
        "id": "ttmA0ZKyCa3H"
      },
      "outputs": [],
      "source": [
        "df.head()\n",
        "y = df['Emotion']"
      ]
    },
    {
      "cell_type": "code",
      "execution_count": null,
      "metadata": {
        "colab": {
          "base_uri": "https://localhost:8080/",
          "height": 272
        },
        "id": "545sL10OBi24",
        "outputId": "fbb2eca2-e579-4554-df06-317583d582ab"
      },
      "outputs": [
        {
          "data": {
            "text/html": [
              "<div>\n",
              "<style scoped>\n",
              "    .dataframe tbody tr th:only-of-type {\n",
              "        vertical-align: middle;\n",
              "    }\n",
              "\n",
              "    .dataframe tbody tr th {\n",
              "        vertical-align: top;\n",
              "    }\n",
              "\n",
              "    .dataframe thead th {\n",
              "        text-align: right;\n",
              "    }\n",
              "</style>\n",
              "<table border=\"1\" class=\"dataframe\">\n",
              "  <thead>\n",
              "    <tr style=\"text-align: right;\">\n",
              "      <th></th>\n",
              "      <th>count</th>\n",
              "    </tr>\n",
              "    <tr>\n",
              "      <th>Emotion</th>\n",
              "      <th></th>\n",
              "    </tr>\n",
              "  </thead>\n",
              "  <tbody>\n",
              "    <tr>\n",
              "      <th>no</th>\n",
              "      <td>38193</td>\n",
              "    </tr>\n",
              "    <tr>\n",
              "      <th>sad</th>\n",
              "      <td>7658</td>\n",
              "    </tr>\n",
              "    <tr>\n",
              "      <th>happy</th>\n",
              "      <td>6073</td>\n",
              "    </tr>\n",
              "    <tr>\n",
              "      <th>angry</th>\n",
              "      <td>595</td>\n",
              "    </tr>\n",
              "    <tr>\n",
              "      <th>fear</th>\n",
              "      <td>189</td>\n",
              "    </tr>\n",
              "  </tbody>\n",
              "</table>\n",
              "</div><br><label><b>dtype:</b> int64</label>"
            ],
            "text/plain": [
              "Emotion\n",
              "no       38193\n",
              "sad       7658\n",
              "happy     6073\n",
              "angry      595\n",
              "fear       189\n",
              "Name: count, dtype: int64"
            ]
          },
          "execution_count": 6,
          "metadata": {},
          "output_type": "execute_result"
        }
      ],
      "source": [
        "df['Emotion'].value_counts()"
      ]
    },
    {
      "cell_type": "markdown",
      "metadata": {
        "id": "tKBn2pJY_Uap"
      },
      "source": [
        "# **Text Preprocessing**"
      ]
    },
    {
      "cell_type": "code",
      "execution_count": null,
      "metadata": {
        "colab": {
          "base_uri": "https://localhost:8080/"
        },
        "id": "cLpfAR8L-jI8",
        "outputId": "10aa825a-0ca5-4f7e-8ffb-3aec9961dd03"
      },
      "outputs": [
        {
          "name": "stdout",
          "output_type": "stream",
          "text": [
            "\n",
            "Preprocessed Text:\n",
            "                                            Sentence Emotion Tokens  \\\n",
            "0  డ్రెస్సింగ్ విషయంలో సెలబ్రిటీలను బయటివాళ్లూ అన...      no    NaN   \n",
            "1  అయితే ప్రభుదాస్ వైష్ణాని అనే వ్యక్తి కస్టడీలో ...     sad    NaN   \n",
            "2  విజయ్ ఆంటోని యాక్షన్కింగ్ అర్జున్ కలిసి నటిస్త...      no    NaN   \n",
            "3  ఆయన ఎన్నికల్లో టీడీపీ సిట్టింగ్ ఎమ్మెల్యే పిల్...   happy    NaN   \n",
            "4  రెండోసారి ప్రధాని అయిన నరేంద్రమోదీకి ఏపీలో విజ...   happy    NaN   \n",
            "\n",
            "   Sentence_Length  \n",
            "0              166  \n",
            "1               60  \n",
            "2               69  \n",
            "3              110  \n",
            "4              108  \n"
          ]
        }
      ],
      "source": [
        "def pre_pro(text):\n",
        "    text = re.sub(r'[^ఁ-౿ ]', '', text)\n",
        "    text = re.sub(r'\\s+', ' ', text).strip()\n",
        "    return text\n",
        "\n",
        "df['Sentence'] = df['Sentence'].apply(pre_pro)\n",
        "print(\"\\nPreprocessed Text:\")\n",
        "print(df.head())"
      ]
    },
    {
      "cell_type": "markdown",
      "metadata": {
        "id": "k246-fiwV1Gn"
      },
      "source": [
        "FastText Model Training and Embedding Extraction"
      ]
    },
    {
      "cell_type": "code",
      "execution_count": null,
      "metadata": {
        "colab": {
          "base_uri": "https://localhost:8080/"
        },
        "id": "DB-x8nH9U33m",
        "outputId": "e514d556-2959-4100-9f0c-4ab8679f683b"
      },
      "outputs": [
        {
          "name": "stdout",
          "output_type": "stream",
          "text": [
            "FastTextKeyedVectors<vector_size=100, 13218 keys>\n"
          ]
        }
      ],
      "source": [
        "df['Sentence'] = df['Sentence'].apply(lambda x: x.split() if isinstance(x, str) else x)\n",
        "embedding_size = 100 ##embedding_size is the size of the embedding vector.\n",
        "window_size = 5 #window_size is the size of the number of words\n",
        "min_word = 6 #min_word, which specifies the minimum frequency of a word\n",
        "down_sampling = 1e-2 #most frequently occurring word will be down-sampled by a number specified by the down_sampling attribute\n",
        "\n",
        "\n",
        "ft_model = FastText(sentences = df['Sentence'],vector_size=embedding_size,window=window_size,min_count=min_word,sample=down_sampling,sg=1,epochs=10)\n",
        "#sg defines if the parameter is skpgram or cbow\n",
        "\n",
        "print(ft_model.wv)\n",
        "\n",
        "# Extract word embeddings\n",
        "X = []\n",
        "for sentence in df['Sentence']:\n",
        "    word_embeddings = [ft_model.wv[word] for word in sentence if word in ft_model.wv]\n",
        "    if word_embeddings:\n",
        "        sentence_embedding = np.mean(word_embeddings, axis=0)\n",
        "        X.append(sentence_embedding)\n",
        "    else:\n",
        "        X.append(np.zeros(embedding_size))\n",
        "\n",
        "X = np.array(X)\n"
      ]
    },
    {
      "cell_type": "markdown",
      "metadata": {
        "id": "ARXonffaV9H2"
      },
      "source": [
        "TF-IDF Embedding Extraction"
      ]
    },
    {
      "cell_type": "code",
      "execution_count": null,
      "metadata": {
        "colab": {
          "base_uri": "https://localhost:8080/"
        },
        "id": "chhV7POTV3ec",
        "outputId": "0ba3057c-89ab-4d0e-bb4f-507a653fbfb0"
      },
      "outputs": [
        {
          "name": "stdout",
          "output_type": "stream",
          "text": [
            "  (0, 3380)\t0.218641738202669\n",
            "  (0, 3034)\t0.3025260131888343\n",
            "  (0, 3012)\t0.14658565233136103\n",
            "  (0, 2322)\t0.3377062989512917\n",
            "  (0, 49)\t0.14259880864478994\n",
            "  (0, 858)\t0.1846412600475282\n",
            "  (0, 1154)\t0.22397061918723815\n",
            "  (0, 3231)\t0.20748472888165437\n",
            "  (0, 47)\t0.19217869993760123\n",
            "  (0, 856)\t0.4934973688859177\n",
            "  (0, 1256)\t0.23378976704089166\n",
            "  (0, 2561)\t0.18473137373350074\n",
            "  (0, 80)\t0.2098264053218124\n",
            "  (0, 3020)\t0.2325433017783746\n",
            "  (0, 272)\t0.25340034299567216\n",
            "  (0, 1167)\t0.21431391671521746\n",
            "  (1, 49)\t0.242766176376879\n",
            "  (1, 2561)\t0.3144944174803156\n",
            "  (1, 1167)\t0.36485697601378364\n",
            "  (1, 93)\t0.31019263206416825\n",
            "  (1, 2875)\t0.3558482205438009\n",
            "  (1, 942)\t0.5045197412112887\n",
            "  (1, 1389)\t0.4812999456806044\n",
            "  (2, 1285)\t0.4360305687264848\n",
            "  (2, 3365)\t0.41250900540748814\n",
            "  :\t:\n",
            "  (52705, 96)\t0.2790054036537253\n",
            "  (52705, 2008)\t0.2196103921848573\n",
            "  (52705, 2877)\t0.22288229818091354\n",
            "  (52705, 270)\t0.22379877853466723\n",
            "  (52705, 2127)\t0.31853398634578245\n",
            "  (52705, 418)\t0.23150566663839264\n",
            "  (52705, 2996)\t0.43957617076808864\n",
            "  (52705, 3484)\t0.25377066477631366\n",
            "  (52705, 2422)\t0.3213788249936542\n",
            "  (52705, 1494)\t0.40030131386075296\n",
            "  (52706, 1238)\t0.635063571666676\n",
            "  (52706, 418)\t0.5634593610921022\n",
            "  (52706, 1824)\t0.5284011812436121\n",
            "  (52707, 80)\t0.2584925746691029\n",
            "  (52707, 1238)\t0.25047914194296433\n",
            "  (52707, 1645)\t0.2368826361653728\n",
            "  (52707, 1824)\t0.2084098039700137\n",
            "  (52707, 2816)\t0.2025531503269888\n",
            "  (52707, 2134)\t0.2824590604921085\n",
            "  (52707, 2047)\t0.27560412972968745\n",
            "  (52707, 2268)\t0.34070020774496484\n",
            "  (52707, 1990)\t0.33214331548990106\n",
            "  (52707, 1129)\t0.3213376993036134\n",
            "  (52707, 1614)\t0.27948242418663155\n",
            "  (52707, 3516)\t0.4078738367367856\n"
          ]
        }
      ],
      "source": [
        "from sklearn.feature_extraction.text import TfidfVectorizer\n",
        "\n",
        "# Join the tokenized words back into sentences\n",
        "df['text_joined'] = df['Sentence'].apply(lambda x: ' '.join(x))\n",
        "\n",
        "# Initialize TfidfVectorizer\n",
        "tfidf_vectorizer = TfidfVectorizer()\n",
        "\n",
        "# Fit and transform the text data\n",
        "tfidf_matrix = tfidf_vectorizer.fit_transform(df['text_joined'])\n",
        "\n",
        "# `tfidf_matrix` now contains your TF-IDF embeddings\n",
        "print(tfidf_matrix)"
      ]
    },
    {
      "cell_type": "code",
      "execution_count": null,
      "metadata": {
        "id": "7t47VglbmVFd"
      },
      "outputs": [],
      "source": [
        "TY = tfidf_matrix"
      ]
    },
    {
      "cell_type": "markdown",
      "metadata": {
        "id": "f85snB5EWDtD"
      },
      "source": [
        "Word2Vec Model Training and Embedding Extraction"
      ]
    },
    {
      "cell_type": "code",
      "execution_count": null,
      "metadata": {
        "id": "cH9dqPKvWG2i"
      },
      "outputs": [],
      "source": [
        "\n",
        "from indicnlp.tokenize import indic_tokenize\n",
        "\n",
        "# Assuming df['body'] contains your Telugu text data\n",
        "# df = pd.read_csv('/content/TELUGU_NEWS_TEST.csv')  # Load your Telugu data\n",
        "\n",
        "# Tokenize Telugu sentences\n",
        "sentences = [indic_tokenize.trivial_tokenize(\"\".join(sentence).lower()) for sentence in df['Sentence']]\n",
        "\n",
        "# CBOW model\n",
        "cbow_model = Word2Vec(sentences, vector_size=100, window=5, min_count=1, workers=4, sg=0)\n",
        "\n",
        "# Skip-gram model\n",
        "sg_model = Word2Vec(sentences, vector_size=100, window=5, min_count=1, workers=4, sg=1)\n",
        "\n",
        "# Save the models\n",
        "cbow_model.save(\"telugu_word2vec_cbow.model\")\n",
        "sg_model.save(\"telugu_word2vec_sg.model\")\n",
        "w2v_model = Word2Vec.load(\"telugu_word2vec_cbow.model\")\n",
        "\n",
        "def get_document_vector(doc):\n",
        "    # Check if doc is a list and join it into a string if necessary\n",
        "    if isinstance(doc, list):\n",
        "        doc = \" \".join(doc)\n",
        "    words = doc.split()\n",
        "    word_vecs = [w2v_model.wv[word] for word in words if word in w2v_model.wv]\n",
        "    if len(word_vecs) == 0:\n",
        "        return np.zeros(w2v_model.vector_size)\n",
        "    return np.mean(word_vecs, axis=0)\n",
        "\n",
        "# Create document vectors\n",
        "X_w2v = np.array([get_document_vector(doc) for doc in df['Sentence']])\n",
        "yw = df['Emotion']"
      ]
    },
    {
      "cell_type": "markdown",
      "metadata": {
        "id": "Q2XI2RJTWN3e"
      },
      "source": [
        " Train-Test Split"
      ]
    },
    {
      "cell_type": "code",
      "execution_count": null,
      "metadata": {
        "id": "rbq-kSWpWOh-"
      },
      "outputs": [],
      "source": [
        "# Split the data\n",
        "WX_train, WX_test, Wy_train, Wy_test = train_test_split(X_w2v, yw, test_size=0.2, random_state=42)\n",
        "TX_train, TX_test, Ty_train, Ty_test = train_test_split(TY, y, test_size=0.2, random_state=42)\n",
        "X_train, X_test, y_train, y_test = train_test_split(X, y, test_size=0.2, random_state=42)\n"
      ]
    },
    {
      "cell_type": "markdown",
      "metadata": {
        "id": "Jl_FisHpWfc9"
      },
      "source": [
        " SVM Model Training and Evaluation"
      ]
    },
    {
      "cell_type": "code",
      "execution_count": null,
      "metadata": {
        "colab": {
          "background_save": true
        },
        "id": "EvH_yQ4RWgKt",
        "outputId": "d8d64b6e-bfc6-4388-f475-8083dfd612f7"
      },
      "outputs": [
        {
          "name": "stdout",
          "output_type": "stream",
          "text": [
            "\n",
            "SVM with TF-IDF Accuracy: 0.7374312274710682\n",
            "              precision    recall  f1-score   support\n",
            "\n",
            "       angry       0.56      0.07      0.12       130\n",
            "        fear       0.73      0.38      0.50        29\n",
            "       happy       0.53      0.06      0.10      1197\n",
            "          no       0.74      0.98      0.85      7605\n",
            "         sad       0.67      0.14      0.23      1581\n",
            "\n",
            "    accuracy                           0.74     10542\n",
            "   macro avg       0.65      0.33      0.36     10542\n",
            "weighted avg       0.70      0.74      0.66     10542\n",
            "\n",
            "\n",
            "SVM with FastText Accuracy: 0.7214001138303927\n"
          ]
        },
        {
          "name": "stderr",
          "output_type": "stream",
          "text": [
            "/usr/local/lib/python3.10/dist-packages/sklearn/metrics/_classification.py:1531: UndefinedMetricWarning: Precision is ill-defined and being set to 0.0 in labels with no predicted samples. Use `zero_division` parameter to control this behavior.\n",
            "  _warn_prf(average, modifier, f\"{metric.capitalize()} is\", len(result))\n",
            "/usr/local/lib/python3.10/dist-packages/sklearn/metrics/_classification.py:1531: UndefinedMetricWarning: Precision is ill-defined and being set to 0.0 in labels with no predicted samples. Use `zero_division` parameter to control this behavior.\n",
            "  _warn_prf(average, modifier, f\"{metric.capitalize()} is\", len(result))\n",
            "/usr/local/lib/python3.10/dist-packages/sklearn/metrics/_classification.py:1531: UndefinedMetricWarning: Precision is ill-defined and being set to 0.0 in labels with no predicted samples. Use `zero_division` parameter to control this behavior.\n",
            "  _warn_prf(average, modifier, f\"{metric.capitalize()} is\", len(result))\n"
          ]
        },
        {
          "name": "stdout",
          "output_type": "stream",
          "text": [
            "              precision    recall  f1-score   support\n",
            "\n",
            "       angry       0.00      0.00      0.00       130\n",
            "        fear       0.00      0.00      0.00        29\n",
            "       happy       0.00      0.00      0.00      1197\n",
            "          no       0.72      1.00      0.84      7605\n",
            "         sad       0.00      0.00      0.00      1581\n",
            "\n",
            "    accuracy                           0.72     10542\n",
            "   macro avg       0.14      0.20      0.17     10542\n",
            "weighted avg       0.52      0.72      0.60     10542\n",
            "\n",
            "\n",
            "SVM with Word2Vec Accuracy: 0.7214001138303927\n",
            "              precision    recall  f1-score   support\n",
            "\n",
            "       angry       0.00      0.00      0.00       130\n",
            "        fear       0.00      0.00      0.00        29\n",
            "       happy       0.00      0.00      0.00      1197\n",
            "          no       0.72      1.00      0.84      7605\n",
            "         sad       0.00      0.00      0.00      1581\n",
            "\n",
            "    accuracy                           0.72     10542\n",
            "   macro avg       0.14      0.20      0.17     10542\n",
            "weighted avg       0.52      0.72      0.60     10542\n",
            "\n"
          ]
        },
        {
          "name": "stderr",
          "output_type": "stream",
          "text": [
            "/usr/local/lib/python3.10/dist-packages/sklearn/metrics/_classification.py:1531: UndefinedMetricWarning: Precision is ill-defined and being set to 0.0 in labels with no predicted samples. Use `zero_division` parameter to control this behavior.\n",
            "  _warn_prf(average, modifier, f\"{metric.capitalize()} is\", len(result))\n",
            "/usr/local/lib/python3.10/dist-packages/sklearn/metrics/_classification.py:1531: UndefinedMetricWarning: Precision is ill-defined and being set to 0.0 in labels with no predicted samples. Use `zero_division` parameter to control this behavior.\n",
            "  _warn_prf(average, modifier, f\"{metric.capitalize()} is\", len(result))\n",
            "/usr/local/lib/python3.10/dist-packages/sklearn/metrics/_classification.py:1531: UndefinedMetricWarning: Precision is ill-defined and being set to 0.0 in labels with no predicted samples. Use `zero_division` parameter to control this behavior.\n",
            "  _warn_prf(average, modifier, f\"{metric.capitalize()} is\", len(result))\n"
          ]
        }
      ],
      "source": [
        "# SVM with TF-IDF\n",
        "clf = SVC(kernel='linear')  # You can explore other kernels as well\n",
        "clf.fit(TX_train, Ty_train)\n",
        "Ty_pred = clf.predict(TX_test)\n",
        "print(f'\\nSVM with TF-IDF Accuracy: {accuracy_score(Ty_test, Ty_pred)}')\n",
        "print(classification_report(Ty_test, Ty_pred))\n",
        "\n",
        "# SVM with FastText\n",
        "clf.fit(X_train, y_train)\n",
        "y_pred = clf.predict(X_test)\n",
        "print(f'\\nSVM with FastText Accuracy: {accuracy_score(y_test, y_pred)}')\n",
        "print(classification_report(y_test, y_pred))\n",
        "\n",
        "# SVM with Word2Vec\n",
        "svm_model = SVC(kernel='linear')\n",
        "svm_model.fit(WX_train, Wy_train)\n",
        "yw_pred = svm_model.predict(WX_test)\n",
        "print(f'\\nSVM with Word2Vec Accuracy: {accuracy_score(Wy_test, y_pred)}')\n",
        "print(classification_report(Wy_test, yw_pred))\n"
      ]
    },
    {
      "cell_type": "markdown",
      "metadata": {
        "id": "z2EDdTgXWk-w"
      },
      "source": [
        "KNN Model Training and Evaluation"
      ]
    },
    {
      "cell_type": "code",
      "execution_count": null,
      "metadata": {
        "colab": {
          "background_save": true
        },
        "id": "WeQAtUAKWnFS",
        "outputId": "3cf14ba2-5fce-4f74-c05e-1e32420a6cf0"
      },
      "outputs": [
        {
          "name": "stdout",
          "output_type": "stream",
          "text": [
            "\n",
            "KNN with FastText Accuracy: 0.7481502561183836\n",
            "              precision    recall  f1-score   support\n",
            "\n",
            "       angry       0.18      0.20      0.19       130\n",
            "        fear       0.13      0.10      0.12        29\n",
            "       happy       0.45      0.37      0.40      1197\n",
            "          no       0.81      0.89      0.85      7605\n",
            "         sad       0.61      0.42      0.50      1581\n",
            "\n",
            "    accuracy                           0.75     10542\n",
            "   macro avg       0.44      0.40      0.41     10542\n",
            "weighted avg       0.73      0.75      0.74     10542\n",
            "\n",
            "\n",
            "KNN with TF-IDF Accuracy: 0.7403718459495352\n",
            "              precision    recall  f1-score   support\n",
            "\n",
            "       angry       0.41      0.17      0.24       130\n",
            "        fear       0.26      0.28      0.27        29\n",
            "       happy       0.42      0.31      0.36      1197\n",
            "          no       0.78      0.92      0.85      7605\n",
            "         sad       0.64      0.24      0.35      1581\n",
            "\n",
            "    accuracy                           0.74     10542\n",
            "   macro avg       0.50      0.38      0.41     10542\n",
            "weighted avg       0.71      0.74      0.71     10542\n",
            "\n",
            "\n",
            "KNN with Word2Vec Accuracy: 0.7214001138303927\n"
          ]
        },
        {
          "name": "stderr",
          "output_type": "stream",
          "text": [
            "/usr/local/lib/python3.10/dist-packages/sklearn/metrics/_classification.py:1531: UndefinedMetricWarning: Precision is ill-defined and being set to 0.0 in labels with no predicted samples. Use `zero_division` parameter to control this behavior.\n",
            "  _warn_prf(average, modifier, f\"{metric.capitalize()} is\", len(result))\n"
          ]
        },
        {
          "name": "stdout",
          "output_type": "stream",
          "text": [
            "              precision    recall  f1-score   support\n",
            "\n",
            "       angry       0.00      0.00      0.00       130\n",
            "        fear       0.00      0.00      0.00        29\n",
            "       happy       0.00      0.00      0.00      1197\n",
            "          no       0.72      1.00      0.84      7605\n",
            "         sad       0.00      0.00      0.00      1581\n",
            "\n",
            "    accuracy                           0.72     10542\n",
            "   macro avg       0.14      0.20      0.17     10542\n",
            "weighted avg       0.52      0.72      0.60     10542\n",
            "\n"
          ]
        },
        {
          "name": "stderr",
          "output_type": "stream",
          "text": [
            "/usr/local/lib/python3.10/dist-packages/sklearn/metrics/_classification.py:1531: UndefinedMetricWarning: Precision is ill-defined and being set to 0.0 in labels with no predicted samples. Use `zero_division` parameter to control this behavior.\n",
            "  _warn_prf(average, modifier, f\"{metric.capitalize()} is\", len(result))\n",
            "/usr/local/lib/python3.10/dist-packages/sklearn/metrics/_classification.py:1531: UndefinedMetricWarning: Precision is ill-defined and being set to 0.0 in labels with no predicted samples. Use `zero_division` parameter to control this behavior.\n",
            "  _warn_prf(average, modifier, f\"{metric.capitalize()} is\", len(result))\n"
          ]
        }
      ],
      "source": [
        "# KNN with FastText\n",
        "knn_classifier = KNeighborsClassifier(n_neighbors=5)\n",
        "knn_classifier.fit(X_train, y_train)\n",
        "y_pred = knn_classifier.predict(X_test)\n",
        "print(f'\\nKNN with FastText Accuracy: {accuracy_score(y_test, y_pred)}')\n",
        "print(classification_report(y_test, y_pred))\n",
        "\n",
        "# KNN with TF-IDF\n",
        "knn_classifier.fit(TX_train, Ty_train)\n",
        "Ty_pred = knn_classifier.predict(TX_test)\n",
        "print(f'\\nKNN with TF-IDF Accuracy: {accuracy_score(Ty_test, Ty_pred)}')\n",
        "print(classification_report(Ty_test, Ty_pred))\n",
        "\n",
        "# KNN with Word2Vec\n",
        "knn_classifier.fit(WX_train, Wy_train)\n",
        "y_pred = knn_classifier.predict(WX_test)\n",
        "print(f'\\nKNN with Word2Vec Accuracy: {accuracy_score(Wy_test, y_pred)}')\n",
        "print(classification_report(Wy_test, y_pred))\n"
      ]
    },
    {
      "cell_type": "markdown",
      "metadata": {
        "id": "F7E3zoihWrVO"
      },
      "source": [
        "Logistic Regression Model Training and Evaluation"
      ]
    },
    {
      "cell_type": "code",
      "execution_count": null,
      "metadata": {
        "colab": {
          "background_save": true
        },
        "id": "F1Z2oP4TWtFE",
        "outputId": "f1647a65-dafc-4481-dbff-ebd56e1799ca"
      },
      "outputs": [
        {
          "name": "stderr",
          "output_type": "stream",
          "text": [
            "/usr/local/lib/python3.10/dist-packages/sklearn/linear_model/_logistic.py:469: ConvergenceWarning: lbfgs failed to converge (status=1):\n",
            "STOP: TOTAL NO. of ITERATIONS REACHED LIMIT.\n",
            "\n",
            "Increase the number of iterations (max_iter) or scale the data as shown in:\n",
            "    https://scikit-learn.org/stable/modules/preprocessing.html\n",
            "Please also refer to the documentation for alternative solver options:\n",
            "    https://scikit-learn.org/stable/modules/linear_model.html#logistic-regression\n",
            "  n_iter_i = _check_optimize_result(\n",
            "/usr/local/lib/python3.10/dist-packages/sklearn/metrics/_classification.py:1531: UndefinedMetricWarning: Precision is ill-defined and being set to 0.0 in labels with no predicted samples. Use `zero_division` parameter to control this behavior.\n",
            "  _warn_prf(average, modifier, f\"{metric.capitalize()} is\", len(result))\n"
          ]
        },
        {
          "name": "stdout",
          "output_type": "stream",
          "text": [
            "\n",
            "Logistic Regression with FastText Accuracy: 0.7355340542591539\n"
          ]
        },
        {
          "name": "stderr",
          "output_type": "stream",
          "text": [
            "/usr/local/lib/python3.10/dist-packages/sklearn/metrics/_classification.py:1531: UndefinedMetricWarning: Precision is ill-defined and being set to 0.0 in labels with no predicted samples. Use `zero_division` parameter to control this behavior.\n",
            "  _warn_prf(average, modifier, f\"{metric.capitalize()} is\", len(result))\n",
            "/usr/local/lib/python3.10/dist-packages/sklearn/metrics/_classification.py:1531: UndefinedMetricWarning: Precision is ill-defined and being set to 0.0 in labels with no predicted samples. Use `zero_division` parameter to control this behavior.\n",
            "  _warn_prf(average, modifier, f\"{metric.capitalize()} is\", len(result))\n"
          ]
        },
        {
          "name": "stdout",
          "output_type": "stream",
          "text": [
            "              precision    recall  f1-score   support\n",
            "\n",
            "       angry       0.25      0.01      0.01       130\n",
            "        fear       0.00      0.00      0.00        29\n",
            "       happy       0.51      0.09      0.15      1197\n",
            "          no       0.75      0.96      0.84      7605\n",
            "         sad       0.58      0.22      0.31      1581\n",
            "\n",
            "    accuracy                           0.74     10542\n",
            "   macro avg       0.42      0.25      0.26     10542\n",
            "weighted avg       0.69      0.74      0.67     10542\n",
            "\n"
          ]
        },
        {
          "name": "stderr",
          "output_type": "stream",
          "text": [
            "/usr/local/lib/python3.10/dist-packages/sklearn/linear_model/_logistic.py:469: ConvergenceWarning: lbfgs failed to converge (status=1):\n",
            "STOP: TOTAL NO. of ITERATIONS REACHED LIMIT.\n",
            "\n",
            "Increase the number of iterations (max_iter) or scale the data as shown in:\n",
            "    https://scikit-learn.org/stable/modules/preprocessing.html\n",
            "Please also refer to the documentation for alternative solver options:\n",
            "    https://scikit-learn.org/stable/modules/linear_model.html#logistic-regression\n",
            "  n_iter_i = _check_optimize_result(\n"
          ]
        },
        {
          "name": "stdout",
          "output_type": "stream",
          "text": [
            "\n",
            "Logistic Regression with TF-IDF Accuracy: 0.7472016695124265\n",
            "              precision    recall  f1-score   support\n",
            "\n",
            "       angry       0.59      0.08      0.14       130\n",
            "        fear       1.00      0.17      0.29        29\n",
            "       happy       0.57      0.12      0.19      1197\n",
            "          no       0.76      0.97      0.85      7605\n",
            "         sad       0.66      0.22      0.33      1581\n",
            "\n",
            "    accuracy                           0.75     10542\n",
            "   macro avg       0.72      0.31      0.36     10542\n",
            "weighted avg       0.72      0.75      0.69     10542\n",
            "\n",
            "\n",
            "Logistic Regression with Word2Vec Accuracy: 0.7214001138303927\n"
          ]
        },
        {
          "name": "stderr",
          "output_type": "stream",
          "text": [
            "/usr/local/lib/python3.10/dist-packages/sklearn/metrics/_classification.py:1531: UndefinedMetricWarning: Precision is ill-defined and being set to 0.0 in labels with no predicted samples. Use `zero_division` parameter to control this behavior.\n",
            "  _warn_prf(average, modifier, f\"{metric.capitalize()} is\", len(result))\n",
            "/usr/local/lib/python3.10/dist-packages/sklearn/metrics/_classification.py:1531: UndefinedMetricWarning: Precision is ill-defined and being set to 0.0 in labels with no predicted samples. Use `zero_division` parameter to control this behavior.\n",
            "  _warn_prf(average, modifier, f\"{metric.capitalize()} is\", len(result))\n"
          ]
        },
        {
          "name": "stdout",
          "output_type": "stream",
          "text": [
            "              precision    recall  f1-score   support\n",
            "\n",
            "       angry       0.00      0.00      0.00       130\n",
            "        fear       0.00      0.00      0.00        29\n",
            "       happy       0.00      0.00      0.00      1197\n",
            "          no       0.72      1.00      0.84      7605\n",
            "         sad       0.00      0.00      0.00      1581\n",
            "\n",
            "    accuracy                           0.72     10542\n",
            "   macro avg       0.14      0.20      0.17     10542\n",
            "weighted avg       0.52      0.72      0.60     10542\n",
            "\n"
          ]
        },
        {
          "name": "stderr",
          "output_type": "stream",
          "text": [
            "/usr/local/lib/python3.10/dist-packages/sklearn/metrics/_classification.py:1531: UndefinedMetricWarning: Precision is ill-defined and being set to 0.0 in labels with no predicted samples. Use `zero_division` parameter to control this behavior.\n",
            "  _warn_prf(average, modifier, f\"{metric.capitalize()} is\", len(result))\n"
          ]
        }
      ],
      "source": [
        "# Logistic Regression with FastText\n",
        "logreg_classifier = LogisticRegression()\n",
        "logreg_classifier.fit(X_train, y_train)\n",
        "y_pred = logreg_classifier.predict(X_test)\n",
        "print(f'\\nLogistic Regression with FastText Accuracy: {accuracy_score(y_test, y_pred)}')\n",
        "print(classification_report(y_test, y_pred))\n",
        "\n",
        "# Logistic Regression with TF-IDF\n",
        "logreg_classifier.fit(TX_train, Ty_train)\n",
        "Ty_pred = logreg_classifier.predict(TX_test)\n",
        "print(f'\\nLogistic Regression with TF-IDF Accuracy: {accuracy_score(Ty_test, Ty_pred)}')\n",
        "print(classification_report(Ty_test, Ty_pred))\n",
        "\n",
        "# Logistic Regression with Word2Vec\n",
        "logreg_classifier.fit(WX_train, Wy_train)\n",
        "Wy_pred = logreg_classifier.predict(WX_test)\n",
        "print(f'\\nLogistic Regression with Word2Vec Accuracy: {accuracy_score(Wy_test, Wy_pred)}')\n",
        "print(classification_report(Wy_test, Wy_pred))\n"
      ]
    },
    {
      "cell_type": "markdown",
      "metadata": {
        "id": "P_nUS1CcXBJP"
      },
      "source": [
        "Decision Tree Model Training and Evaluation"
      ]
    },
    {
      "cell_type": "code",
      "execution_count": null,
      "metadata": {
        "colab": {
          "background_save": true
        },
        "id": "_voeNZlPXBwe",
        "outputId": "bdf211e5-fbab-45fb-b5f3-3ebffa2bfd5a"
      },
      "outputs": [
        {
          "name": "stdout",
          "output_type": "stream",
          "text": [
            "\n",
            "Decision Tree with FastText Accuracy: 0.8890153671030165\n",
            "              precision    recall  f1-score   support\n",
            "\n",
            "       angry       0.72      0.75      0.74       130\n",
            "        fear       0.68      0.86      0.76        29\n",
            "       happy       0.77      0.82      0.79      1197\n",
            "          no       0.94      0.92      0.93      7605\n",
            "         sad       0.78      0.80      0.79      1581\n",
            "\n",
            "    accuracy                           0.89     10542\n",
            "   macro avg       0.78      0.83      0.80     10542\n",
            "weighted avg       0.89      0.89      0.89     10542\n",
            "\n",
            "\n",
            "Decision Tree with TF-IDF Accuracy: 0.8981217985202049\n",
            "              precision    recall  f1-score   support\n",
            "\n",
            "       angry       0.84      0.77      0.80       130\n",
            "        fear       0.78      0.86      0.82        29\n",
            "       happy       0.80      0.77      0.78      1197\n",
            "          no       0.92      0.95      0.94      7605\n",
            "         sad       0.84      0.77      0.81      1581\n",
            "\n",
            "    accuracy                           0.90     10542\n",
            "   macro avg       0.84      0.82      0.83     10542\n",
            "weighted avg       0.90      0.90      0.90     10542\n",
            "\n",
            "\n",
            "Decision Tree with Word2Vec Accuracy: 0.7214001138303927\n"
          ]
        },
        {
          "name": "stderr",
          "output_type": "stream",
          "text": [
            "/usr/local/lib/python3.10/dist-packages/sklearn/metrics/_classification.py:1531: UndefinedMetricWarning: Precision is ill-defined and being set to 0.0 in labels with no predicted samples. Use `zero_division` parameter to control this behavior.\n",
            "  _warn_prf(average, modifier, f\"{metric.capitalize()} is\", len(result))\n",
            "/usr/local/lib/python3.10/dist-packages/sklearn/metrics/_classification.py:1531: UndefinedMetricWarning: Precision is ill-defined and being set to 0.0 in labels with no predicted samples. Use `zero_division` parameter to control this behavior.\n",
            "  _warn_prf(average, modifier, f\"{metric.capitalize()} is\", len(result))\n"
          ]
        },
        {
          "name": "stdout",
          "output_type": "stream",
          "text": [
            "              precision    recall  f1-score   support\n",
            "\n",
            "       angry       0.00      0.00      0.00       130\n",
            "        fear       0.00      0.00      0.00        29\n",
            "       happy       0.00      0.00      0.00      1197\n",
            "          no       0.72      1.00      0.84      7605\n",
            "         sad       0.00      0.00      0.00      1581\n",
            "\n",
            "    accuracy                           0.72     10542\n",
            "   macro avg       0.14      0.20      0.17     10542\n",
            "weighted avg       0.52      0.72      0.60     10542\n",
            "\n"
          ]
        },
        {
          "name": "stderr",
          "output_type": "stream",
          "text": [
            "/usr/local/lib/python3.10/dist-packages/sklearn/metrics/_classification.py:1531: UndefinedMetricWarning: Precision is ill-defined and being set to 0.0 in labels with no predicted samples. Use `zero_division` parameter to control this behavior.\n",
            "  _warn_prf(average, modifier, f\"{metric.capitalize()} is\", len(result))\n"
          ]
        }
      ],
      "source": [
        "# Decision Tree with FastText\n",
        "dt_classifier = DecisionTreeClassifier()\n",
        "dt_classifier.fit(X_train, y_train)\n",
        "y_pred = dt_classifier.predict(X_test)\n",
        "print(f'\\nDecision Tree with FastText Accuracy: {accuracy_score(y_test, y_pred)}')\n",
        "print(classification_report(y_test, y_pred))\n",
        "\n",
        "# Decision Tree with TF-IDF\n",
        "dt_classifier.fit(TX_train, Ty_train)\n",
        "Ty_pred = dt_classifier.predict(TX_test)\n",
        "print(f'\\nDecision Tree with TF-IDF Accuracy: {accuracy_score(Ty_test, Ty_pred)}')\n",
        "print(classification_report(Ty_test, Ty_pred))\n",
        "\n",
        "# Decision Tree with Word2Vec\n",
        "dt_classifier.fit(WX_train, Wy_train)\n",
        "Wy_pred = dt_classifier.predict(WX_test)\n",
        "print(f'\\nDecision Tree with Word2Vec Accuracy: {accuracy_score(Wy_test, Wy_pred)}')\n",
        "print(classification_report(Wy_test, Wy_pred))\n"
      ]
    },
    {
      "cell_type": "code",
      "execution_count": null,
      "metadata": {
        "colab": {
          "base_uri": "https://localhost:8080/"
        },
        "id": "593tbIP0F-0G",
        "outputId": "0c7d6d01-1c22-4036-ae38-6e471ef4c483"
      },
      "outputs": [
        {
          "output_type": "stream",
          "name": "stdout",
          "text": [
            "Mounted at /content/drive\n"
          ]
        }
      ],
      "source": [
        "from google.colab import drive\n",
        "drive.mount('/content/drive')"
      ]
    },
    {
      "cell_type": "markdown",
      "metadata": {
        "id": "_Ca__ODGXFzH"
      },
      "source": [
        "Naive Bayes Model Training and Evaluation"
      ]
    },
    {
      "cell_type": "code",
      "execution_count": null,
      "metadata": {
        "colab": {
          "background_save": true
        },
        "id": "jsPdTsWWXIci",
        "outputId": "51ded4f0-5278-4cf1-c0ff-1fc3022990c5"
      },
      "outputs": [
        {
          "name": "stdout",
          "output_type": "stream",
          "text": [
            "\n",
            "Naive Bayes with FastText Accuracy: 0.7214001138303927\n"
          ]
        },
        {
          "name": "stderr",
          "output_type": "stream",
          "text": [
            "/usr/local/lib/python3.10/dist-packages/sklearn/metrics/_classification.py:1531: UndefinedMetricWarning: Precision is ill-defined and being set to 0.0 in labels with no predicted samples. Use `zero_division` parameter to control this behavior.\n",
            "  _warn_prf(average, modifier, f\"{metric.capitalize()} is\", len(result))\n",
            "/usr/local/lib/python3.10/dist-packages/sklearn/metrics/_classification.py:1531: UndefinedMetricWarning: Precision is ill-defined and being set to 0.0 in labels with no predicted samples. Use `zero_division` parameter to control this behavior.\n",
            "  _warn_prf(average, modifier, f\"{metric.capitalize()} is\", len(result))\n",
            "/usr/local/lib/python3.10/dist-packages/sklearn/metrics/_classification.py:1531: UndefinedMetricWarning: Precision is ill-defined and being set to 0.0 in labels with no predicted samples. Use `zero_division` parameter to control this behavior.\n",
            "  _warn_prf(average, modifier, f\"{metric.capitalize()} is\", len(result))\n"
          ]
        },
        {
          "name": "stdout",
          "output_type": "stream",
          "text": [
            "              precision    recall  f1-score   support\n",
            "\n",
            "       angry       0.00      0.00      0.00       130\n",
            "        fear       0.00      0.00      0.00        29\n",
            "       happy       0.00      0.00      0.00      1197\n",
            "          no       0.72      1.00      0.84      7605\n",
            "         sad       0.00      0.00      0.00      1581\n",
            "\n",
            "    accuracy                           0.72     10542\n",
            "   macro avg       0.14      0.20      0.17     10542\n",
            "weighted avg       0.52      0.72      0.60     10542\n",
            "\n",
            "\n",
            "Naive Bayes with TF-IDF Accuracy: 0.7429330297856195\n"
          ]
        },
        {
          "name": "stderr",
          "output_type": "stream",
          "text": [
            "/usr/local/lib/python3.10/dist-packages/sklearn/metrics/_classification.py:1531: UndefinedMetricWarning: Precision is ill-defined and being set to 0.0 in labels with no predicted samples. Use `zero_division` parameter to control this behavior.\n",
            "  _warn_prf(average, modifier, f\"{metric.capitalize()} is\", len(result))\n",
            "/usr/local/lib/python3.10/dist-packages/sklearn/metrics/_classification.py:1531: UndefinedMetricWarning: Precision is ill-defined and being set to 0.0 in labels with no predicted samples. Use `zero_division` parameter to control this behavior.\n",
            "  _warn_prf(average, modifier, f\"{metric.capitalize()} is\", len(result))\n",
            "/usr/local/lib/python3.10/dist-packages/sklearn/metrics/_classification.py:1531: UndefinedMetricWarning: Precision is ill-defined and being set to 0.0 in labels with no predicted samples. Use `zero_division` parameter to control this behavior.\n",
            "  _warn_prf(average, modifier, f\"{metric.capitalize()} is\", len(result))\n"
          ]
        },
        {
          "name": "stdout",
          "output_type": "stream",
          "text": [
            "              precision    recall  f1-score   support\n",
            "\n",
            "       angry       0.43      0.02      0.04       130\n",
            "        fear       0.00      0.00      0.00        29\n",
            "       happy       0.71      0.06      0.12      1197\n",
            "          no       0.74      0.99      0.85      7605\n",
            "         sad       0.74      0.15      0.25      1581\n",
            "\n",
            "    accuracy                           0.74     10542\n",
            "   macro avg       0.53      0.24      0.25     10542\n",
            "weighted avg       0.73      0.74      0.66     10542\n",
            "\n",
            "\n",
            "Naive Bayes with Word2Vec Accuracy: 0.7214001138303927\n",
            "              precision    recall  f1-score   support\n",
            "\n",
            "       angry       0.00      0.00      0.00       130\n",
            "        fear       0.00      0.00      0.00        29\n",
            "       happy       0.00      0.00      0.00      1197\n",
            "          no       0.72      1.00      0.84      7605\n",
            "         sad       0.00      0.00      0.00      1581\n",
            "\n",
            "    accuracy                           0.72     10542\n",
            "   macro avg       0.14      0.20      0.17     10542\n",
            "weighted avg       0.52      0.72      0.60     10542\n",
            "\n"
          ]
        },
        {
          "name": "stderr",
          "output_type": "stream",
          "text": [
            "/usr/local/lib/python3.10/dist-packages/sklearn/metrics/_classification.py:1531: UndefinedMetricWarning: Precision is ill-defined and being set to 0.0 in labels with no predicted samples. Use `zero_division` parameter to control this behavior.\n",
            "  _warn_prf(average, modifier, f\"{metric.capitalize()} is\", len(result))\n",
            "/usr/local/lib/python3.10/dist-packages/sklearn/metrics/_classification.py:1531: UndefinedMetricWarning: Precision is ill-defined and being set to 0.0 in labels with no predicted samples. Use `zero_division` parameter to control this behavior.\n",
            "  _warn_prf(average, modifier, f\"{metric.capitalize()} is\", len(result))\n",
            "/usr/local/lib/python3.10/dist-packages/sklearn/metrics/_classification.py:1531: UndefinedMetricWarning: Precision is ill-defined and being set to 0.0 in labels with no predicted samples. Use `zero_division` parameter to control this behavior.\n",
            "  _warn_prf(average, modifier, f\"{metric.capitalize()} is\", len(result))\n"
          ]
        }
      ],
      "source": [
        "# Naive Bayes with FastText\n",
        "scaler = MinMaxScaler()\n",
        "X_train_scaled = scaler.fit_transform(X_train)\n",
        "X_test_scaled = scaler.transform(X_test)\n",
        "nb_classifier = MultinomialNB()\n",
        "nb_classifier.fit(X_train_scaled, y_train)\n",
        "y_pred = nb_classifier.predict(X_test_scaled)\n",
        "print(f'\\nNaive Bayes with FastText Accuracy: {accuracy_score(y_test, y_pred)}')\n",
        "print(classification_report(y_test, y_pred))\n",
        "\n",
        "# Naive Bayes with TF-IDF\n",
        "scaler = MaxAbsScaler()\n",
        "X_train_scaled = scaler.fit_transform(TX_train)\n",
        "X_test_scaled = scaler.transform(TX_test)\n",
        "nb_classifier.fit(X_train_scaled, Ty_train)\n",
        "Ty_pred = nb_classifier.predict(X_test_scaled)\n",
        "print(f'\\nNaive Bayes with TF-IDF Accuracy: {accuracy_score(Ty_test, Ty_pred)}')\n",
        "print(classification_report(Ty_test, Ty_pred))\n",
        "\n",
        "# Naive Bayes with Word2Vec\n",
        "scaler = MinMaxScaler()\n",
        "WX_train_scaled = scaler.fit_transform(WX_train)\n",
        "WX_test_scaled = scaler.transform(WX_test)\n",
        "nb_classifier.fit(WX_train_scaled, Wy_train)\n",
        "Wy_pred = nb_classifier.predict(WX_test_scaled)\n",
        "print(f'\\nNaive Bayes with Word2Vec Accuracy: {accuracy_score(Wy_test, Wy_pred)}')\n",
        "print(classification_report(Wy_test, Wy_pred))\n"
      ]
    },
    {
      "cell_type": "markdown",
      "metadata": {
        "id": "axApkQYSXMVp"
      },
      "source": [
        "Random Forest Model Training and Evaluation"
      ]
    },
    {
      "cell_type": "code",
      "execution_count": null,
      "metadata": {
        "colab": {
          "background_save": true
        },
        "id": "PLAFFq2qXO_i",
        "outputId": "e839f573-8af1-4454-ef1c-07e69f81e2dd"
      },
      "outputs": [
        {
          "name": "stdout",
          "output_type": "stream",
          "text": [
            "\n",
            "Random Forest with FastText Accuracy: 0.9299943084803642\n",
            "              precision    recall  f1-score   support\n",
            "\n",
            "       angry       0.97      0.75      0.84       130\n",
            "        fear       0.93      0.86      0.89        29\n",
            "       happy       0.98      0.77      0.86      1197\n",
            "          no       0.92      0.99      0.95      7605\n",
            "         sad       0.98      0.76      0.85      1581\n",
            "\n",
            "    accuracy                           0.93     10542\n",
            "   macro avg       0.95      0.83      0.88     10542\n",
            "weighted avg       0.93      0.93      0.93     10542\n",
            "\n",
            "\n",
            "Random Forest with TF-IDF Accuracy: 0.9168089546575602\n",
            "              precision    recall  f1-score   support\n",
            "\n",
            "       angry       0.95      0.75      0.84       130\n",
            "        fear       0.89      0.86      0.88        29\n",
            "       happy       0.93      0.74      0.82      1197\n",
            "          no       0.91      0.98      0.95      7605\n",
            "         sad       0.94      0.75      0.84      1581\n",
            "\n",
            "    accuracy                           0.92     10542\n",
            "   macro avg       0.92      0.82      0.86     10542\n",
            "weighted avg       0.92      0.92      0.91     10542\n",
            "\n",
            "\n",
            "Random Forest with Word2Vec Accuracy: 0.7214001138303927\n",
            "              precision    recall  f1-score   support\n",
            "\n",
            "       angry       0.00      0.00      0.00       130\n",
            "        fear       0.00      0.00      0.00        29\n",
            "       happy       0.00      0.00      0.00      1197\n",
            "          no       0.72      1.00      0.84      7605\n",
            "         sad       0.00      0.00      0.00      1581\n",
            "\n",
            "    accuracy                           0.72     10542\n",
            "   macro avg       0.14      0.20      0.17     10542\n",
            "weighted avg       0.52      0.72      0.60     10542\n",
            "\n"
          ]
        },
        {
          "name": "stderr",
          "output_type": "stream",
          "text": [
            "/usr/local/lib/python3.10/dist-packages/sklearn/metrics/_classification.py:1531: UndefinedMetricWarning: Precision is ill-defined and being set to 0.0 in labels with no predicted samples. Use `zero_division` parameter to control this behavior.\n",
            "  _warn_prf(average, modifier, f\"{metric.capitalize()} is\", len(result))\n",
            "/usr/local/lib/python3.10/dist-packages/sklearn/metrics/_classification.py:1531: UndefinedMetricWarning: Precision is ill-defined and being set to 0.0 in labels with no predicted samples. Use `zero_division` parameter to control this behavior.\n",
            "  _warn_prf(average, modifier, f\"{metric.capitalize()} is\", len(result))\n",
            "/usr/local/lib/python3.10/dist-packages/sklearn/metrics/_classification.py:1531: UndefinedMetricWarning: Precision is ill-defined and being set to 0.0 in labels with no predicted samples. Use `zero_division` parameter to control this behavior.\n",
            "  _warn_prf(average, modifier, f\"{metric.capitalize()} is\", len(result))\n"
          ]
        }
      ],
      "source": [
        "# Random Forest with FastText\n",
        "rf_classifier = RandomForestClassifier(n_estimators=100)\n",
        "rf_classifier.fit(X_train, y_train)\n",
        "y_pred = rf_classifier.predict(X_test)\n",
        "print(f'\\nRandom Forest with FastText Accuracy: {accuracy_score(y_test, y_pred)}')\n",
        "print(classification_report(y_test, y_pred))\n",
        "\n",
        "# Random Forest with TF-IDF\n",
        "rf_classifier.fit(TX_train, Ty_train)\n",
        "Ty_pred = rf_classifier.predict(TX_test)\n",
        "print(f'\\nRandom Forest with TF-IDF Accuracy: {accuracy_score(Ty_test, Ty_pred)}')\n",
        "print(classification_report(Ty_test, Ty_pred))\n",
        "\n",
        "# Random Forest with Word2Vec\n",
        "rf_classifier.fit(WX_train, Wy_train)\n",
        "Wy_pred = rf_classifier.predict(WX_test)\n",
        "print(f'\\nRandom Forest with Word2Vec Accuracy: {accuracy_score(Wy_test, Wy_pred)}')\n",
        "print(classification_report(Wy_test, Wy_pred))\n"
      ]
    }
  ],
  "metadata": {
    "colab": {
      "provenance": [],
      "include_colab_link": true
    },
    "kernelspec": {
      "display_name": "Python 3",
      "name": "python3"
    },
    "language_info": {
      "name": "python"
    }
  },
  "nbformat": 4,
  "nbformat_minor": 0
}