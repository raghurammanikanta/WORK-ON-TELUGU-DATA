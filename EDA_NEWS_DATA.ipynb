{
  "nbformat": 4,
  "nbformat_minor": 0,
  "metadata": {
    "colab": {
      "provenance": [],
      "toc_visible": true,
      "mount_file_id": "1QphJuSO1OSjxH7lVPIHgGJqzPOHadur3",
      "authorship_tag": "ABX9TyMw0ENHeKGGRiCZWYLYXTdx",
      "include_colab_link": true
    },
    "kernelspec": {
      "name": "python3",
      "display_name": "Python 3"
    },
    "language_info": {
      "name": "python"
    }
  },
  "cells": [
    {
      "cell_type": "markdown",
      "metadata": {
        "id": "view-in-github",
        "colab_type": "text"
      },
      "source": [
        "<a href=\"https://colab.research.google.com/github/raghurammanikanta/WORK-ON-TELUGU-DATA/blob/main/EDA_NEWS_DATA.ipynb\" target=\"_parent\"><img src=\"https://colab.research.google.com/assets/colab-badge.svg\" alt=\"Open In Colab\"/></a>"
      ]
    },
    {
      "cell_type": "markdown",
      "source": [
        "# ***Importing the libraries we need***"
      ],
      "metadata": {
        "id": "vg5VuzteqwI_"
      }
    },
    {
      "cell_type": "code",
      "execution_count": null,
      "metadata": {
        "id": "vvXquvC1qsG8"
      },
      "outputs": [],
      "source": [
        "import pandas as pd\n",
        "import matplotlib.pyplot as plt\n",
        "import seaborn as sns\n",
        "from collections import Counter\n",
        "import nltk\n",
        "from nltk.tokenize import word_tokenize"
      ]
    },
    {
      "cell_type": "markdown",
      "source": [
        "# ***Loading the dataset***"
      ],
      "metadata": {
        "id": "byB1j_3Kq5do"
      }
    },
    {
      "cell_type": "code",
      "source": [
        "df=pd.read_csv('/content/drive/MyDrive/news dataset/TELUGU_NEWS_TEST (1).csv')\n",
        "df.head()"
      ],
      "metadata": {
        "colab": {
          "base_uri": "https://localhost:8080/",
          "height": 379
        },
        "id": "K4QCemkGq3AA",
        "outputId": "fccf77d5-ffcb-4638-dcbd-ab84459c69be"
      },
      "execution_count": null,
      "outputs": [
        {
          "output_type": "execute_result",
          "data": {
            "text/plain": [
              "     SNo                 date  \\\n",
              "0   7771  19-05-2017 13:44:10   \n",
              "1   9591  01-08-2017 13:58:24   \n",
              "2  12622  05-04-2017 00:31:58   \n",
              "3  16401  30-08-2017 03:34:37   \n",
              "4  10422  10-04-2017 09:00:48   \n",
              "\n",
              "                                             heading  \\\n",
              "0                                               కేశవ   \n",
              "1  డబ్బుల కోసం ప్రాణాల మీదకు తెచ్చుకుంటారా.. హీరో...   \n",
              "2                    దక్షిణాదిన బీజేపీ పప్పులుడకవ్‌    \n",
              "3                 పీఎస్‌ఎల్వీ-సీ39కి గ్రీన్‌సిగ్నల్‌   \n",
              "4  ఏయ్ జయప్రకాష్ అనే కేక వినిపించింది.. వెనక్కి త...   \n",
              "\n",
              "                                                body          topic  \n",
              "0  హీరోగా తెలుగు సినిమాల్లోకి ఎంట్రీ ఇచ్చిన నిఖిల...  entertainment  \n",
              "1   సినిమాల్లో యాక్షన్ స్టంట్లు చేసేటప్పుడు ఎక్కు...  entertainment  \n",
              "2  దక్షిణ భారతాన్ని ఆక్రమించేందుకు బీజేపీ పంచెలు ...         nation  \n",
              "3   నేటి మధ్యాహ్నం 1.59కి కౌంట్‌డౌన్‌ షురూశ్రీహరి...         nation  \n",
              "4   ‘ఏమి రా... అబ్బి... యాడికి పోయినావు’ అంటూ రాయ...  entertainment  "
            ],
            "text/html": [
              "\n",
              "  <div id=\"df-2d5b8f20-96d4-461e-b8e4-e81a1ba301b4\" class=\"colab-df-container\">\n",
              "    <div>\n",
              "<style scoped>\n",
              "    .dataframe tbody tr th:only-of-type {\n",
              "        vertical-align: middle;\n",
              "    }\n",
              "\n",
              "    .dataframe tbody tr th {\n",
              "        vertical-align: top;\n",
              "    }\n",
              "\n",
              "    .dataframe thead th {\n",
              "        text-align: right;\n",
              "    }\n",
              "</style>\n",
              "<table border=\"1\" class=\"dataframe\">\n",
              "  <thead>\n",
              "    <tr style=\"text-align: right;\">\n",
              "      <th></th>\n",
              "      <th>SNo</th>\n",
              "      <th>date</th>\n",
              "      <th>heading</th>\n",
              "      <th>body</th>\n",
              "      <th>topic</th>\n",
              "    </tr>\n",
              "  </thead>\n",
              "  <tbody>\n",
              "    <tr>\n",
              "      <th>0</th>\n",
              "      <td>7771</td>\n",
              "      <td>19-05-2017 13:44:10</td>\n",
              "      <td>కేశవ</td>\n",
              "      <td>హీరోగా తెలుగు సినిమాల్లోకి ఎంట్రీ ఇచ్చిన నిఖిల...</td>\n",
              "      <td>entertainment</td>\n",
              "    </tr>\n",
              "    <tr>\n",
              "      <th>1</th>\n",
              "      <td>9591</td>\n",
              "      <td>01-08-2017 13:58:24</td>\n",
              "      <td>డబ్బుల కోసం ప్రాణాల మీదకు తెచ్చుకుంటారా.. హీరో...</td>\n",
              "      <td>సినిమాల్లో యాక్షన్ స్టంట్లు చేసేటప్పుడు ఎక్కు...</td>\n",
              "      <td>entertainment</td>\n",
              "    </tr>\n",
              "    <tr>\n",
              "      <th>2</th>\n",
              "      <td>12622</td>\n",
              "      <td>05-04-2017 00:31:58</td>\n",
              "      <td>దక్షిణాదిన బీజేపీ పప్పులుడకవ్‌</td>\n",
              "      <td>దక్షిణ భారతాన్ని ఆక్రమించేందుకు బీజేపీ పంచెలు ...</td>\n",
              "      <td>nation</td>\n",
              "    </tr>\n",
              "    <tr>\n",
              "      <th>3</th>\n",
              "      <td>16401</td>\n",
              "      <td>30-08-2017 03:34:37</td>\n",
              "      <td>పీఎస్‌ఎల్వీ-సీ39కి గ్రీన్‌సిగ్నల్‌</td>\n",
              "      <td>నేటి మధ్యాహ్నం 1.59కి కౌంట్‌డౌన్‌ షురూశ్రీహరి...</td>\n",
              "      <td>nation</td>\n",
              "    </tr>\n",
              "    <tr>\n",
              "      <th>4</th>\n",
              "      <td>10422</td>\n",
              "      <td>10-04-2017 09:00:48</td>\n",
              "      <td>ఏయ్ జయప్రకాష్ అనే కేక వినిపించింది.. వెనక్కి త...</td>\n",
              "      <td>‘ఏమి రా... అబ్బి... యాడికి పోయినావు’ అంటూ రాయ...</td>\n",
              "      <td>entertainment</td>\n",
              "    </tr>\n",
              "  </tbody>\n",
              "</table>\n",
              "</div>\n",
              "    <div class=\"colab-df-buttons\">\n",
              "\n",
              "  <div class=\"colab-df-container\">\n",
              "    <button class=\"colab-df-convert\" onclick=\"convertToInteractive('df-2d5b8f20-96d4-461e-b8e4-e81a1ba301b4')\"\n",
              "            title=\"Convert this dataframe to an interactive table.\"\n",
              "            style=\"display:none;\">\n",
              "\n",
              "  <svg xmlns=\"http://www.w3.org/2000/svg\" height=\"24px\" viewBox=\"0 -960 960 960\">\n",
              "    <path d=\"M120-120v-720h720v720H120Zm60-500h600v-160H180v160Zm220 220h160v-160H400v160Zm0 220h160v-160H400v160ZM180-400h160v-160H180v160Zm440 0h160v-160H620v160ZM180-180h160v-160H180v160Zm440 0h160v-160H620v160Z\"/>\n",
              "  </svg>\n",
              "    </button>\n",
              "\n",
              "  <style>\n",
              "    .colab-df-container {\n",
              "      display:flex;\n",
              "      gap: 12px;\n",
              "    }\n",
              "\n",
              "    .colab-df-convert {\n",
              "      background-color: #E8F0FE;\n",
              "      border: none;\n",
              "      border-radius: 50%;\n",
              "      cursor: pointer;\n",
              "      display: none;\n",
              "      fill: #1967D2;\n",
              "      height: 32px;\n",
              "      padding: 0 0 0 0;\n",
              "      width: 32px;\n",
              "    }\n",
              "\n",
              "    .colab-df-convert:hover {\n",
              "      background-color: #E2EBFA;\n",
              "      box-shadow: 0px 1px 2px rgba(60, 64, 67, 0.3), 0px 1px 3px 1px rgba(60, 64, 67, 0.15);\n",
              "      fill: #174EA6;\n",
              "    }\n",
              "\n",
              "    .colab-df-buttons div {\n",
              "      margin-bottom: 4px;\n",
              "    }\n",
              "\n",
              "    [theme=dark] .colab-df-convert {\n",
              "      background-color: #3B4455;\n",
              "      fill: #D2E3FC;\n",
              "    }\n",
              "\n",
              "    [theme=dark] .colab-df-convert:hover {\n",
              "      background-color: #434B5C;\n",
              "      box-shadow: 0px 1px 3px 1px rgba(0, 0, 0, 0.15);\n",
              "      filter: drop-shadow(0px 1px 2px rgba(0, 0, 0, 0.3));\n",
              "      fill: #FFFFFF;\n",
              "    }\n",
              "  </style>\n",
              "\n",
              "    <script>\n",
              "      const buttonEl =\n",
              "        document.querySelector('#df-2d5b8f20-96d4-461e-b8e4-e81a1ba301b4 button.colab-df-convert');\n",
              "      buttonEl.style.display =\n",
              "        google.colab.kernel.accessAllowed ? 'block' : 'none';\n",
              "\n",
              "      async function convertToInteractive(key) {\n",
              "        const element = document.querySelector('#df-2d5b8f20-96d4-461e-b8e4-e81a1ba301b4');\n",
              "        const dataTable =\n",
              "          await google.colab.kernel.invokeFunction('convertToInteractive',\n",
              "                                                    [key], {});\n",
              "        if (!dataTable) return;\n",
              "\n",
              "        const docLinkHtml = 'Like what you see? Visit the ' +\n",
              "          '<a target=\"_blank\" href=https://colab.research.google.com/notebooks/data_table.ipynb>data table notebook</a>'\n",
              "          + ' to learn more about interactive tables.';\n",
              "        element.innerHTML = '';\n",
              "        dataTable['output_type'] = 'display_data';\n",
              "        await google.colab.output.renderOutput(dataTable, element);\n",
              "        const docLink = document.createElement('div');\n",
              "        docLink.innerHTML = docLinkHtml;\n",
              "        element.appendChild(docLink);\n",
              "      }\n",
              "    </script>\n",
              "  </div>\n",
              "\n",
              "\n",
              "<div id=\"df-e6e93f5a-afb8-425c-8f74-655398fbff21\">\n",
              "  <button class=\"colab-df-quickchart\" onclick=\"quickchart('df-e6e93f5a-afb8-425c-8f74-655398fbff21')\"\n",
              "            title=\"Suggest charts\"\n",
              "            style=\"display:none;\">\n",
              "\n",
              "<svg xmlns=\"http://www.w3.org/2000/svg\" height=\"24px\"viewBox=\"0 0 24 24\"\n",
              "     width=\"24px\">\n",
              "    <g>\n",
              "        <path d=\"M19 3H5c-1.1 0-2 .9-2 2v14c0 1.1.9 2 2 2h14c1.1 0 2-.9 2-2V5c0-1.1-.9-2-2-2zM9 17H7v-7h2v7zm4 0h-2V7h2v10zm4 0h-2v-4h2v4z\"/>\n",
              "    </g>\n",
              "</svg>\n",
              "  </button>\n",
              "\n",
              "<style>\n",
              "  .colab-df-quickchart {\n",
              "      --bg-color: #E8F0FE;\n",
              "      --fill-color: #1967D2;\n",
              "      --hover-bg-color: #E2EBFA;\n",
              "      --hover-fill-color: #174EA6;\n",
              "      --disabled-fill-color: #AAA;\n",
              "      --disabled-bg-color: #DDD;\n",
              "  }\n",
              "\n",
              "  [theme=dark] .colab-df-quickchart {\n",
              "      --bg-color: #3B4455;\n",
              "      --fill-color: #D2E3FC;\n",
              "      --hover-bg-color: #434B5C;\n",
              "      --hover-fill-color: #FFFFFF;\n",
              "      --disabled-bg-color: #3B4455;\n",
              "      --disabled-fill-color: #666;\n",
              "  }\n",
              "\n",
              "  .colab-df-quickchart {\n",
              "    background-color: var(--bg-color);\n",
              "    border: none;\n",
              "    border-radius: 50%;\n",
              "    cursor: pointer;\n",
              "    display: none;\n",
              "    fill: var(--fill-color);\n",
              "    height: 32px;\n",
              "    padding: 0;\n",
              "    width: 32px;\n",
              "  }\n",
              "\n",
              "  .colab-df-quickchart:hover {\n",
              "    background-color: var(--hover-bg-color);\n",
              "    box-shadow: 0 1px 2px rgba(60, 64, 67, 0.3), 0 1px 3px 1px rgba(60, 64, 67, 0.15);\n",
              "    fill: var(--button-hover-fill-color);\n",
              "  }\n",
              "\n",
              "  .colab-df-quickchart-complete:disabled,\n",
              "  .colab-df-quickchart-complete:disabled:hover {\n",
              "    background-color: var(--disabled-bg-color);\n",
              "    fill: var(--disabled-fill-color);\n",
              "    box-shadow: none;\n",
              "  }\n",
              "\n",
              "  .colab-df-spinner {\n",
              "    border: 2px solid var(--fill-color);\n",
              "    border-color: transparent;\n",
              "    border-bottom-color: var(--fill-color);\n",
              "    animation:\n",
              "      spin 1s steps(1) infinite;\n",
              "  }\n",
              "\n",
              "  @keyframes spin {\n",
              "    0% {\n",
              "      border-color: transparent;\n",
              "      border-bottom-color: var(--fill-color);\n",
              "      border-left-color: var(--fill-color);\n",
              "    }\n",
              "    20% {\n",
              "      border-color: transparent;\n",
              "      border-left-color: var(--fill-color);\n",
              "      border-top-color: var(--fill-color);\n",
              "    }\n",
              "    30% {\n",
              "      border-color: transparent;\n",
              "      border-left-color: var(--fill-color);\n",
              "      border-top-color: var(--fill-color);\n",
              "      border-right-color: var(--fill-color);\n",
              "    }\n",
              "    40% {\n",
              "      border-color: transparent;\n",
              "      border-right-color: var(--fill-color);\n",
              "      border-top-color: var(--fill-color);\n",
              "    }\n",
              "    60% {\n",
              "      border-color: transparent;\n",
              "      border-right-color: var(--fill-color);\n",
              "    }\n",
              "    80% {\n",
              "      border-color: transparent;\n",
              "      border-right-color: var(--fill-color);\n",
              "      border-bottom-color: var(--fill-color);\n",
              "    }\n",
              "    90% {\n",
              "      border-color: transparent;\n",
              "      border-bottom-color: var(--fill-color);\n",
              "    }\n",
              "  }\n",
              "</style>\n",
              "\n",
              "  <script>\n",
              "    async function quickchart(key) {\n",
              "      const quickchartButtonEl =\n",
              "        document.querySelector('#' + key + ' button');\n",
              "      quickchartButtonEl.disabled = true;  // To prevent multiple clicks.\n",
              "      quickchartButtonEl.classList.add('colab-df-spinner');\n",
              "      try {\n",
              "        const charts = await google.colab.kernel.invokeFunction(\n",
              "            'suggestCharts', [key], {});\n",
              "      } catch (error) {\n",
              "        console.error('Error during call to suggestCharts:', error);\n",
              "      }\n",
              "      quickchartButtonEl.classList.remove('colab-df-spinner');\n",
              "      quickchartButtonEl.classList.add('colab-df-quickchart-complete');\n",
              "    }\n",
              "    (() => {\n",
              "      let quickchartButtonEl =\n",
              "        document.querySelector('#df-e6e93f5a-afb8-425c-8f74-655398fbff21 button');\n",
              "      quickchartButtonEl.style.display =\n",
              "        google.colab.kernel.accessAllowed ? 'block' : 'none';\n",
              "    })();\n",
              "  </script>\n",
              "</div>\n",
              "\n",
              "    </div>\n",
              "  </div>\n"
            ],
            "application/vnd.google.colaboratory.intrinsic+json": {
              "type": "dataframe",
              "variable_name": "df",
              "summary": "{\n  \"name\": \"df\",\n  \"rows\": 4329,\n  \"fields\": [\n    {\n      \"column\": \"SNo\",\n      \"properties\": {\n        \"dtype\": \"number\",\n        \"std\": 6226,\n        \"min\": 10,\n        \"max\": 21640,\n        \"num_unique_values\": 4329,\n        \"samples\": [\n          6478,\n          14395,\n          13193\n        ],\n        \"semantic_type\": \"\",\n        \"description\": \"\"\n      }\n    },\n    {\n      \"column\": \"date\",\n      \"properties\": {\n        \"dtype\": \"object\",\n        \"num_unique_values\": 4329,\n        \"samples\": [\n          \"15-07-2017 11:05:36\",\n          \"08-07-2017 02:25:35\",\n          \"15-09-2017 03:15:26\"\n        ],\n        \"semantic_type\": \"\",\n        \"description\": \"\"\n      }\n    },\n    {\n      \"column\": \"heading\",\n      \"properties\": {\n        \"dtype\": \"string\",\n        \"num_unique_values\": 4323,\n        \"samples\": [\n          \"\\u0c1a\\u0c3f\\u0c30\\u0c41\\u0c15\\u0c41 \\u0c15\\u0c4b\\u0c2a\\u0c02 \\u0c24\\u0c46\\u0c2a\\u0c4d\\u0c2a\\u0c3f\\u0c02\\u0c1a\\u0c3f\\u0c28 \\u0c2a\\u0c35\\u0c28\\u0c4d \\u0c2b\\u0c4d\\u0c2f\\u0c3e\\u0c28\\u0c4d!\",\n          \"\\u0c17\\u0c41\\u0c1f\\u0c4d\\u0c1f\\u0c41 \\u0c35\\u0c3f\\u0c2a\\u0c4d\\u0c2a\\u0c3f\\u0c28 \\u0c17\\u0c41\\u0c39!\",\n          \"\\u0c15\\u0c3e\\u0c28\\u0c4d\\u0c2a\\u0c42\\u0c30\\u0c4d\\u200c \\u0c30\\u0c48\\u0c32\\u0c41 \\u0c2a\\u0c4d\\u0c30\\u0c2e\\u0c3e\\u0c26 \\u0c05\\u0c28\\u0c41\\u0c2e\\u0c3e\\u0c28\\u0c3f\\u0c24\\u0c41\\u0c21\\u0c41 \\u0c05\\u0c30\\u0c46\\u0c38\\u0c4d\\u0c1f\\u0c41 \"\n        ],\n        \"semantic_type\": \"\",\n        \"description\": \"\"\n      }\n    },\n    {\n      \"column\": \"body\",\n      \"properties\": {\n        \"dtype\": \"string\",\n        \"num_unique_values\": 4328,\n        \"samples\": [\n          \"\\u0c1c\\u0c42\\u0c28\\u0c3f\\u0c2f\\u0c30\\u0c4d \\u0c0e\\u0c28\\u0c4d\\u0c1f\\u0c40\\u0c06\\u0c30\\u0c4d \\u0c38\\u0c02\\u0c2a\\u0c42\\u0c30\\u0c4d\\u0c23\\u0c2e\\u0c48\\u0c28 \\u0c28\\u0c1f\\u0c41\\u0c21\\u0c28\\u0c3f, \\u0c05\\u0c24\\u0c3f \\u0c1a\\u0c3f\\u0c28\\u0c4d\\u0c28 \\u0c35\\u0c2f\\u0c38\\u0c41\\u0c32\\u0c4b\\u0c28\\u0c47 \\u0c0e\\u0c02\\u0c24\\u0c4b \\u0c2a\\u0c30\\u0c3f\\u0c2a\\u0c15\\u0c4d\\u0c35\\u0c24 \\u0c1a\\u0c46\\u0c02\\u0c26\\u0c3f\\u0c28 \\u0c35\\u0c3e\\u0c21\\u0c28\\u0c3f \\u0c15\\u0c25\\u0c3e \\u0c30\\u0c1a\\u0c2f\\u0c3f\\u0c24 \\u0c1a\\u0c3f\\u0c28\\u0c4d\\u0c28\\u0c3f\\u0c15\\u0c43\\u0c37\\u0c4d\\u0c23 \\u0c05\\u0c28\\u0c4d\\u0c28\\u0c3e\\u0c30\\u0c41. \\u0c24\\u0c3e\\u0c30\\u0c15\\u0c4d\\u200c\\u0c24\\u0c4b \\u0c38\\u0c3f\\u0c28\\u0c3f\\u0c2e\\u0c3e \\u0c15\\u0c4b\\u0c38\\u0c02 \\u0c1a\\u0c3e\\u0c32\\u0c3e \\u0c38\\u0c3e\\u0c30\\u0c4d\\u0c32\\u0c41 \\u0c2a\\u0c4d\\u0c30\\u0c2f\\u0c24\\u0c4d\\u0c28\\u0c3f\\u0c02\\u0c1a\\u0c3e\\u0c2e\\u0c28\\u0c3f, \\u0c15\\u0c3e\\u0c28\\u0c40 \\u0c15\\u0c41\\u0c26\\u0c30\\u0c32\\u0c47\\u0c26\\u0c28\\u0c3f, \\u0c0e\\u0c2a\\u0c4d\\u0c2a\\u0c41\\u0c21\\u0c41 \\u0c26\\u0c4a\\u0c30\\u0c41\\u0c15\\u0c41\\u0c24\\u0c3e\\u0c21\\u0c3e \\u0c05\\u0c28\\u0c3f \\u0c0e\\u0c26\\u0c41\\u0c30\\u0c41 \\u0c1a\\u0c42\\u0c38\\u0c4d\\u0c24\\u0c41\\u0c28\\u0c4d\\u0c28\\u0c3e\\u0c28\\u0c28\\u0c3f \\u0c1a\\u0c3f\\u0c28\\u0c4d\\u0c28\\u0c3f\\u0c15\\u0c43\\u0c37\\u0c4d\\u0c23 \\u0c1a\\u0c46\\u0c2a\\u0c4d\\u0c2a\\u0c3e\\u0c30\\u0c41.\\u00a0\\u2018\\u2018\\u0c24\\u0c3e\\u0c30\\u0c15\\u0c4d \\u0c38\\u0c3f\\u0c28\\u0c3f\\u0c2e\\u0c3e \\u0c05\\u0c28\\u0c17\\u0c3e\\u0c28\\u0c47 \\u0c28\\u0c3e\\u0c15\\u0c41 \\u0c15\\u0c4a\\u0c02\\u0c1a\\u0c46\\u0c02 \\u0c35\\u0c48\\u0c2c\\u0c4d\\u0c30\\u0c47\\u0c37\\u0c28\\u0c4d \\u0c38\\u0c4d\\u0c1f\\u0c3e\\u0c30\\u0c4d\\u0c1f\\u0c4d \\u0c05\\u0c35\\u0c41\\u0c24\\u0c41\\u0c02\\u0c26\\u0c3f. \\u0c1a\\u0c46\\u0c02\\u0c17\\u0c32\\u0c4d\\u0c30\\u0c3e\\u0c35\\u0c4d \\u0c05\\u0c28\\u0c47 \\u0c12\\u0c15\\u0c2f\\u0c3e\\u0c28 \\u0c26\\u0c4d\\u0c35\\u0c3e\\u0c30\\u0c3e \\u0c2c\\u0c40 \\u0c17\\u0c4b\\u0c2a\\u0c3e\\u0c32\\u0c4d, \\u0c28\\u0c47\\u0c28\\u0c41 \\u0c24\\u0c3e\\u0c30\\u0c15\\u0c4d \\u0c15\\u0c4b\\u0c38\\u0c02 \\u0c1f\\u0c4d\\u0c30\\u0c48\\u0c32\\u0c4d\\u0c38\\u0c4d \\u0c35\\u0c47\\u0c36\\u0c3e\\u0c2e\\u0c41. \\u0c2e\\u0c47\\u0c02 \\u0c1f\\u0c4d\\u0c30\\u0c48\\u0c32\\u0c4d\\u0c38\\u0c4d \\u0c35\\u0c47\\u0c2f\\u0c21\\u0c02 \\u0c06 \\u0c05\\u0c2c\\u0c4d\\u0c2c\\u0c3e\\u0c2f\\u0c3f \\u0c30\\u0c3f\\u0c1c\\u0c46\\u0c15\\u0c4d\\u0c1f\\u0c4d \\u0c1a\\u0c47\\u0c2f\\u0c21\\u0c02 \\u0c1c\\u0c30\\u0c3f\\u0c17\\u0c3f\\u0c02\\u0c26\\u0c3f. \\u0c15\\u0c3e\\u0c28\\u0c40 \\u0c0e\\u0c2a\\u0c4d\\u0c2a\\u0c41\\u0c21\\u0c41 \\u0c26\\u0c4a\\u0c30\\u0c41\\u0c15\\u0c41\\u0c24\\u0c3e\\u0c21\\u0c3e \\u0c05\\u0c28\\u0c3f \\u0c0e\\u0c26\\u0c41\\u0c30\\u0c41 \\u0c1a\\u0c42\\u0c38\\u0c4d\\u0c24\\u0c41\\u0c28\\u0c4d\\u0c28\\u0c3e. \\u0c0e\\u0c02\\u0c26\\u0c41\\u0c15\\u0c02\\u0c1f\\u0c47 \\u0c24\\u0c3e\\u0c30\\u0c15\\u0c4d\\u200c\\u0c24\\u0c4b \\u0c38\\u0c02\\u0c2a\\u0c42\\u0c30\\u0c4d\\u0c23\\u0c2e\\u0c48\\u0c28 \\u0c06\\u0c35\\u0c3f\\u0c37\\u0c4d\\u0c15\\u0c30\\u0c23 \\u0c1a\\u0c47\\u0c2f\\u0c3e\\u0c32\\u0c3f. \\u0c05\\u0c28\\u0c4d\\u0c28\\u0c3f \\u0c21\\u0c48\\u0c30\\u0c46\\u0c15\\u0c4d\\u0c37\\u0c28\\u0c4d\\u0c32\\u0c32\\u0c4b \\u0c28\\u0c1f\\u0c3f\\u0c02\\u0c1a\\u0c17\\u0c32 \\u0c15\\u0c46\\u0c2a\\u0c3e\\u0c38\\u0c3f\\u0c1f\\u0c40 \\u0c24\\u0c3e\\u0c30\\u0c15\\u0c4d\\u200c\\u0c15\\u0c41 \\u0c09\\u0c02\\u0c26\\u0c3f. \\u0c05\\u0c38\\u0c32\\u0c41 \\u0c2c\\u0c3f\\u0c17\\u0c4d\\u200c\\u0c2c\\u0c3e\\u0c38\\u0c4d \\u0c37\\u0c4b \\u0c1a\\u0c42\\u0c38\\u0c4d\\u0c24\\u0c41\\u0c02\\u0c1f\\u0c47.. \\u0c38\\u0c4d\\u0c15\\u0c4d\\u0c30\\u0c3f\\u0c2a\\u0c4d\\u0c1f\\u0c4d \\u0c0f\\u0c2e\\u0c40 \\u0c32\\u0c47\\u0c15\\u0c41\\u0c02\\u0c21\\u0c3e\\u0c28\\u0c47 \\u0c17\\u0c02\\u0c1f\\u0c28\\u0c4d\\u0c28\\u0c30\\u0c2a\\u0c3e\\u0c1f\\u0c41 \\u0c1a\\u0c46\\u0c21\\u0c41\\u0c17\\u0c41\\u0c21\\u0c41 \\u0c06\\u0c21\\u0c47\\u0c38\\u0c4d\\u0c24\\u0c41\\u0c28\\u0c4d\\u0c28\\u0c3e\\u0c21\\u0c41. \\u0c24\\u0c3e\\u0c30\\u0c15\\u0c4d \\u0c2e\\u0c41\\u0c02\\u0c26\\u0c41 \\u0c07\\u0c2a\\u0c4d\\u0c2a\\u0c41\\u0c21\\u0c41\\u0c28\\u0c4d\\u0c28 \\u0c2f\\u0c3e\\u0c02\\u0c15\\u0c30\\u0c4d\\u0c32\\u0c02\\u0c26\\u0c30\\u0c42 \\u0c24\\u0c15\\u0c4d\\u0c15\\u0c41\\u0c35\\u0c47. \\u0c2f\\u0c3e\\u0c02\\u0c15\\u0c30\\u0c3f\\u0c02\\u0c17\\u0c4d \\u0c2b\\u0c40\\u0c32\\u0c4d\\u0c21\\u0c4d\\u200c\\u0c32\\u0c4b \\u0c28\\u0c46\\u0c02\\u0c2c\\u0c30\\u0c4d  \\u0c35\\u0c28\\u0c4d \\u0c05\\u0c2f\\u0c3f\\u0c2a\\u0c4b\\u0c2f\\u0c3e\\u0c21\\u0c41. \\u0c39\\u0c46\\u0c21\\u0c4d\\u200c\\u0c2b\\u0c4b\\u0c28\\u0c4d\\u200c\\u0c32\\u0c4b \\u0c1a\\u0c46\\u0c2a\\u0c4d\\u0c2a\\u0c47 \\u0c1a\\u0c3f\\u0c28\\u0c4d\\u0c28 \\u0c07\\u0c28\\u0c4d\\u200c\\u0c2a\\u0c41\\u0c1f\\u0c4d\\u200c\\u0c24\\u0c4b\\u0c28\\u0c47 \\u0c1a\\u0c46\\u0c21\\u0c41\\u0c17\\u0c41\\u0c21\\u0c41 \\u0c06\\u0c21\\u0c41\\u0c24\\u0c41\\u0c28\\u0c4d\\u0c28\\u0c3e\\u0c21\\u0c41. \\u0c05\\u0c1f\\u0c4d\\u0c32\\u0c3e\\u0c02\\u0c1f\\u0c3f\\u0c26\\u0c3f \\u0c12\\u0c15 \\u0c2a\\u0c35\\u0c30\\u0c4d\\u200c\\u0c2b\\u0c41\\u0c32\\u0c4d \\u0c38\\u0c2c\\u0c4d\\u0c1c\\u0c46\\u0c15\\u0c4d\\u0c1f\\u0c4d\\u200c\\u0c24\\u0c4b \\u0c35\\u0c38\\u0c4d\\u0c24\\u0c47 \\u0c28\\u0c3e\\u0c15\\u0c41 \\u0c24\\u0c46\\u0c32\\u0c3f\\u0c38\\u0c3f \\u0c24\\u0c46\\u0c32\\u0c41\\u0c17\\u0c41 \\u0c12\\u0c15\\u0c4d\\u0c15\\u0c1f\\u0c47 \\u0c15\\u0c3e\\u0c26\\u0c41.. \\u0c24\\u0c2e\\u0c3f\\u0c33\\u0c02, \\u0c15\\u0c28\\u0c4d\\u0c28\\u0c21, \\u0c2e\\u0c32\\u0c2f\\u0c3e\\u0c33\\u0c02.. \\u0c28\\u0c3e\\u0c32\\u0c41\\u0c17\\u0c41 \\u0c2d\\u0c3e\\u0c37\\u0c32\\u0c4d\\u0c32\\u0c4b \\u0c2d\\u0c42\\u0c15\\u0c02\\u0c2a\\u0c02 \\u0c38\\u0c43\\u0c37\\u0c4d\\u0c1f\\u0c3f\\u0c02\\u0c1a\\u0c47\\u0c38\\u0c4d\\u0c24\\u0c3e\\u0c21\\u0c41. \\u0c06 \\u0c35\\u0c3f\\u0c36\\u0c4d\\u0c35\\u0c30\\u0c42\\u0c2a\\u0c02 \\u0c38\\u0c02\\u0c26\\u0c30\\u0c4d\\u0c36\\u0c28\\u0c02 \\u0c15\\u0c4b\\u0c38\\u0c02 \\u0c28\\u0c47\\u0c28\\u0c42 \\u0c35\\u0c46\\u0c2f\\u0c3f\\u0c02\\u0c17\\u0c4d.. \\u0c28\\u0c3e \\u0c15\\u0c25 \\u0c35\\u0c46\\u0c2f\\u0c3f\\u0c1f\\u0c3f\\u0c02\\u0c17\\u0c4d.\\u2019\\u2019 \\u0c05\\u0c02\\u0c1f\\u0c42 \\u0c24\\u0c28 \\u0c15\\u0c4b\\u0c30\\u0c3f\\u0c15\\u0c28\\u0c41 \\u0c2c\\u0c2f\\u0c1f\\u0c2a\\u0c46\\u0c1f\\u0c4d\\u0c1f\\u0c3e\\u0c30\\u0c41 \\u0c1a\\u0c3f\\u0c28\\u0c4d\\u0c28\\u0c3f\\u0c15\\u0c43\\u0c37\\u0c4d\\u0c23.\",\n          \"\\n\\u0c26\\u0c30\\u0c4d\\u0c36\\u0c15\\u0c30\\u0c24\\u0c4d\\u0c28 \\u0c26\\u0c3e\\u0c38\\u0c30\\u0c40!\\u0c1a\\u0c3f\\u0c24\\u0c4d\\u0c30 \\u0c2a\\u0c30\\u0c3f\\u0c36\\u0c4d\\u0c30\\u0c2e\\u0c32\\u0c4b \\u0c28\\u0c40\\u0c15\\u0c46\\u0c35\\u0c4d\\u0c35\\u0c30\\u0c41 \\u0c32\\u0c47\\u0c30\\u0c41 \\u0c38\\u0c30\\u0c3f!\\u0c26\\u0c3e\\u0c30\\u0c4d\\u0c36\\u0c28\\u0c3f\\u0c15\\u0c41\\u0c32\\u0c4d\\u0c32\\u0c4b\\u0c28\\u0c41 \\u0c26\\u0c30\\u0c4d\\u0c36\\u0c15\\u0c41\\u0c32\\u0c4d\\u0c32\\u0c4b\\u0c28\\u0c41 \\u0c28\\u0c41\\u0c35\\u0c4d\\u0c35\\u0c47 \\u0c05\\u0c17\\u0c4d\\u0c30 \\u0c15\\u0c47\\u0c38\\u0c30\\u0c3f!\\u0c28\\u0c3e\\u0c1f\\u0c15\\u0c30\\u0c02\\u0c17\\u0c3e\\u0c28\\u0c4d\\u0c28\\u0c3f \\u0c05\\u0c02\\u0c24\\u0c30\\u0c02\\u0c17\\u0c02\\u0c32\\u0c4b \\u0c2a\\u0c46\\u0c1f\\u0c4d\\u0c1f\\u0c41\\u0c15\\u0c41\\u0c28\\u0c4d\\u0c28\\u0c3e\\u0c35\\u0c41\\u0c2a\\u0c3e\\u0c32\\u0c15\\u0c4a\\u0c32\\u0c4d\\u0c32\\u0c41 \\u0c28\\u0c41\\u0c02\\u0c1a\\u0c3f \\u0c2a\\u0c3e\\u0c02\\u0c21\\u0c40\\u0c2c\\u0c1c\\u0c3e\\u0c30\\u0c41 \\u0c35\\u0c46\\u0c33\\u0c4d\\u0c33\\u0c3f\\u0c24\\u0c46\\u0c32\\u0c41\\u0c17\\u0c41 \\u0c1a\\u0c3f\\u0c24\\u0c4d\\u0c30 \\u0c1c\\u0c17\\u0c24\\u0c4d\\u0c24\\u0c41\\u0c32\\u0c4b \\u0c2e\\u0c3e\\u0c2f\\u0c3e\\u0c2c\\u0c1c\\u0c3e\\u0c30\\u0c41\\u0c28\\u0c41 \\u0c38\\u0c43\\u0c37\\u0c4d\\u0c1f\\u0c3f\\u0c02\\u0c1a\\u0c3e\\u0c35\\u0c41\\u0c12\\u0c15\\u0c4d\\u0c15\\u0c21\\u0c3f\\u0c35\\u0c48 \\u0c35\\u0c1a\\u0c4d\\u0c1a\\u0c3f \\u0c26\\u0c3f\\u0c15\\u0c4d\\u0c15\\u0c41\\u0c32\\u0c41 \\u0c2a\\u0c3f\\u0c15\\u0c4d\\u0c15\\u0c1f\\u0c3f\\u0c32\\u0c4d\\u0c32\\u0c47\\u0c32\\u0c3e\\u0c2c\\u0c4a\\u0c2c\\u0c4d\\u0c2c\\u0c3f\\u0c32\\u0c3f\\u0c2a\\u0c41\\u0c32\\u0c3f\\u0c35\\u0c48 \\u0c17\\u0c30\\u0c4d\\u0c1c\\u0c3f\\u0c02\\u0c1a\\u0c3f\\u0c2e\\u0c39\\u0c3e\\u0c38\\u0c48\\u0c28\\u0c4d\\u0c2f\\u0c3e\\u0c28\\u0c4d\\u0c28\\u0c3f \\u0c24\\u0c2f\\u0c3e\\u0c30\\u0c41 \\u0c1a\\u0c47\\u0c38\\u0c41\\u0c15\\u0c41\\u0c28\\u0c4d\\u0c28\\u0c3e\\u0c35\\u0c41\\u0c0e\\u0c02\\u0c24\\u0c2e\\u0c02\\u0c26\\u0c3f \\u0c36\\u0c3f\\u0c37\\u0c4d\\u0c2f\\u0c1a\\u0c42\\u0c21\\u0c3e\\u0c2e\\u0c23\\u0c41\\u0c32\\u0c41 \\u0c28\\u0c40\\u0c15\\u0c41\\u0c0e\\u0c02\\u0c24\\u0c2e\\u0c02\\u0c26\\u0c3f \\u0c05\\u0c2d\\u0c3f\\u0c2e\\u0c3e\\u0c28 \\u0c15\\u0c4b\\u0c1f\\u0c3f \\u0c28\\u0c40\\u0c15\\u0c41\\u0c15\\u0c41\\u0c30\\u0c41, \\u0c2a\\u0c3e\\u0c02\\u0c21\\u0c35\\u0c41\\u0c32 \\u0c05\\u0c15\\u0c4d\\u0c37\\u0c4c\\u0c39\\u0c3f\\u0c23\\u0c3f\\u0c32\\u0c3e\\u0c2e\\u0c3e\\u0c2e\\u0c42\\u0c32\\u0c41 \\u0c2e\\u0c3e\\u0c1f\\u0c32\\u0c28\\u0c41 \\u0c38\\u0c02\\u0c2d\\u0c3e\\u0c37\\u0c23\\u0c32\\u0c41\\u0c17\\u0c3e \\u0c30\\u0c3e\\u0c38\\u0c3e\\u0c35\\u0c41\\u0c32\\u0c4a\\u0c32\\u0c4d\\u0c32\\u0c3e\\u0c2f\\u0c3f \\u0c2a\\u0c26\\u0c3e\\u0c32\\u0c28\\u0c41 \\u0c2a\\u0c3e\\u0c1f\\u0c32\\u0c41\\u0c17\\u0c3e \\u0c26\\u0c3f\\u0c26\\u0c4d\\u0c26\\u0c3e\\u0c35\\u0c41\\u0c2a\\u0c32\\u0c41\\u0c36\\u0c3e\\u0c16\\u0c32\\u0c2a\\u0c48 \\u0c2a\\u0c4d\\u0c30\\u0c3e\\u0c35\\u0c40\\u0c23\\u0c4d\\u0c2f\\u0c02 \\u0c38\\u0c3e\\u0c27\\u0c3f\\u0c02\\u0c1a\\u0c3f \\u0c35\\u0c46\\u0c02\\u0c21\\u0c3f\\u0c24\\u0c46\\u0c30 \\u0c2e\\u0c4a\\u0c24\\u0c4d\\u0c24\\u0c3e\\u0c28\\u0c4d\\u0c28\\u0c3f \\u0c06\\u0c15\\u0c4d\\u0c30\\u0c2e\\u0c3f\\u0c02\\u0c1a\\u0c41\\u0c15\\u0c41\\u0c28\\u0c4d\\u0c28\\u0c3e\\u0c35\\u0c41\\u0c2d\\u0c17\\u0c4d\\u0c28\\u0c2a\\u0c4d\\u0c30\\u0c47\\u0c2e\\u0c3f\\u0c15\\u0c41\\u0c32\\u0c15\\u0c41 \\u0c2e\\u0c47\\u0c18\\u0c38\\u0c02\\u0c26\\u0c47\\u0c36\\u0c3e\\u0c28\\u0c4d\\u0c28\\u0c3f \\u0c35\\u0c3f\\u0c28\\u0c4d\\u0c2a\\u0c3f\\u0c02\\u0c1a\\u0c3e\\u0c35\\u0c41\\u0c35\\u0c3f\\u0c30\\u0c39\\u0c3f\\u0c23\\u0c41\\u0c32 \\u0c0e\\u0c21\\u0c26\\u0c32\\u0c2a\\u0c48 \\u0c36\\u0c3f\\u0c35\\u0c30\\u0c02\\u0c1c\\u0c28\\u0c3f \\u0c30\\u0c3e\\u0c17\\u0c3e\\u0c28\\u0c4d\\u0c28\\u0c3f \\u0c06\\u0c32\\u0c2a\\u0c3f\\u0c02\\u0c1a\\u0c3e\\u0c35\\u0c41\\u0c28\\u0c3f\\u0c30\\u0c4d\\u0c2e\\u0c32 \\u0c2a\\u0c4d\\u0c30\\u0c47\\u0c2e\\u0c3f\\u0c15\\u0c41\\u0c32\\u0c15\\u0c41 \\u0c2a\\u0c4d\\u0c30\\u0c47\\u0c2e\\u0c3e\\u0c2d\\u0c3f\\u0c37\\u0c47\\u0c15\\u0c02 \\u0c1a\\u0c47\\u0c38\\u0c3f\\u0c38\\u0c41\\u0c26\\u0c42\\u0c30 \\u0c24\\u0c40\\u0c30\\u0c3e\\u0c32\\u0c15\\u0c41 \\u0c35\\u0c46\\u0c33\\u0c4d\\u0c33\\u0c3f\\u0c2a\\u0c4b\\u0c2f\\u0c3e\\u0c35\\u0c3e... \\u0c2c\\u0c39\\u0c41\\u0c26\\u0c42\\u0c30\\u0c2a\\u0c41 \\u0c2c\\u0c3e\\u0c1f\\u0c38\\u0c3e\\u0c30\\u0c40!- \\u0c1c\\u0c3f. \\u0c38\\u0c42\\u0c30\\u0c4d\\u0c2f\\u0c28\\u0c3e\\u0c30\\u0c3e\\u0c2f\\u0c23, \\u0c2c\\u0c02\\u0c26\\u0c32\\u0c3e\\u0c2f\\u0c3f \\u0c1a\\u0c46\\u0c30\\u0c41\\u0c35\\u0c41, \\u0c15\\u0c43\\u0c37\\u0c4d\\u0c23\\u0c3e \\u0c1c\\u0c3f\\u0c32\\u0c4d\\u0c32\\u0c3e\",\n          \"\\u0c39\\u0c48\\u0c26\\u0c30\\u0c3e\\u0c2c\\u0c3e\\u0c26\\u0c4d: \\u0c2e\\u0c17\\u0c27\\u0c40\\u0c30\\u200c\\u0c28\\u0c41 \\u0c15\\u0c3e\\u0c2a\\u0c40 \\u0c2a\\u0c47\\u0c38\\u0c4d\\u0c1f\\u0c41 \\u0c1a\\u0c47\\u0c38\\u0c4d\\u0c24\\u0c47 \\u0c30\\u0c3e\\u0c2c\\u0c4d\\u0c24\\u0c3e \\u0c38\\u0c3f\\u0c28\\u0c3f\\u0c2e\\u0c3e\\u0c2f\\u0c3e..?. \\u0c15\\u0c02\\u0c1f\\u0c46\\u0c02\\u0c1f\\u0c46 \\u0c09\\u0c02\\u0c1f\\u0c47 \\u0c1a\\u0c3e\\u0c32\\u0c41, \\u0c2e\\u0c15\\u0c4d\\u0c15\\u0c40\\u0c15\\u0c3f \\u0c2e\\u0c15\\u0c4d\\u0c15\\u0c40 \\u0c26\\u0c3f\\u0c02\\u0c2a\\u0c47\\u0c38\\u0c4d\\u0c24\\u0c3e\\u0c30\\u0c3e..?. \\u0c2e\\u0c42\\u0c32 \\u0c15\\u0c25\\u0c32\\u0c41 \\u0c35\\u0c46\\u0c24\\u0c41\\u0c15\\u0c4d\\u0c15\\u0c41\\u0c02\\u0c1f\\u0c42 \\u0c2e\\u0c30\\u0c40 \\u0c05,\\u0c06\\u0c32\\u0c41 \\u0c26\\u0c3f\\u0c26\\u0c4d\\u0c26\\u0c41\\u0c24\\u0c3e\\u0c30\\u0c3e..?. \\u0c2c\\u0c3e\\u0c15\\u0c4d\\u0c38\\u0c3e\\u0c2b\\u0c40\\u0c38\\u0c41 \\u0c26\\u0c17\\u0c4d\\u0c17\\u0c30 \\u0c36\\u0c4d\\u0c30\\u0c40\\u0c2e\\u0c02\\u0c24\\u0c41\\u0c32\\u0c2f\\u0c4d\\u0c2f\\u0c47 \\u0c2b\\u0c3e\\u0c30\\u0c4d\\u0c2e\\u0c41\\u0c32\\u0c3e \\u0c07\\u0c26\\u0c47\\u0c28\\u0c3e..?. \\u0c07\\u0c02\\u0c24\\u0c15\\u0c40 \\u0c0f\\u0c26\\u0c3f \\u0c15\\u0c3e\\u0c2a\\u0c40..? \\u0c0e\\u0c35\\u0c30\\u0c41 \\u0c39\\u0c4d\\u0c2f\\u0c3e\\u0c2a\\u0c40..?. \\u0c15\\u0c3e\\u0c2a\\u0c40\\u0c32 \\u0c35\\u0c46\\u0c28\\u0c41\\u0c15 \\u0c05\\u0c38\\u0c32\\u0c41 \\u0c15\\u0c25\\u0c47\\u0c02\\u0c1f\\u0c3f..?\\u00a0\\u0c30\\u0c3e\\u0c2c\\u0c4d\\u0c24\\u0c3e \\u0c38\\u0c3f\\u0c28\\u0c3f\\u0c2e\\u0c3e \\u0c1a\\u0c41\\u0c1f\\u0c4d\\u0c1f\\u0c42 \\u0c35\\u0c3f\\u0c35\\u0c3e\\u0c26\\u0c02 \\u0c15\\u0c4b\\u0c30\\u0c4d\\u0c1f\\u0c41 \\u0c17\\u0c41\\u0c2e\\u0c4d\\u0c2e\\u0c02 \\u0c0e\\u0c15\\u0c4d\\u0c15\\u0c3f\\u0c02\\u0c26\\u0c3f. \\u0c2e\\u0c17\\u0c27\\u0c40\\u0c30 \\u0c38\\u0c3f\\u0c28\\u0c3f\\u0c2e\\u0c3e \\u0c39\\u0c3f\\u0c02\\u0c26\\u0c40\\u0c32\\u0c4b\\u0c15\\u0c3f \\u0c30\\u0c40\\u0c2e\\u0c47\\u0c15\\u0c4d \\u0c1a\\u0c47\\u0c38\\u0c3f \\u0c15\\u0c4b\\u0c1f\\u0c4d\\u0c32\\u0c41 \\u0c15\\u0c4a\\u0c32\\u0c4d\\u0c32\\u0c17\\u0c4a\\u0c1f\\u0c4d\\u0c1f\\u0c3e\\u0c32\\u0c28\\u0c3f \\u0c1a\\u0c42\\u0c38\\u0c3f\\u0c28 \\u0c28\\u0c3f\\u0c30\\u0c4d\\u0c2e\\u0c3e\\u0c24\\u0c32 \\u0c06\\u0c36\\u0c32\\u0c2a\\u0c48 \\u0c30\\u0c3e\\u0c2c\\u0c4d\\u0c24\\u0c3e \\u0c1f\\u0c4d\\u0c30\\u0c48\\u0c32\\u0c30\\u0c4d \\u0c28\\u0c40\\u0c33\\u0c4d\\u0c32\\u0c41 \\u0c1a\\u0c32\\u0c4d\\u0c32\\u0c3f\\u0c28\\u0c1f\\u0c48\\u0c02\\u0c26\\u0c3f. \\u0c05\\u0c1a\\u0c4d\\u0c1a\\u0c02\\u0c17\\u0c3e \\u0c2e\\u0c17\\u0c27\\u0c40\\u0c30 \\u0c2a\\u0c4b\\u0c32\\u0c3f\\u0c15\\u0c32\\u0c24\\u0c4b \\u0c2b\\u0c40\\u0c32\\u0c41 \\u0c1a\\u0c42\\u0c38\\u0c3f \\u0c09\\u0c32\\u0c3f\\u0c15\\u0c4d\\u0c15\\u0c3f\\u0c2a\\u0c21\\u0c4d\\u0c21 \\u0c28\\u0c3f\\u0c30\\u0c4d\\u0c2e\\u0c3e\\u0c24\\u0c32\\u0c41 \\u0c15\\u0c47\\u0c15\\u0c32\\u0c41 \\u0c35\\u0c30\\u0c15\\u0c42 \\u0c35\\u0c46\\u0c33\\u0c4d\\u0c32\\u0c3e\\u0c30\\u0c41. \\u0c07\\u0c02\\u0c24\\u0c15\\u0c40 \\u0c30\\u0c3e\\u0c2c\\u0c4d\\u0c24\\u0c3e\\u0c15\\u0c40 \\u0c2e\\u0c17\\u0c27\\u0c40\\u0c30\\u0c24\\u0c4b \\u0c15\\u0c28\\u0c46\\u0c15\\u0c4d\\u0c37\\u0c28\\u0c4d \\u0c0e\\u0c02\\u0c24 \\u0c35\\u0c30\\u0c15\\u0c42.  \\u0c08 \\u0c35\\u0c3f\\u0c37\\u0c2f\\u0c3e\\u0c32\\u0c41 \\u0c24\\u0c46\\u0c32\\u0c41\\u0c38\\u0c41\\u0c15\\u0c4b\\u0c35\\u0c3e\\u0c32\\u0c02\\u0c1f\\u0c47 \\u0c35\\u0c40\\u0c21\\u0c3f\\u0c2f\\u0c4b \\u0c15\\u0c4d\\u0c32\\u0c3f\\u0c15\\u0c4d \\u0c1a\\u0c47\\u0c2f\\u0c02\\u0c21\\u0c3f.\"\n        ],\n        \"semantic_type\": \"\",\n        \"description\": \"\"\n      }\n    },\n    {\n      \"column\": \"topic\",\n      \"properties\": {\n        \"dtype\": \"category\",\n        \"num_unique_values\": 5,\n        \"samples\": [\n          \"nation\",\n          \"sports\",\n          \"business\"\n        ],\n        \"semantic_type\": \"\",\n        \"description\": \"\"\n      }\n    }\n  ]\n}"
            }
          },
          "metadata": {},
          "execution_count": 4
        }
      ]
    },
    {
      "cell_type": "code",
      "source": [
        "c=df['topic'].value_counts()\n",
        "c"
      ],
      "metadata": {
        "id": "P9-SgRipYEN6",
        "colab": {
          "base_uri": "https://localhost:8080/"
        },
        "outputId": "247be3e2-1f34-47e5-d06a-872fc52eaa89"
      },
      "execution_count": null,
      "outputs": [
        {
          "output_type": "execute_result",
          "data": {
            "text/plain": [
              "topic\n",
              "nation           1673\n",
              "entertainment    1289\n",
              "business          653\n",
              "sports            437\n",
              "editorial         277\n",
              "Name: count, dtype: int64"
            ]
          },
          "metadata": {},
          "execution_count": 5
        }
      ]
    },
    {
      "cell_type": "code",
      "source": [
        "df['topic'] = df['topic'].apply(lambda x: x if x in ['entertainment', 'nation'] else 'others')"
      ],
      "metadata": {
        "id": "SnBLTATssHHx"
      },
      "execution_count": null,
      "outputs": []
    },
    {
      "cell_type": "markdown",
      "source": [
        "The original dataset had imbalance between classes. Some classes (nation and entertainment) had a much larger number of samples compared to others (business, sports, and editorial)."
      ],
      "metadata": {
        "id": "nKKcv2oXWxVF"
      }
    },
    {
      "cell_type": "code",
      "source": [
        "c=df['topic'].value_counts()\n",
        "c"
      ],
      "metadata": {
        "colab": {
          "base_uri": "https://localhost:8080/"
        },
        "id": "8Xp3umtWsf1W",
        "outputId": "2a47213c-e138-4027-bfd1-67dfea3ced2b"
      },
      "execution_count": null,
      "outputs": [
        {
          "output_type": "execute_result",
          "data": {
            "text/plain": [
              "topic\n",
              "nation           1673\n",
              "others           1367\n",
              "entertainment    1289\n",
              "Name: count, dtype: int64"
            ]
          },
          "metadata": {},
          "execution_count": 8
        }
      ]
    },
    {
      "cell_type": "code",
      "source": [
        "df.info()"
      ],
      "metadata": {
        "colab": {
          "base_uri": "https://localhost:8080/"
        },
        "id": "ZvA-WZ91sidU",
        "outputId": "3af3ee2a-ce37-4d72-de80-d2c90548279b"
      },
      "execution_count": null,
      "outputs": [
        {
          "output_type": "stream",
          "name": "stdout",
          "text": [
            "<class 'pandas.core.frame.DataFrame'>\n",
            "RangeIndex: 4329 entries, 0 to 4328\n",
            "Data columns (total 5 columns):\n",
            " #   Column   Non-Null Count  Dtype \n",
            "---  ------   --------------  ----- \n",
            " 0   SNo      4329 non-null   int64 \n",
            " 1   date     4329 non-null   object\n",
            " 2   heading  4329 non-null   object\n",
            " 3   body     4329 non-null   object\n",
            " 4   topic    4329 non-null   object\n",
            "dtypes: int64(1), object(4)\n",
            "memory usage: 169.2+ KB\n"
          ]
        }
      ]
    },
    {
      "cell_type": "markdown",
      "source": [
        "These commands provide information about the DataFrame's structure, including column names, data types, and non-null counts"
      ],
      "metadata": {
        "id": "flwTZnf8WtGH"
      }
    },
    {
      "cell_type": "markdown",
      "source": [
        "# ***Analyze the distribution of emotions:***"
      ],
      "metadata": {
        "id": "jWyd4M9fszBP"
      }
    },
    {
      "cell_type": "code",
      "source": [
        "plt.figure(figsize=(12, 6))\n",
        "sns.countplot(x='topic', data=df, palette='viridis')\n",
        "plt.title('Distribution of Topics', fontsize=16)\n",
        "plt.xlabel('Topic', fontsize=12)\n",
        "plt.ylabel('Count', fontsize=12)\n",
        "plt.xticks(rotation=45)\n",
        "plt.savefig('Distribution of Topics',dpi=1200,bbox_inches='tight')\n",
        "plt.show()"
      ],
      "metadata": {
        "colab": {
          "base_uri": "https://localhost:8080/",
          "height": 506
        },
        "id": "QG_d3o1wsuHE",
        "outputId": "2bf2a006-b222-48b8-8e70-788562037fe5"
      },
      "execution_count": null,
      "outputs": [
        {
          "output_type": "stream",
          "name": "stderr",
          "text": [
            "<ipython-input-10-06b6c7d816a0>:2: FutureWarning: \n",
            "\n",
            "Passing `palette` without assigning `hue` is deprecated and will be removed in v0.14.0. Assign the `x` variable to `hue` and set `legend=False` for the same effect.\n",
            "\n",
            "  sns.countplot(x='topic', data=df, palette='viridis')\n"
          ]
        },
        {
          "output_type": "display_data",
          "data": {
            "text/plain": [
              "<Figure size 1200x600 with 1 Axes>"
            ],
            "image/png": "[encoded data removed]"
          },
          "metadata": {}
        }
      ]
    },
    {
      "cell_type": "markdown",
      "source": [
        "This code analyzes and visualizes how topics are distributed within the dataset. This step is crucial because understanding the topic distribution helps in spotting any class imbalances and offers valuable insights into the diversity of content across the news articles.\n"
      ],
      "metadata": {
        "id": "4m6EjdIgYRjm"
      }
    },
    {
      "cell_type": "markdown",
      "source": [
        "# ***Analyze text length***"
      ],
      "metadata": {
        "id": "kBmPi0oytHW1"
      }
    },
    {
      "cell_type": "code",
      "source": [
        "# Calculate the length of each text and store it in a new column called 'text_length'\n",
        "df['text_length'] = df['body'].str.len()\n",
        "\n",
        "length_stats = df['text_length'].describe()\n",
        "print(\"Text Length Statistics:\")\n",
        "print(length_stats)"
      ],
      "metadata": {
        "colab": {
          "base_uri": "https://localhost:8080/"
        },
        "id": "cyh5vr0fs_wd",
        "outputId": "dcece9f2-e268-40de-9acf-c3c0521233d7"
      },
      "execution_count": null,
      "outputs": [
        {
          "output_type": "stream",
          "name": "stdout",
          "text": [
            "Text Length Statistics:\n",
            "count     4329.000000\n",
            "mean      1428.280434\n",
            "std       2131.990674\n",
            "min         11.000000\n",
            "25%        629.000000\n",
            "50%        912.000000\n",
            "75%       1355.000000\n",
            "max      51826.000000\n",
            "Name: text_length, dtype: float64\n"
          ]
        }
      ]
    },
    {
      "cell_type": "markdown",
      "source": [
        "The above code calculates the length of each entity  of the body text and this helps to understand the distribution of the lengths. Analyzing the lengths helps to understand variability in  article sizes , this was the important for the  text processing tasks and identify the outliers."
      ],
      "metadata": {
        "id": "vCd4LQUPYyU5"
      }
    },
    {
      "cell_type": "code",
      "source": [
        "\n",
        "df['text_length'] = df['body'].str.len()\n",
        "\n",
        "\n",
        "# Plot the original distribution\n",
        "plt.figure(figsize=(12, 6))\n",
        "sns.histplot(data=df, x='text_length', kde=True)\n",
        "plt.title('Original Distribution of Sentence Lengths')\n",
        "plt.xlabel('Character Length')\n",
        "plt.savefig('Original Distribution of Sentence Lengths.png',dpi=1200,bbox_inches='tight')\n",
        "plt.show()\n",
        "\n",
        "# Get some statistics\n",
        "print(df['text_length'].describe())\n",
        "\n"
      ],
      "metadata": {
        "colab": {
          "base_uri": "https://localhost:8080/",
          "height": 515
        },
        "id": "kFW7608LtewH",
        "outputId": "32c0d2ad-7848-4113-e25d-7f03e58ef7af"
      },
      "execution_count": null,
      "outputs": [
        {
          "output_type": "display_data",
          "data": {
            "text/plain": [
              "<Figure size 1200x600 with 1 Axes>"
            ],
            "image/png": "[encoded data removed]"
          },
          "metadata": {}
        },
        {
          "output_type": "stream",
          "name": "stdout",
          "text": [
            "count     4329.000000\n",
            "mean      1428.280434\n",
            "std       2131.990674\n",
            "min         11.000000\n",
            "25%        629.000000\n",
            "50%        912.000000\n",
            "75%       1355.000000\n",
            "max      51826.000000\n",
            "Name: text_length, dtype: float64\n"
          ]
        }
      ]
    },
    {
      "cell_type": "markdown",
      "source": [
        "from above graph we can see that  the data is highly  **Right-Skewed**"
      ],
      "metadata": {
        "id": "21Lmh5fHZW6D"
      }
    },
    {
      "cell_type": "code",
      "source": [
        "cutoff = df['text_length'].quantile(0.90)\n",
        "print(f\"95th percentile of sentence length: {cutoff}\")"
      ],
      "metadata": {
        "colab": {
          "base_uri": "https://localhost:8080/"
        },
        "id": "0vrptUVpvg2e",
        "outputId": "182526e7-ce27-4cb9-f787-45eb24097061"
      },
      "execution_count": null,
      "outputs": [
        {
          "output_type": "stream",
          "name": "stdout",
          "text": [
            "95th percentile of sentence length: 2404.2000000000016\n"
          ]
        }
      ]
    },
    {
      "cell_type": "markdown",
      "source": [
        "The above code  helps to identify the length below 90 percentile of the sentences fall which is useful for understanding the distribution of the text."
      ],
      "metadata": {
        "id": "-1-f29UVbzTg"
      }
    },
    {
      "cell_type": "code",
      "source": [
        "df_trimmed = df[df['text_length'] <= cutoff].copy()\n",
        "\n",
        "# Plot the new distribution\n",
        "plt.figure(figsize=(12, 6))\n",
        "sns.histplot(data=df_trimmed, x='text_length', kde=True)\n",
        "plt.title('Trimmed Distribution of Sentence Lengths')\n",
        "plt.xlabel('Text Length')\n",
        "plt.savefig('Trimmed Distribution of Sentence Lengths.png',dpi=1200,bbox_inches='tight')\n",
        "plt.show()\n",
        "\n",
        "# Get some statistics of the trimmed data\n",
        "print(df_trimmed['text_length'].describe())"
      ],
      "metadata": {
        "colab": {
          "base_uri": "https://localhost:8080/",
          "height": 512
        },
        "id": "FYI10ylfvx2O",
        "outputId": "9ecc1240-3dff-432c-c1f4-4871db19fc73"
      },
      "execution_count": null,
      "outputs": [
        {
          "output_type": "display_data",
          "data": {
            "text/plain": [
              "<Figure size 1200x600 with 1 Axes>"
            ],
            "image/png": "[encoded data removed]"
          },
          "metadata": {}
        },
        {
          "output_type": "stream",
          "name": "stdout",
          "text": [
            "count    3896.000000\n",
            "mean      928.214322\n",
            "std       458.682881\n",
            "min        11.000000\n",
            "25%       597.000000\n",
            "50%       853.000000\n",
            "75%      1177.000000\n",
            "max      2403.000000\n",
            "Name: text_length, dtype: float64\n"
          ]
        }
      ]
    },
    {
      "cell_type": "markdown",
      "source": [
        "The above code removes extremely long sentences by keeping only those below 90 percentile in length. Trimming the dataset helps to remove outliers that might  cause skewness. This distribution is beneficial for many statistical analysis"
      ],
      "metadata": {
        "id": "638hIk1Bb_e7"
      }
    },
    {
      "cell_type": "code",
      "source": [
        "df_trimmed.to_csv('trimmed_dataset22.csv', index=False)"
      ],
      "metadata": {
        "id": "2cg1nQONwaVJ"
      },
      "execution_count": null,
      "outputs": []
    },
    {
      "cell_type": "code",
      "source": [
        "da=pd.read_csv('//content/trimmed_dataset22.csv')\n",
        "da.head()"
      ],
      "metadata": {
        "colab": {
          "base_uri": "https://localhost:8080/",
          "height": 414
        },
        "id": "OF9_qQ3awoo5",
        "outputId": "eb18a9e3-085b-4696-dbbf-ccdac965bde9"
      },
      "execution_count": null,
      "outputs": [
        {
          "output_type": "execute_result",
          "data": {
            "text/plain": [
              "     SNo                 date  \\\n",
              "0   9591  01-08-2017 13:58:24   \n",
              "1  12622  05-04-2017 00:31:58   \n",
              "2  16401  30-08-2017 03:34:37   \n",
              "3  14159  16-04-2017 11:55:49   \n",
              "4   8328  23-09-2017 11:11:30   \n",
              "\n",
              "                                             heading  \\\n",
              "0  డబ్బుల కోసం ప్రాణాల మీదకు తెచ్చుకుంటారా.. హీరో...   \n",
              "1                    దక్షిణాదిన బీజేపీ పప్పులుడకవ్‌    \n",
              "2                 పీఎస్‌ఎల్వీ-సీ39కి గ్రీన్‌సిగ్నల్‌   \n",
              "3     నా భార్య నన్ను టార్గెట్ చేస్తోంది : కేజ్రీవాల్   \n",
              "4                    బిగ్ బాస్ హౌస్‌లోకి బడా హీరో..!   \n",
              "\n",
              "                                                body          topic  \\\n",
              "0   సినిమాల్లో యాక్షన్ స్టంట్లు చేసేటప్పుడు ఎక్కు...  entertainment   \n",
              "1  దక్షిణ భారతాన్ని ఆక్రమించేందుకు బీజేపీ పంచెలు ...         nation   \n",
              "2   నేటి మధ్యాహ్నం 1.59కి కౌంట్‌డౌన్‌ షురూశ్రీహరి...         nation   \n",
              "3  \\nన్యూఢిల్లీ : ఆప్ సీనియర్ నేత కుమార్ విశ్వాస్...         nation   \n",
              "4  70రోజులు.. 60 కెమెరాల మధ్య.. 14 మంది కంటెస్టెం...  entertainment   \n",
              "\n",
              "   text_length  \n",
              "0         1536  \n",
              "1          431  \n",
              "2         1141  \n",
              "3          607  \n",
              "4         1183  "
            ],
            "text/html": [
              "\n",
              "  <div id=\"df-55fcda9b-a2cc-4029-84b5-4a1f33529771\" class=\"colab-df-container\">\n",
              "    <div>\n",
              "<style scoped>\n",
              "    .dataframe tbody tr th:only-of-type {\n",
              "        vertical-align: middle;\n",
              "    }\n",
              "\n",
              "    .dataframe tbody tr th {\n",
              "        vertical-align: top;\n",
              "    }\n",
              "\n",
              "    .dataframe thead th {\n",
              "        text-align: right;\n",
              "    }\n",
              "</style>\n",
              "<table border=\"1\" class=\"dataframe\">\n",
              "  <thead>\n",
              "    <tr style=\"text-align: right;\">\n",
              "      <th></th>\n",
              "      <th>SNo</th>\n",
              "      <th>date</th>\n",
              "      <th>heading</th>\n",
              "      <th>body</th>\n",
              "      <th>topic</th>\n",
              "      <th>text_length</th>\n",
              "    </tr>\n",
              "  </thead>\n",
              "  <tbody>\n",
              "    <tr>\n",
              "      <th>0</th>\n",
              "      <td>9591</td>\n",
              "      <td>01-08-2017 13:58:24</td>\n",
              "      <td>డబ్బుల కోసం ప్రాణాల మీదకు తెచ్చుకుంటారా.. హీరో...</td>\n",
              "      <td>సినిమాల్లో యాక్షన్ స్టంట్లు చేసేటప్పుడు ఎక్కు...</td>\n",
              "      <td>entertainment</td>\n",
              "      <td>1536</td>\n",
              "    </tr>\n",
              "    <tr>\n",
              "      <th>1</th>\n",
              "      <td>12622</td>\n",
              "      <td>05-04-2017 00:31:58</td>\n",
              "      <td>దక్షిణాదిన బీజేపీ పప్పులుడకవ్‌</td>\n",
              "      <td>దక్షిణ భారతాన్ని ఆక్రమించేందుకు బీజేపీ పంచెలు ...</td>\n",
              "      <td>nation</td>\n",
              "      <td>431</td>\n",
              "    </tr>\n",
              "    <tr>\n",
              "      <th>2</th>\n",
              "      <td>16401</td>\n",
              "      <td>30-08-2017 03:34:37</td>\n",
              "      <td>పీఎస్‌ఎల్వీ-సీ39కి గ్రీన్‌సిగ్నల్‌</td>\n",
              "      <td>నేటి మధ్యాహ్నం 1.59కి కౌంట్‌డౌన్‌ షురూశ్రీహరి...</td>\n",
              "      <td>nation</td>\n",
              "      <td>1141</td>\n",
              "    </tr>\n",
              "    <tr>\n",
              "      <th>3</th>\n",
              "      <td>14159</td>\n",
              "      <td>16-04-2017 11:55:49</td>\n",
              "      <td>నా భార్య నన్ను టార్గెట్ చేస్తోంది : కేజ్రీవాల్</td>\n",
              "      <td>\\nన్యూఢిల్లీ : ఆప్ సీనియర్ నేత కుమార్ విశ్వాస్...</td>\n",
              "      <td>nation</td>\n",
              "      <td>607</td>\n",
              "    </tr>\n",
              "    <tr>\n",
              "      <th>4</th>\n",
              "      <td>8328</td>\n",
              "      <td>23-09-2017 11:11:30</td>\n",
              "      <td>బిగ్ బాస్ హౌస్‌లోకి బడా హీరో..!</td>\n",
              "      <td>70రోజులు.. 60 కెమెరాల మధ్య.. 14 మంది కంటెస్టెం...</td>\n",
              "      <td>entertainment</td>\n",
              "      <td>1183</td>\n",
              "    </tr>\n",
              "  </tbody>\n",
              "</table>\n",
              "</div>\n",
              "    <div class=\"colab-df-buttons\">\n",
              "\n",
              "  <div class=\"colab-df-container\">\n",
              "    <button class=\"colab-df-convert\" onclick=\"convertToInteractive('df-55fcda9b-a2cc-4029-84b5-4a1f33529771')\"\n",
              "            title=\"Convert this dataframe to an interactive table.\"\n",
              "            style=\"display:none;\">\n",
              "\n",
              "  <svg xmlns=\"http://www.w3.org/2000/svg\" height=\"24px\" viewBox=\"0 -960 960 960\">\n",
              "    <path d=\"M120-120v-720h720v720H120Zm60-500h600v-160H180v160Zm220 220h160v-160H400v160Zm0 220h160v-160H400v160ZM180-400h160v-160H180v160Zm440 0h160v-160H620v160ZM180-180h160v-160H180v160Zm440 0h160v-160H620v160Z\"/>\n",
              "  </svg>\n",
              "    </button>\n",
              "\n",
              "  <style>\n",
              "    .colab-df-container {\n",
              "      display:flex;\n",
              "      gap: 12px;\n",
              "    }\n",
              "\n",
              "    .colab-df-convert {\n",
              "      background-color: #E8F0FE;\n",
              "      border: none;\n",
              "      border-radius: 50%;\n",
              "      cursor: pointer;\n",
              "      display: none;\n",
              "      fill: #1967D2;\n",
              "      height: 32px;\n",
              "      padding: 0 0 0 0;\n",
              "      width: 32px;\n",
              "    }\n",
              "\n",
              "    .colab-df-convert:hover {\n",
              "      background-color: #E2EBFA;\n",
              "      box-shadow: 0px 1px 2px rgba(60, 64, 67, 0.3), 0px 1px 3px 1px rgba(60, 64, 67, 0.15);\n",
              "      fill: #174EA6;\n",
              "    }\n",
              "\n",
              "    .colab-df-buttons div {\n",
              "      margin-bottom: 4px;\n",
              "    }\n",
              "\n",
              "    [theme=dark] .colab-df-convert {\n",
              "      background-color: #3B4455;\n",
              "      fill: #D2E3FC;\n",
              "    }\n",
              "\n",
              "    [theme=dark] .colab-df-convert:hover {\n",
              "      background-color: #434B5C;\n",
              "      box-shadow: 0px 1px 3px 1px rgba(0, 0, 0, 0.15);\n",
              "      filter: drop-shadow(0px 1px 2px rgba(0, 0, 0, 0.3));\n",
              "      fill: #FFFFFF;\n",
              "    }\n",
              "  </style>\n",
              "\n",
              "    <script>\n",
              "      const buttonEl =\n",
              "        document.querySelector('#df-55fcda9b-a2cc-4029-84b5-4a1f33529771 button.colab-df-convert');\n",
              "      buttonEl.style.display =\n",
              "        google.colab.kernel.accessAllowed ? 'block' : 'none';\n",
              "\n",
              "      async function convertToInteractive(key) {\n",
              "        const element = document.querySelector('#df-55fcda9b-a2cc-4029-84b5-4a1f33529771');\n",
              "        const dataTable =\n",
              "          await google.colab.kernel.invokeFunction('convertToInteractive',\n",
              "                                                    [key], {});\n",
              "        if (!dataTable) return;\n",
              "\n",
              "        const docLinkHtml = 'Like what you see? Visit the ' +\n",
              "          '<a target=\"_blank\" href=https://colab.research.google.com/notebooks/data_table.ipynb>data table notebook</a>'\n",
              "          + ' to learn more about interactive tables.';\n",
              "        element.innerHTML = '';\n",
              "        dataTable['output_type'] = 'display_data';\n",
              "        await google.colab.output.renderOutput(dataTable, element);\n",
              "        const docLink = document.createElement('div');\n",
              "        docLink.innerHTML = docLinkHtml;\n",
              "        element.appendChild(docLink);\n",
              "      }\n",
              "    </script>\n",
              "  </div>\n",
              "\n",
              "\n",
              "<div id=\"df-2d1b83bc-9bb3-46e5-b8af-85405a9971a2\">\n",
              "  <button class=\"colab-df-quickchart\" onclick=\"quickchart('df-2d1b83bc-9bb3-46e5-b8af-85405a9971a2')\"\n",
              "            title=\"Suggest charts\"\n",
              "            style=\"display:none;\">\n",
              "\n",
              "<svg xmlns=\"http://www.w3.org/2000/svg\" height=\"24px\"viewBox=\"0 0 24 24\"\n",
              "     width=\"24px\">\n",
              "    <g>\n",
              "        <path d=\"M19 3H5c-1.1 0-2 .9-2 2v14c0 1.1.9 2 2 2h14c1.1 0 2-.9 2-2V5c0-1.1-.9-2-2-2zM9 17H7v-7h2v7zm4 0h-2V7h2v10zm4 0h-2v-4h2v4z\"/>\n",
              "    </g>\n",
              "</svg>\n",
              "  </button>\n",
              "\n",
              "<style>\n",
              "  .colab-df-quickchart {\n",
              "      --bg-color: #E8F0FE;\n",
              "      --fill-color: #1967D2;\n",
              "      --hover-bg-color: #E2EBFA;\n",
              "      --hover-fill-color: #174EA6;\n",
              "      --disabled-fill-color: #AAA;\n",
              "      --disabled-bg-color: #DDD;\n",
              "  }\n",
              "\n",
              "  [theme=dark] .colab-df-quickchart {\n",
              "      --bg-color: #3B4455;\n",
              "      --fill-color: #D2E3FC;\n",
              "      --hover-bg-color: #434B5C;\n",
              "      --hover-fill-color: #FFFFFF;\n",
              "      --disabled-bg-color: #3B4455;\n",
              "      --disabled-fill-color: #666;\n",
              "  }\n",
              "\n",
              "  .colab-df-quickchart {\n",
              "    background-color: var(--bg-color);\n",
              "    border: none;\n",
              "    border-radius: 50%;\n",
              "    cursor: pointer;\n",
              "    display: none;\n",
              "    fill: var(--fill-color);\n",
              "    height: 32px;\n",
              "    padding: 0;\n",
              "    width: 32px;\n",
              "  }\n",
              "\n",
              "  .colab-df-quickchart:hover {\n",
              "    background-color: var(--hover-bg-color);\n",
              "    box-shadow: 0 1px 2px rgba(60, 64, 67, 0.3), 0 1px 3px 1px rgba(60, 64, 67, 0.15);\n",
              "    fill: var(--button-hover-fill-color);\n",
              "  }\n",
              "\n",
              "  .colab-df-quickchart-complete:disabled,\n",
              "  .colab-df-quickchart-complete:disabled:hover {\n",
              "    background-color: var(--disabled-bg-color);\n",
              "    fill: var(--disabled-fill-color);\n",
              "    box-shadow: none;\n",
              "  }\n",
              "\n",
              "  .colab-df-spinner {\n",
              "    border: 2px solid var(--fill-color);\n",
              "    border-color: transparent;\n",
              "    border-bottom-color: var(--fill-color);\n",
              "    animation:\n",
              "      spin 1s steps(1) infinite;\n",
              "  }\n",
              "\n",
              "  @keyframes spin {\n",
              "    0% {\n",
              "      border-color: transparent;\n",
              "      border-bottom-color: var(--fill-color);\n",
              "      border-left-color: var(--fill-color);\n",
              "    }\n",
              "    20% {\n",
              "      border-color: transparent;\n",
              "      border-left-color: var(--fill-color);\n",
              "      border-top-color: var(--fill-color);\n",
              "    }\n",
              "    30% {\n",
              "      border-color: transparent;\n",
              "      border-left-color: var(--fill-color);\n",
              "      border-top-color: var(--fill-color);\n",
              "      border-right-color: var(--fill-color);\n",
              "    }\n",
              "    40% {\n",
              "      border-color: transparent;\n",
              "      border-right-color: var(--fill-color);\n",
              "      border-top-color: var(--fill-color);\n",
              "    }\n",
              "    60% {\n",
              "      border-color: transparent;\n",
              "      border-right-color: var(--fill-color);\n",
              "    }\n",
              "    80% {\n",
              "      border-color: transparent;\n",
              "      border-right-color: var(--fill-color);\n",
              "      border-bottom-color: var(--fill-color);\n",
              "    }\n",
              "    90% {\n",
              "      border-color: transparent;\n",
              "      border-bottom-color: var(--fill-color);\n",
              "    }\n",
              "  }\n",
              "</style>\n",
              "\n",
              "  <script>\n",
              "    async function quickchart(key) {\n",
              "      const quickchartButtonEl =\n",
              "        document.querySelector('#' + key + ' button');\n",
              "      quickchartButtonEl.disabled = true;  // To prevent multiple clicks.\n",
              "      quickchartButtonEl.classList.add('colab-df-spinner');\n",
              "      try {\n",
              "        const charts = await google.colab.kernel.invokeFunction(\n",
              "            'suggestCharts', [key], {});\n",
              "      } catch (error) {\n",
              "        console.error('Error during call to suggestCharts:', error);\n",
              "      }\n",
              "      quickchartButtonEl.classList.remove('colab-df-spinner');\n",
              "      quickchartButtonEl.classList.add('colab-df-quickchart-complete');\n",
              "    }\n",
              "    (() => {\n",
              "      let quickchartButtonEl =\n",
              "        document.querySelector('#df-2d1b83bc-9bb3-46e5-b8af-85405a9971a2 button');\n",
              "      quickchartButtonEl.style.display =\n",
              "        google.colab.kernel.accessAllowed ? 'block' : 'none';\n",
              "    })();\n",
              "  </script>\n",
              "</div>\n",
              "\n",
              "    </div>\n",
              "  </div>\n"
            ],
            "application/vnd.google.colaboratory.intrinsic+json": {
              "type": "dataframe",
              "variable_name": "da",
              "summary": "{\n  \"name\": \"da\",\n  \"rows\": 3896,\n  \"fields\": [\n    {\n      \"column\": \"SNo\",\n      \"properties\": {\n        \"dtype\": \"number\",\n        \"std\": 6115,\n        \"min\": 10,\n        \"max\": 21640,\n        \"num_unique_values\": 3896,\n        \"samples\": [\n          239,\n          13512,\n          5291\n        ],\n        \"semantic_type\": \"\",\n        \"description\": \"\"\n      }\n    },\n    {\n      \"column\": \"date\",\n      \"properties\": {\n        \"dtype\": \"string\",\n        \"num_unique_values\": 3896,\n        \"samples\": [\n          \"19-09-2017 02:33:11\",\n          \"26-10-2017 10:25:23\",\n          \"15-10-2017 17:28:04\"\n        ],\n        \"semantic_type\": \"\",\n        \"description\": \"\"\n      }\n    },\n    {\n      \"column\": \"heading\",\n      \"properties\": {\n        \"dtype\": \"string\",\n        \"num_unique_values\": 3891,\n        \"samples\": [\n          \"\\u0c2a\\u0c35\\u0c28\\u0c4d\\u200c\\u0c15\\u0c41 \\u0c07\\u0c26\\u0c47 \\u0c1a\\u0c3f\\u0c35\\u0c30\\u0c3f \\u0c38\\u0c3f\\u0c28\\u0c3f\\u0c2e\\u0c3e\\u0c28\\u0c3e?\",\n          \"\\u0c2a\\u0c3e\\u0c30\\u0c4d\\u0c1f\\u0c40 \\u0c2e\\u0c3e\\u0c30\\u0c21\\u0c3e\\u0c28\\u0c3f\\u0c15\\u0c3f \\u0c38\\u0c3f\\u0c26\\u0c4d\\u0c27\\u0c2e\\u0c48\\u0c28 \\u0c2c\\u0c40\\u0c1c\\u0c47\\u0c2a\\u0c40 \\u0c0e\\u0c2e\\u0c4d\\u0c2e\\u0c46\\u0c32\\u0c4d\\u0c2f\\u0c47\\u0c32\\u0c41!\",\n          \"\\u0c28\\u0c3e\\u0c15\\u0c41 \\u0c15\\u0c4b\\u0c2a\\u0c02 \\u0c35\\u0c1a\\u0c4d\\u0c1a\\u0c47\\u0c26\\u0c3f \\u0c06 \\u0c35\\u0c3f\\u0c37\\u0c2f\\u0c02\\u0c32\\u0c4b\\u0c28\\u0c47: \\u0c28\\u0c3e\\u0c17\\u0c3e\\u0c30\\u0c4d\\u0c1c\\u0c41\\u0c28\"\n        ],\n        \"semantic_type\": \"\",\n        \"description\": \"\"\n      }\n    },\n    {\n      \"column\": \"body\",\n      \"properties\": {\n        \"dtype\": \"string\",\n        \"num_unique_values\": 3895,\n        \"samples\": [\n          \"\\u0c28\\u0c3f\\u0c2b\\u0c4d\\u0c1f\\u0c40 \\u0c2c\\u0c32\\u0c2e\\u0c48\\u0c28 \\u0c05\\u0c2a\\u0c4d\\u200c\\u0c1f\\u0c4d\\u0c30\\u0c46\\u0c02\\u0c21\\u0c4d\\u200c\\u0c32\\u0c4b \\u0c2a\\u0c4d\\u0c30\\u0c3e\\u0c30\\u0c02\\u0c2d\\u0c2e\\u0c48 \\u0c15\\u0c40\\u0c32\\u0c15 \\u0c38\\u0c4d\\u0c25\\u0c3e\\u0c2f\\u0c3f 10150 \\u0c35\\u0c26\\u0c4d\\u0c26 \\u0c30\\u0c4b\\u0c1c\\u0c02\\u0c24\\u0c3e \\u0c15\\u0c28\\u0c4d\\u0c38\\u0c3e\\u0c32\\u0c3f\\u0c21\\u0c47\\u0c1f\\u0c4d\\u200c \\u0c05\\u0c2f\\u0c3f\\u0c28 \\u0c05\\u0c28\\u0c02\\u0c24\\u0c30\\u0c02 \\u0c08 \\u0c38\\u0c4d\\u0c25\\u0c3e\\u0c2f\\u0c3f \\u0c15\\u0c28\\u0c4d\\u0c28\\u0c3e \\u0c38\\u0c4d\\u0c35\\u0c32\\u0c4d\\u0c2a\\u0c02\\u0c17\\u0c3e \\u0c2a\\u0c48\\u0c28 \\u0c15\\u0c4d\\u0c32\\u0c4b\\u0c1c\\u0c2f\\u0c3f\\u0c02\\u0c26\\u0c3f. \\u0c15\\u0c3e\\u0c28\\u0c3f \\u0c21\\u0c47 \\u0c17\\u0c30\\u0c3f\\u0c37\\u0c4d\\u0c20 \\u0c38\\u0c4d\\u0c25\\u0c3e\\u0c2f\\u0c3f\\u0c32\\u0c4b \\u0c2c\\u0c32\\u0c02\\u0c17\\u0c3e \\u0c2e\\u0c41\\u0c17\\u0c3f\\u0c2f\\u0c15\\u0c2a\\u0c4b\\u0c35\\u0c21\\u0c02 \\u0c05\\u0c28\\u0c3f\\u0c36\\u0c4d\\u0c1a\\u0c3f\\u0c24 \\u0c27\\u0c4b\\u0c30\\u0c23\\u0c3f\\u0c15\\u0c3f \\u0c26\\u0c30\\u0c4d\\u0c2a\\u0c23\\u0c02. \\u0c15\\u0c40\\u0c32\\u0c15 \\u0c28\\u0c3f\\u0c30\\u0c4b\\u0c27\\u0c3e\\u0c28\\u0c4d\\u0c28\\u0c3f \\u0c1b\\u0c47\\u0c26\\u0c3f\\u0c02\\u0c1a\\u0c3f\\u0c28\\u0c02\\u0c26\\u0c41 \\u0c35\\u0c32\\u0c4d\\u0c32 \\u0c2a\\u0c41\\u0c32\\u0c4d\\u200c\\u0c2c\\u0c4d\\u0c2f\\u0c3e\\u0c15\\u0c4d\\u200c \\u0c30\\u0c3f\\u0c2f\\u0c3e\\u0c15\\u0c4d\\u0c37\\u0c28\\u0c4d\\u200c\\u0c15\\u0c41 \\u0c06\\u0c38\\u0c4d\\u0c15\\u0c3e\\u0c30\\u0c02 \\u0c09\\u0c02\\u0c26\\u0c3f.  \\u0c05\\u0c2a\\u0c4d\\u200c\\u0c1f\\u0c4d\\u0c30\\u0c46\\u0c02\\u0c21\\u0c4d\\u200c \\u0c15\\u0c4a\\u0c28\\u0c38\\u0c3e\\u0c17\\u0c3f\\u0c02\\u0c1a\\u0c21\\u0c3e\\u0c28\\u0c3f\\u0c15\\u0c3f \\u0c08 \\u0c38\\u0c4d\\u0c25\\u0c3e\\u0c2f\\u0c3f\\u0c32\\u0c4b \\u0c2e\\u0c30\\u0c3f\\u0c02\\u0c24 \\u0c2c\\u0c32\\u0c3e\\u0c28\\u0c4d\\u0c28\\u0c3f \\u0c2a\\u0c4d\\u0c30\\u0c26\\u0c30\\u0c4d\\u0c36\\u0c3f\\u0c02\\u0c1a\\u0c3e\\u0c32\\u0c3f.\\u0c2e\\u0c02\\u0c17\\u0c33\\u0c35\\u0c3e\\u0c30\\u0c02 \\u0c38\\u0c4d\\u0c25\\u0c3e\\u0c2f\\u0c3f\\u0c32\\u0c3f\\u0c35\\u0c47...\\u0c28\\u0c3f\\u0c30\\u0c4b\\u0c27\\u0c02: 10200\\t\\u0c2e\\u0c26\\u0c4d\\u0c26\\u0c24\\u0c41: 10100\\u0c2a\\u0c4d\\u0c30\\u0c27\\u0c3e\\u0c28 \\u0c28\\u0c3f\\u0c30\\u0c4b\\u0c27\\u0c02 10200. \\u0c06 \\u0c2a\\u0c48\\u0c28 \\u0c2c\\u0c32\\u0c02\\u0c17\\u0c3e \\u0c15\\u0c4d\\u0c32\\u0c4b\\u0c1c\\u0c2f\\u0c3f\\u0c28\\u0c2a\\u0c4d\\u0c2a\\u0c41\\u0c21\\u0c47 \\u0c2e\\u0c30\\u0c3f\\u0c02\\u0c24 \\u0c05\\u0c2a\\u0c4d\\u200c\\u0c1f\\u0c4d\\u0c30\\u0c46\\u0c02\\u0c21\\u0c4d\\u200c \\u0c09\\u0c02\\u0c1f\\u0c41\\u0c02\\u0c26\\u0c3f.\\u00a010150 \\u0c15\\u0c28\\u0c4d\\u0c28\\u0c3e \\u0c2a\\u0c48\\u0c28 \\u0c15\\u0c4d\\u0c32\\u0c4b\\u0c1c\\u0c4d\\u200c \\u0c15\\u0c3e\\u0c32\\u0c47\\u0c15\\u0c2a\\u0c4b\\u0c24\\u0c47 \\u0c2e\\u0c30\\u0c3f\\u0c02\\u0c24 \\u0c15\\u0c28\\u0c4d\\u0c38\\u0c3e\\u0c32\\u0c3f\\u0c21\\u0c47\\u0c37\\u0c28\\u0c4d\\u200c \\u0c0f\\u0c30\\u0c4d\\u0c2a\\u0c21\\u0c35\\u0c1a\\u0c4d\\u0c1a\\u0c41. \\u0c2a\\u0c4d\\u0c30\\u0c27\\u0c3e\\u0c28 \\u0c2e\\u0c26\\u0c4d\\u0c26\\u0c24\\u0c41 \\u0c38\\u0c4d\\u0c25\\u0c3e\\u0c2f\\u0c3f 10100. \\u0c05\\u0c02\\u0c24\\u0c15\\u0c28\\u0c4d\\u0c28\\u0c3e \\u0c26\\u0c3f\\u0c17\\u0c1c\\u0c3e\\u0c30\\u0c3f\\u0c24\\u0c47 \\u0c2e\\u0c48\\u0c28\\u0c30\\u0c4d\\u200c \\u0c2c\\u0c32\\u0c39\\u0c40\\u0c28\\u0c24 \\u0c38\\u0c02\\u0c15\\u0c47\\u0c24\\u0c02 \\u0c07\\u0c38\\u0c4d\\u0c24\\u0c41\\u0c02\\u0c26\\u0c3f. \\u0c2a\\u0c4d\\u0c30\\u0c27\\u0c3e\\u0c28 \\u0c2e\\u0c26\\u0c4d\\u0c26\\u0c24\\u0c41 \\u0c38\\u0c4d\\u0c25\\u0c3e\\u0c2f\\u0c3f 10000.\\u0c2c\\u0c4d\\u0c2f\\u0c3e\\u0c02\\u0c15\\u0c4d\\u200c \\u0c28\\u0c3f\\u0c2b\\u0c4d\\u0c1f\\u0c40 \\u0c15\\u0c40\\u0c32\\u0c15 \\u0c38\\u0c4d\\u0c25\\u0c3e\\u0c2f\\u0c3f 25000 \\u0c35\\u0c26\\u0c4d\\u0c26 \\u0c2a\\u0c30\\u0c40\\u0c15\\u0c4d\\u0c37 \\u0c0e\\u0c26\\u0c41\\u0c30\\u0c4d\\u0c15\\u0c4a\\u0c02\\u0c1f\\u0c4b\\u0c02\\u0c26\\u0c3f. \\u0c2e\\u0c30\\u0c3f\\u0c02\\u0c24 \\u0c05\\u0c2a\\u0c4d\\u200c\\u0c1f\\u0c4d\\u0c30\\u0c46\\u0c02\\u0c21\\u0c4d\\u200c \\u0c15\\u0c4b\\u0c38\\u0c02 \\u0c08 \\u0c38\\u0c4d\\u0c25\\u0c3e\\u0c2f\\u0c3f\\u0c32\\u0c4b \\u0c28\\u0c3f\\u0c32\\u0c26\\u0c4a\\u0c15\\u0c4d\\u0c15\\u0c41\\u0c15\\u0c4b\\u0c35\\u0c3e\\u0c32\\u0c3f.\\u0c38\\u0c42\\u0c1a\\u0c28: \\u0c38\\u0c4d\\u0c35\\u0c32\\u0c4d\\u0c2a\\u0c15\\u0c3e\\u0c32\\u0c3f\\u0c15 \\u0c07\\u0c28\\u0c4d\\u0c35\\u0c46\\u0c38\\u0c4d\\u0c1f\\u0c30\\u0c4d\\u0c32\\u0c41 \\u0c05\\u0c2a\\u0c4d\\u0c30\\u0c2e\\u0c24\\u0c4d\\u0c24\\u0c02\\u0c17\\u0c3e \\u0c09\\u0c02\\u0c21\\u0c3e\\u0c32\\u0c3f.-\\u0c35\\u0c3f.\\u0c38\\u0c41\\u0c02\\u0c26\\u0c30\\u0c4d\\u200c \\u0c30\\u0c3e\\u0c1c\\u0c3e\",\n          \"\\u0c28\\u0c4d\\u0c2f\\u0c42\\u0c22\\u0c3f\\u0c32\\u0c4d\\u0c32\\u0c40: \\u0c09\\u0c24\\u0c4d\\u0c24\\u0c30\\u0c2a\\u0c4d\\u0c30\\u0c26\\u0c47\\u0c36\\u0c4d \\u0c2e\\u0c41\\u0c16\\u0c4d\\u0c2f\\u0c2e\\u0c02\\u0c24\\u0c4d\\u0c30\\u0c3f \\u0c2f\\u0c4b\\u0c17\\u0c3f \\u0c06\\u0c26\\u0c3f\\u0c24\\u0c4d\\u0c2f\\u0c28\\u0c3e\\u0c25\\u0c4d \\u0c07\\u0c35\\u0c3e\\u0c33 \\u0c06\\u0c17\\u0c4d\\u0c30\\u0c3e\\u0c32\\u0c4b\\u0c28\\u0c3f \\u0c24\\u0c3e\\u0c1c\\u0c4d \\u0c2e\\u0c39\\u0c32\\u0c4d\\u200c\\u0c28\\u0c41 \\u0c38\\u0c02\\u0c26\\u0c30\\u0c4d\\u0c36\\u0c3f\\u0c02\\u0c1a\\u0c3e\\u0c30\\u0c41. \\u0c2a\\u0c4d\\u0c30\\u0c2a\\u0c02\\u0c1a \\u0c35\\u0c3f\\u0c02\\u0c24\\u0c32\\u0c4d\\u0c32\\u0c4b \\u0c12\\u0c15\\u0c1f\\u0c48\\u0c28 \\u0c08 \\u0c2a\\u0c30\\u0c4d\\u0c2f\\u0c3e\\u0c1f\\u0c15 \\u0c15\\u0c47\\u0c02\\u0c26\\u0c4d\\u0c30\\u0c02 \\u0c35\\u0c26\\u0c4d\\u0c26 \\u0c1c\\u0c30\\u0c3f\\u0c17\\u0c3f\\u0c28 \\u2018\\u0c38\\u0c4d\\u0c35\\u0c1a\\u0c4d\\u0c1b\\u0c24\\u2019 \\u0c15\\u0c3e\\u0c30\\u0c4d\\u0c2f\\u0c15\\u0c4d\\u0c30\\u0c2e\\u0c02\\u0c32\\u0c4b \\u0c2a\\u0c3e\\u0c32\\u0c4d\\u0c17\\u0c4a\\u0c28\\u0c4d\\u0c28\\u0c3e\\u0c30\\u0c41. \\u0c07\\u0c02\\u0c26\\u0c41\\u0c32\\u0c4b \\u0c2d\\u0c3e\\u0c17\\u0c02\\u0c17\\u0c3e \\u0c1a\\u0c40\\u0c2a\\u0c41\\u0c30\\u0c41 \\u0c2a\\u0c1f\\u0c4d\\u0c1f\\u0c3f\\u0c28 \\u0c06\\u0c2f\\u0c28 \\u0c24\\u0c3e\\u0c1c\\u0c4d \\u0c2e\\u0c39\\u0c32\\u0c4d \\u0c2a\\u0c30\\u0c3f\\u0c38\\u0c30\\u0c3e\\u0c32\\u0c28\\u0c41 \\u0c0a\\u0c21\\u0c4d\\u0c1a\\u0c3f \\u0c36\\u0c41\\u0c2d\\u0c4d\\u0c30\\u0c02 \\u0c1a\\u0c47\\u0c36\\u0c3e\\u0c30\\u0c41. \\u0c24\\u0c3e\\u0c1c\\u0c4d \\u0c2e\\u0c39\\u0c32\\u0c4d \\u0c28\\u0c41\\u0c02\\u0c1a\\u0c3f \\u0c06\\u0c17\\u0c4d\\u0c30\\u0c3e \\u0c15\\u0c4b\\u0c1f\\u0c35\\u0c30\\u0c15\\u0c41 \\u0c2a\\u0c30\\u0c4d\\u0c2f\\u0c3e\\u0c1f\\u0c15\\u0c41\\u0c32 \\u0c15\\u0c4b\\u0c38\\u0c02 \\u0c15\\u0c3e\\u0c32\\u0c3f\\u0c2c\\u0c3e\\u0c1f\\u0c28\\u0c41 \\u0c28\\u0c3f\\u0c30\\u0c4d\\u0c2e\\u0c3f\\u0c02\\u0c1a\\u0c47\\u0c02\\u0c26\\u0c41\\u0c15\\u0c41 \\u0c36\\u0c02\\u0c15\\u0c41 \\u0c38\\u0c4d\\u0c25\\u0c3e\\u0c2a\\u0c28 \\u0c1a\\u0c47\\u0c2f\\u0c21\\u0c02\\u0c24\\u0c4b \\u0c2a\\u0c3e\\u0c1f\\u0c41 \\u0c28\\u0c17\\u0c30\\u0c02\\u0c32\\u0c4b\\u0c28\\u0c3f \\u0c2a\\u0c32\\u0c41 \\u0c05\\u0c2d\\u0c3f\\u0c35\\u0c43\\u0c26\\u0c4d\\u0c27\\u0c3f \\u0c15\\u0c3e\\u0c30\\u0c4d\\u0c2f\\u0c15\\u0c4d\\u0c30\\u0c2e\\u0c3e\\u0c32\\u0c15\\u0c41 \\u0c06\\u0c2f\\u0c28 \\u0c36\\u0c02\\u0c15\\u0c41\\u0c38\\u0c4d\\u0c25\\u0c3e\\u0c2a\\u0c28 \\u0c1a\\u0c47\\u0c2f\\u0c28\\u0c41\\u0c28\\u0c4d\\u0c28\\u0c3e\\u0c30\\u0c41. \\u0c15\\u0c3e\\u0c17\\u0c3e \\u0c2f\\u0c4b\\u0c17\\u0c3f \\u0c35\\u0c1a\\u0c4d\\u0c1a\\u0c3f\\u0c28 \\u0c38\\u0c02\\u0c26\\u0c30\\u0c4d\\u0c2d\\u0c02\\u0c17\\u0c3e \\u0c24\\u0c3e\\u0c1c\\u0c4d \\u0c2e\\u0c39\\u0c32\\u0c4d \\u0c35\\u0c26\\u0c4d\\u0c26 \\u0c2c\\u0c40\\u0c1c\\u0c47\\u0c2a\\u0c40, \\u0c39\\u0c3f\\u0c02\\u0c26\\u0c42 \\u0c2e\\u0c39\\u0c3e\\u0c38\\u0c02\\u0c18\\u0c4d \\u0c15\\u0c3e\\u0c30\\u0c4d\\u0c2f\\u0c15\\u0c30\\u0c4d\\u0c24\\u0c32\\u0c41 \\u0c2a\\u0c46\\u0c26\\u0c4d\\u0c26 \\u0c0e\\u0c24\\u0c4d\\u0c24\\u0c41\\u0c28 \\u0c1a\\u0c47\\u0c30\\u0c41\\u0c15\\u0c41\\u0c28\\u0c3f \\u2018\\u2018\\u0c2d\\u0c3e\\u0c30\\u0c24\\u0c4d \\u0c2e\\u0c3e\\u0c24\\u0c3e\\u0c15\\u0c40 \\u0c1c\\u0c48\\u2019\\u2019.. \\u2018\\u2018\\u0c1c\\u0c48 \\u0c36\\u0c4d\\u0c30\\u0c40\\u0c30\\u0c3e\\u0c2e\\u0c4d\\u2019\\u2019 \\u0c05\\u0c02\\u0c1f\\u0c42 \\u0c28\\u0c3f\\u0c28\\u0c3e\\u0c26\\u0c3e\\u0c32\\u0c41 \\u0c1a\\u0c47\\u0c2f\\u0c21\\u0c02 \\u0c35\\u0c3f\\u0c36\\u0c47\\u0c37\\u0c02. \\u00a0\\u0c08 \\u0c0f\\u0c21\\u0c3e\\u0c26\\u0c3f \\u0c2f\\u0c42\\u0c2a\\u0c40 \\u0c38\\u0c40\\u0c0e\\u0c02\\u0c17\\u0c3e \\u0c2a\\u0c4d\\u0c30\\u0c2e\\u0c3e\\u0c23 \\u0c38\\u0c4d\\u0c35\\u0c40\\u0c15\\u0c3e\\u0c30\\u0c02 \\u0c1a\\u0c47\\u0c38\\u0c3f\\u0c28 \\u0c24\\u0c30\\u0c4d\\u0c35\\u0c3e\\u0c24 \\u0c06\\u0c2f\\u0c28 \\u0c24\\u0c3e\\u0c1c\\u0c4d \\u0c2e\\u0c39\\u0c32\\u0c4d\\u200c\\u0c28\\u0c3f \\u0c38\\u0c02\\u0c26\\u0c30\\u0c4d\\u0c36\\u0c3f\\u0c02\\u0c1a\\u0c21\\u0c02 \\u0c07\\u0c26\\u0c47 \\u0c24\\u0c4a\\u0c32\\u0c3f\\u0c38\\u0c3e\\u0c30\\u0c3f. \\u0c2e\\u0c4a\\u0c18\\u0c32\\u0c4d \\u0c1a\\u0c15\\u0c4d\\u0c30\\u0c35\\u0c30\\u0c4d\\u0c24\\u0c3f \\u0c37\\u0c3e\\u0c1c\\u0c39\\u0c3e\\u0c28\\u0c4d \\u0c06\\u0c2f\\u0c28 \\u0c2d\\u0c3e\\u0c30\\u0c4d\\u0c2f \\u0c2e\\u0c41\\u0c02\\u0c24\\u0c3e\\u0c1c\\u0c4d \\u0c1c\\u0c4d\\u0c1e\\u0c3e\\u0c2a\\u0c15\\u0c3e\\u0c30\\u0c4d\\u0c25\\u0c02 \\u0c28\\u0c3f\\u0c30\\u0c4d\\u0c2e\\u0c3f\\u0c02\\u0c1a\\u0c3f\\u0c28 \\u0c08 \\u0c05\\u0c26\\u0c4d\\u0c2d\\u0c41\\u0c24 \\u0c15\\u0c1f\\u0c4d\\u0c1f\\u0c21\\u0c02\\u0c2a\\u0c48 \\u0c2c\\u0c40\\u0c1c\\u0c47\\u0c2a\\u0c40 \\u0c0e\\u0c2e\\u0c4d\\u0c2e\\u0c46\\u0c32\\u0c4d\\u0c2f\\u0c47 \\u0c38\\u0c02\\u0c17\\u0c40\\u0c24\\u0c4d \\u0c38\\u0c4b\\u0c2e\\u0c4d \\u0c07\\u0c1f\\u0c40\\u0c35\\u0c32 \\u0c35\\u0c3f\\u0c35\\u0c3e\\u0c26\\u0c3e\\u0c38\\u0c4d\\u0c2a\\u0c26 \\u0c35\\u0c4d\\u0c2f\\u0c3e\\u0c16\\u0c4d\\u0c2f\\u0c32\\u0c41 \\u0c1a\\u0c47\\u0c38\\u0c3f\\u0c28 \\u0c35\\u0c3f\\u0c37\\u0c2f\\u0c02 \\u0c24\\u0c46\\u0c32\\u0c3f\\u0c38\\u0c3f\\u0c02\\u0c26\\u0c47. \\u0c08 \\u0c28\\u0c47\\u0c2a\\u0c25\\u0c4d\\u0c2f\\u0c02\\u0c32\\u0c4b \\u0c2f\\u0c4b\\u0c17\\u0c3f \\u0c24\\u0c3e\\u0c1c\\u0c4d \\u0c2e\\u0c39\\u0c32\\u0c4d \\u0c38\\u0c02\\u0c26\\u0c30\\u0c4d\\u0c36\\u0c28\\u0c15\\u0c41 \\u0c30\\u0c3e\\u0c35\\u0c21\\u0c02 \\u0c2a\\u0c4d\\u0c30\\u0c3e\\u0c27\\u0c3e\\u0c28\\u0c4d\\u0c2f\\u0c24 \\u0c38\\u0c02\\u0c24\\u0c30\\u0c3f\\u0c02\\u0c1a\\u0c41\\u0c15\\u0c41\\u0c02\\u0c26\\u0c3f. \\u2018\\u2018\\u0c24\\u0c3e\\u0c1c\\u0c4d \\u0c2e\\u0c39\\u0c32\\u0c4d\\u200c\\u0c28\\u0c3f \\u0c0e\\u0c35\\u0c30\\u0c41 \\u0c28\\u0c3f\\u0c30\\u0c4d\\u0c2e\\u0c3f\\u0c02\\u0c1a\\u0c3e\\u0c30\\u0c41... \\u0c0f \\u0c15\\u0c3e\\u0c30\\u0c23\\u0c02\\u0c24\\u0c4b \\u0c28\\u0c3f\\u0c30\\u0c4d\\u0c2e\\u0c3f\\u0c02\\u0c1a\\u0c3e\\u0c30\\u0c28\\u0c4d\\u0c28\\u0c26\\u0c3f \\u0c2e\\u0c41\\u0c16\\u0c4d\\u0c2f\\u0c02\\u0c15\\u0c3e\\u0c26\\u0c41... \\u0c2d\\u0c3e\\u0c30\\u0c24 \\u0c15\\u0c3e\\u0c30\\u0c4d\\u0c2e\\u0c3f\\u0c15\\u0c41\\u0c32\\u0c41 \\u0c24\\u0c2e \\u0c30\\u0c15\\u0c4d\\u0c24\\u0c3e\\u0c28\\u0c4d\\u0c28\\u0c3f, \\u0c1a\\u0c46\\u0c2e\\u0c1f\\u0c28\\u0c41 \\u0c1a\\u0c3f\\u0c02\\u0c26\\u0c3f\\u0c02\\u0c1a\\u0c3f \\u0c08 \\u0c15\\u0c1f\\u0c4d\\u0c1f\\u0c21\\u0c3e\\u0c28\\u0c4d\\u0c28\\u0c3f \\u0c28\\u0c3f\\u0c30\\u0c4d\\u0c2e\\u0c3f\\u0c02\\u0c1a\\u0c3e\\u0c30\\u0c41..\\u2019\\u2019 \\u0c05\\u0c28\\u0c3f \\u0c2f\\u0c4b\\u0c17\\u0c3f \\u0c35\\u0c4d\\u0c2f\\u0c3e\\u0c16\\u0c4d\\u0c2f\\u0c3e\\u0c28\\u0c3f\\u0c02\\u0c1a\\u0c3f\\u0c28 \\u0c38\\u0c02\\u0c17\\u0c24\\u0c3f \\u0c24\\u0c46\\u0c32\\u0c3f\\u0c38\\u0c3f\\u0c02\\u0c26\\u0c47.\",\n          \"\\u0c24\\u0c28 \\u0c38\\u0c3f\\u0c28\\u0c3f\\u0c2e\\u0c3e \\u0c15\\u0c3e\\u0c30\\u0c23\\u0c02\\u0c17\\u0c3e \\u0c28\\u0c37\\u0c4d\\u0c1f\\u0c2a\\u0c4b\\u0c2f\\u0c3f\\u0c28 \\u0c35\\u0c3e\\u0c30\\u0c3f\\u0c28\\u0c3f \\u0c06\\u0c26\\u0c41\\u0c15\\u0c41\\u0c28\\u0c47\\u0c02\\u0c26\\u0c41\\u0c15\\u0c41 \\u0c38\\u0c4d\\u0c1f\\u0c3e\\u0c30\\u0c4d \\u0c39\\u0c40\\u0c30\\u0c4b \\u0c2e\\u0c41\\u0c02\\u0c26\\u0c41\\u0c15\\u0c4a\\u0c1a\\u0c4d\\u0c1a\\u0c3e\\u0c21\\u0c28\\u0c3f \\u0c07\\u0c02\\u0c21\\u0c38\\u0c4d\\u0c1f\\u0c4d\\u0c30\\u0c40 \\u0c35\\u0c30\\u0c4d\\u0c17\\u0c3e\\u0c32\\u0c4d\\u0c32\\u0c4b \\u0c2a\\u0c4d\\u0c30\\u0c1a\\u0c3e\\u0c30\\u0c02 \\u0c1c\\u0c30\\u0c41\\u0c17\\u0c41\\u0c24\\u0c4b\\u0c02\\u0c26\\u0c3f. \\u0c07\\u0c02\\u0c26\\u0c41\\u0c32\\u0c4b \\u0c2d\\u0c3e\\u0c17\\u0c02\\u0c17\\u0c3e \\u0c30\\u0c46\\u0c2e\\u0c4d\\u0c2f\\u0c42\\u0c28\\u0c30\\u0c47\\u0c37\\u0c28\\u0c4d\\u200c\\u0c32\\u0c4b \\u0c15\\u0c4a\\u0c02\\u0c24\\u0c35\\u0c30\\u0c15\\u0c41 \\u0c35\\u0c46\\u0c28\\u0c15\\u0c4d\\u0c15\\u0c3f \\u0c07\\u0c35\\u0c4d\\u0c35\\u0c3e\\u0c32\\u0c28\\u0c3f \\u0c21\\u0c3f\\u0c38\\u0c48\\u0c21\\u0c2f\\u0c4d\\u0c2f\\u0c3e\\u0c21\\u0c1f \\u0c15\\u0c4d\\u0c30\\u0c47\\u0c1c\\u0c40 \\u0c38\\u0c4d\\u0c1f\\u0c3e\\u0c30\\u0c4d.\\u00a0\\u0c15\\u0c4a\\u0c28\\u0c4d\\u0c28\\u0c3f \\u0c38\\u0c3f\\u0c28\\u0c3f\\u0c2e\\u0c3e\\u0c32\\u0c41 \\u0c2d\\u0c3e\\u0c30\\u0c40 \\u0c05\\u0c02\\u0c1a\\u0c28\\u0c3e\\u0c32\\u0c24\\u0c4b \\u0c2a\\u0c4d\\u0c30\\u0c47\\u0c15\\u0c4d\\u0c37\\u0c15\\u0c41\\u0c32 \\u0c2e\\u0c41\\u0c02\\u0c26\\u0c41\\u0c15\\u0c41 \\u0c35\\u0c38\\u0c4d\\u0c24\\u0c41\\u0c02\\u0c1f\\u0c3e\\u0c2f\\u0c3f. \\u0c05\\u0c32\\u0c3e\\u0c02\\u0c1f\\u0c3f \\u0c38\\u0c3f\\u0c28\\u0c3f\\u0c2e\\u0c3e\\u0c32 \\u0c2b\\u0c32\\u0c3f\\u0c24\\u0c02 \\u0c35\\u0c3f\\u0c37\\u0c2f\\u0c02\\u0c32\\u0c4b \\u0c24\\u0c47\\u0c21\\u0c3e \\u0c35\\u0c38\\u0c4d\\u0c24\\u0c47 \\u0c2a\\u0c4d\\u0c30\\u0c47\\u0c15\\u0c4d\\u0c37\\u0c15\\u0c41\\u0c32\\u0c41 \\u0c2e\\u0c3e\\u0c24\\u0c4d\\u0c30\\u0c2e\\u0c47 \\u0c15\\u0c3e\\u0c26\\u0c41, \\u0c21\\u0c3f\\u0c38\\u0c4d\\u0c1f\\u0c4d\\u0c30\\u0c3f\\u0c2c\\u0c4d\\u0c2f\\u0c42\\u0c1f\\u0c30\\u0c4d\\u0c32\\u0c41 \\u0c15\\u0c42\\u0c21\\u0c3e \\u0c2d\\u0c3e\\u0c30\\u0c40\\u0c17\\u0c3e \\u0c28\\u0c37\\u0c4d\\u0c1f\\u0c2a\\u0c4b\\u0c35\\u0c3e\\u0c32\\u0c4d\\u0c38\\u0c3f \\u0c35\\u0c38\\u0c4d\\u0c24\\u0c41\\u0c02\\u0c26\\u0c3f. \\u0c05\\u0c32\\u0c3e \\u0c05\\u0c28\\u0c47\\u0c15 \\u0c38\\u0c3f\\u0c28\\u0c3f\\u0c2e\\u0c3e\\u0c32\\u0c41 \\u0c15\\u0c4a\\u0c28\\u0c41\\u0c17\\u0c4b\\u0c32\\u0c41\\u0c26\\u0c3e\\u0c30\\u0c41\\u0c32\\u0c15\\u0c41 \\u0c28\\u0c37\\u0c4d\\u0c1f\\u0c3e\\u0c32\\u0c41 \\u0c24\\u0c46\\u0c1a\\u0c4d\\u0c1a\\u0c3f\\u0c2a\\u0c46\\u0c1f\\u0c4d\\u0c1f\\u0c3f\\u0c28 \\u0c1c\\u0c3e\\u0c2c\\u0c3f\\u0c24\\u0c3e\\u0c32\\u0c4b \\u0c09\\u0c28\\u0c4d\\u0c28\\u0c3e\\u0c2f\\u0c3f. \\u0c24\\u0c3e\\u0c1c\\u0c3e\\u0c17\\u0c3e \\u0c26\\u0c38\\u0c30\\u0c3e \\u0c2c\\u0c30\\u0c3f\\u0c32\\u0c4b \\u0c28\\u0c3f\\u0c32\\u0c3f\\u0c1a\\u0c3f\\u0c28 \\u0c2e\\u0c39\\u0c47\\u0c36\\u0c4d\\u200c\\u0c2c\\u0c3e\\u0c2c\\u0c41 \\u0c28\\u0c2f\\u0c3e \\u0c2e\\u0c42\\u0c35\\u0c40 '\\u0c38\\u0c4d\\u0c2a\\u0c48\\u0c21\\u0c30\\u0c4d' \\u0c15\\u0c42\\u0c21\\u0c3e \\u0c07\\u0c26\\u0c47 \\u0c32\\u0c3f\\u0c38\\u0c4d\\u0c1f\\u0c41\\u0c32\\u0c4b \\u0c1a\\u0c47\\u0c30\\u0c3f\\u0c2a\\u0c4b\\u0c2f\\u0c3f\\u0c02\\u0c26\\u0c28\\u0c3f \\u0c15\\u0c4a\\u0c26\\u0c4d\\u0c26\\u0c3f \\u0c30\\u0c4b\\u0c1c\\u0c41\\u0c32 \\u0c28\\u0c41\\u0c02\\u0c1a\\u0c3f \\u0c35\\u0c3e\\u0c30\\u0c4d\\u0c24\\u0c32\\u0c41 \\u0c35\\u0c3f\\u0c28\\u0c3f\\u0c2a\\u0c3f\\u0c38\\u0c4d\\u0c24\\u0c41\\u0c28\\u0c4d\\u0c28\\u0c3e\\u0c2f\\u0c3f.\\u00a0\\u0c08 \\u0c38\\u0c3f\\u0c28\\u0c3f\\u0c2e\\u0c3e \\u0c15\\u0c4a\\u0c28\\u0c41\\u0c17\\u0c4b\\u0c32\\u0c41\\u0c26\\u0c3e\\u0c30\\u0c41\\u0c32\\u0c15\\u0c41 \\u0c0e\\u0c02\\u0c24\\u0c17\\u0c3e \\u0c28\\u0c37\\u0c4d\\u0c1f\\u0c02 \\u0c24\\u0c46\\u0c1a\\u0c4d\\u0c1a\\u0c3f\\u0c2a\\u0c46\\u0c1f\\u0c4d\\u0c1f\\u0c3f\\u0c02\\u0c26\\u0c28\\u0c47 \\u0c35\\u0c3f\\u0c37\\u0c2f\\u0c02\\u0c32\\u0c4b \\u0c0e\\u0c35\\u0c30\\u0c3f\\u0c15\\u0c40 \\u0c05\\u0c02\\u0c24\\u0c17\\u0c3e \\u0c15\\u0c4d\\u0c32\\u0c3e\\u0c30\\u0c3f\\u0c1f\\u0c40 \\u0c32\\u0c47\\u0c15\\u0c2a\\u0c4b\\u0c2f\\u0c3f\\u0c28\\u0c3e \\u0c2d\\u0c3e\\u0c30\\u0c40 \\u0c30\\u0c47\\u0c1f\\u0c41\\u0c15\\u0c41 \\u0c38\\u0c3f\\u0c28\\u0c3f\\u0c2e\\u0c3e\\u0c28\\u0c41 \\u0c15\\u0c4a\\u0c28\\u0c41\\u0c17\\u0c4b\\u0c32\\u0c41 \\u0c1a\\u0c47\\u0c38\\u0c3f\\u0c28 \\u0c35\\u0c3e\\u0c33\\u0c4d\\u0c32\\u0c41 \\u0c0e\\u0c15\\u0c4d\\u0c15\\u0c41\\u0c35\\u0c17\\u0c3e\\u0c28\\u0c47 \\u0c28\\u0c37\\u0c4d\\u0c1f\\u0c3e\\u0c32\\u0c41 \\u0c1a\\u0c35\\u0c3f\\u0c1a\\u0c42\\u0c36\\u0c3e\\u0c30\\u0c28\\u0c3f \\u0c1f\\u0c4d\\u0c30\\u0c47\\u0c21\\u0c4d \\u0c35\\u0c30\\u0c4d\\u0c17\\u0c3e\\u0c32\\u0c41 \\u0c05\\u0c02\\u0c1f\\u0c41\\u0c28\\u0c4d\\u0c28\\u0c3e\\u0c2f\\u0c3f. \\u0c35\\u0c3e\\u0c30\\u0c3f\\u0c28\\u0c3f \\u0c06\\u0c26\\u0c41\\u0c15\\u0c41\\u0c28\\u0c47\\u0c02\\u0c26\\u0c41\\u0c15\\u0c41 \\u0c28\\u0c3f\\u0c30\\u0c4d\\u0c2e\\u0c3e\\u0c24\\u0c32\\u0c41 \\u0c2e\\u0c41\\u0c02\\u0c26\\u0c41\\u0c15\\u0c4a\\u0c38\\u0c4d\\u0c24\\u0c3e\\u0c30\\u0c4b \\u0c32\\u0c47\\u0c26\\u0c4b \\u0c24\\u0c46\\u0c32\\u0c3f\\u0c2f\\u0c26\\u0c41 \\u0c15\\u0c3e\\u0c28\\u0c40 \\u0c2e\\u0c39\\u0c47\\u0c36\\u0c4d\\u200c\\u0c2c\\u0c3e\\u0c2c\\u0c41 \\u0c2e\\u0c3e\\u0c24\\u0c4d\\u0c30\\u0c02 \\u0c08 \\u0c35\\u0c3f\\u0c37\\u0c2f\\u0c02\\u0c32\\u0c4b \\u0c2e\\u0c41\\u0c02\\u0c26\\u0c41\\u0c15\\u0c4a\\u0c1a\\u0c4d\\u0c1a\\u0c3e\\u0c21\\u0c28\\u0c3f \\u0c15\\u0c4a\\u0c02\\u0c26\\u0c30\\u0c41 \\u0c1a\\u0c30\\u0c4d\\u0c1a\\u0c3f\\u0c02\\u0c1a\\u0c41\\u0c15\\u0c41\\u0c02\\u0c1f\\u0c41\\u0c28\\u0c4d\\u0c28\\u0c3e\\u0c30\\u0c41.\\u00a0\\u0c17\\u0c24\\u0c02\\u0c32\\u0c4b\\u0c28\\u0c42 \\u0c2a\\u0c32\\u0c41\\u0c38\\u0c3e\\u0c30\\u0c4d\\u0c32\\u0c41 \\u0c24\\u0c28 \\u0c38\\u0c3f\\u0c28\\u0c3f\\u0c2e\\u0c3e \\u0c2b\\u0c4d\\u0c32\\u0c3e\\u0c2a\\u0c4d \\u0c05\\u0c2f\\u0c3f\\u0c28 \\u0c38\\u0c02\\u0c26\\u0c30\\u0c4d\\u0c2d\\u0c3e\\u0c32\\u0c4d\\u0c32\\u0c4b \\u0c30\\u0c46\\u0c2e\\u0c4d\\u0c2f\\u0c42\\u0c28\\u0c30\\u0c47\\u0c37\\u0c28\\u0c4d\\u200c\\u0c28\\u0c41 \\u0c24\\u0c17\\u0c4d\\u0c17\\u0c3f\\u0c02\\u0c1a\\u0c41\\u0c15\\u0c4b\\u0c35\\u0c21\\u0c2e\\u0c4b \\u0c32\\u0c47\\u0c15 \\u0c15\\u0c4a\\u0c02\\u0c24 \\u0c30\\u0c46\\u0c2e\\u0c4d\\u0c2f\\u0c42\\u0c28\\u0c30\\u0c47\\u0c37\\u0c28\\u0c4d\\u200c\\u0c28\\u0c41 \\u0c35\\u0c46\\u0c28\\u0c15\\u0c4d\\u0c15\\u0c3f \\u0c07\\u0c1a\\u0c4d\\u0c1a\\u0c47\\u0c2f\\u0c21\\u0c2e\\u0c4b \\u0c2e\\u0c39\\u0c47\\u0c36\\u0c4d \\u0c1a\\u0c47\\u0c36\\u0c3e\\u0c21\\u0c28\\u0c3f \\u0c2a\\u0c4d\\u0c30\\u0c1a\\u0c3e\\u0c30\\u0c02 \\u0c1c\\u0c30\\u0c3f\\u0c17\\u0c3f\\u0c02\\u0c26\\u0c3f. \\u0c24\\u0c3e\\u0c1c\\u0c3e\\u0c17\\u0c3e '\\u0c38\\u0c4d\\u0c2a\\u0c48\\u0c21\\u0c30\\u0c4d' \\u0c35\\u0c3f\\u0c37\\u0c2f\\u0c02\\u0c32\\u0c4b\\u0c28\\u0c42 \\u0c06\\u0c2f\\u0c28 \\u0c07\\u0c26\\u0c47 \\u0c2c\\u0c3e\\u0c1f\\u0c32\\u0c4b \\u0c28\\u0c21\\u0c41\\u0c38\\u0c4d\\u0c24\\u0c41\\u0c28\\u0c4d\\u0c28\\u0c3e\\u0c21\\u0c28\\u0c3f \\u0c35\\u0c3e\\u0c30\\u0c4d\\u0c24\\u0c32\\u0c41 \\u0c35\\u0c3f\\u0c28\\u0c3f\\u0c2a\\u0c3f\\u0c38\\u0c4d\\u0c24\\u0c41\\u0c28\\u0c4d\\u0c28\\u0c3e\\u0c2f\\u0c3f. '\\u0c38\\u0c4d\\u0c2a\\u0c48\\u0c21\\u0c30\\u0c4d' \\u0c38\\u0c3f\\u0c28\\u0c3f\\u0c2e\\u0c3e\\u0c15\\u0c41\\u0c17\\u0c3e\\u0c28\\u0c42 \\u0c2e\\u0c39\\u0c47\\u0c36\\u0c4d\\u200c\\u200c\\u0c2c\\u0c3e\\u0c2c\\u0c41 20 \\u0c15\\u0c4b\\u0c1f\\u0c4d\\u0c32\\u0c15\\u0c41 \\u0c2a\\u0c48\\u0c17\\u0c3e \\u0c2a\\u0c3e\\u0c30\\u0c3f\\u0c24\\u0c4b\\u0c37\\u0c3f\\u0c15\\u0c02 \\u0c05\\u0c02\\u0c26\\u0c41\\u0c15\\u0c41\\u0c28\\u0c4d\\u0c28\\u0c3e\\u0c21\\u0c28\\u0c3f, \\u0c07\\u0c02\\u0c26\\u0c41\\u0c32\\u0c4b \\u0c15\\u0c4a\\u0c02\\u0c24\\u0c2e\\u0c4a\\u0c24\\u0c4d\\u0c24\\u0c3e\\u0c28\\u0c4d\\u0c28\\u0c3f \\u0c35\\u0c46\\u0c28\\u0c15\\u0c4d\\u0c15\\u0c3f \\u0c07\\u0c1a\\u0c4d\\u0c1a\\u0c47\\u0c02\\u0c26\\u0c41\\u0c15\\u0c41 \\u0c38\\u0c41\\u0c2e\\u0c41\\u0c16\\u0c02\\u0c17\\u0c3e \\u0c09\\u0c28\\u0c4d\\u0c28\\u0c3e\\u0c21\\u0c28\\u0c3f \\u0c2b\\u0c3f\\u0c32\\u0c4d\\u0c2e\\u0c4d \\u0c38\\u0c30\\u0c4d\\u0c15\\u0c3f\\u0c32\\u0c4d\\u0c38\\u0c4d\\u200c\\u0c32\\u0c4b \\u0c0a\\u0c39\\u0c3e\\u0c17\\u0c3e\\u0c28\\u0c3e\\u0c32\\u0c41 \\u0c1c\\u0c4b\\u0c30\\u0c02\\u0c26\\u0c41\\u0c15\\u0c41\\u0c28\\u0c4d\\u0c28\\u0c3e\\u0c2f\\u0c3f. \\u0c05\\u0c2f\\u0c3f\\u0c24\\u0c47 \\u0c08 \\u0c35\\u0c3f\\u0c37\\u0c2f\\u0c02\\u0c32\\u0c4b \\u0c15\\u0c4d\\u0c32\\u0c3e\\u0c30\\u0c3f\\u0c1f\\u0c40 \\u0c30\\u0c3e\\u0c35\\u0c21\\u0c3e\\u0c28\\u0c3f\\u0c15\\u0c3f \\u0c15\\u0c4a\\u0c02\\u0c24 \\u0c38\\u0c2e\\u0c2f\\u0c02 \\u0c2a\\u0c21\\u0c41\\u0c24\\u0c41\\u0c02\\u0c26\\u0c3f.\\u00a0\\u0c38\\u0c4d\\u0c2a\\u0c48\\u0c21\\u0c30\\u0c4d \\u0c38\\u0c3f\\u0c28\\u0c3f\\u0c2e\\u0c3e \\u0c17\\u0c41\\u0c30\\u0c3f\\u0c02\\u0c1a\\u0c3f \\u0c15\\u0c4a\\u0c28\\u0c4d\\u0c28\\u0c3f \\u0c06\\u0c38\\u0c15\\u0c4d\\u0c24\\u0c3f\\u0c15\\u0c30 \\u0c35\\u0c3f\\u0c37\\u0c2f\\u0c3e\\u0c32\\u0c41\\u00a0\\u0c2e\\u0c39\\u0c47\\u0c36\\u0c4d\\u200c\\u0c2c\\u0c3e\\u0c2c\\u0c41 \\u0c38\\u0c3f\\u0c28\\u0c3f\\u0c2e\\u0c3e \\u0c15\\u0c4b\\u0c38\\u0c02 \\u0c2d\\u0c3e\\u0c30\\u0c40 \\u0c38\\u0c46\\u0c1f\\u0c4d: \\u0c16\\u0c30\\u0c4d\\u0c1a\\u0c46\\u0c02\\u0c24\\u0c02\\u0c1f\\u0c47..!\"\n        ],\n        \"semantic_type\": \"\",\n        \"description\": \"\"\n      }\n    },\n    {\n      \"column\": \"topic\",\n      \"properties\": {\n        \"dtype\": \"category\",\n        \"num_unique_values\": 3,\n        \"samples\": [\n          \"entertainment\",\n          \"nation\",\n          \"others\"\n        ],\n        \"semantic_type\": \"\",\n        \"description\": \"\"\n      }\n    },\n    {\n      \"column\": \"text_length\",\n      \"properties\": {\n        \"dtype\": \"number\",\n        \"std\": 458,\n        \"min\": 11,\n        \"max\": 2403,\n        \"num_unique_values\": 1545,\n        \"samples\": [\n          2389,\n          345,\n          1435\n        ],\n        \"semantic_type\": \"\",\n        \"description\": \"\"\n      }\n    }\n  ]\n}"
            }
          },
          "metadata": {},
          "execution_count": 18
        }
      ]
    },
    {
      "cell_type": "code",
      "source": [
        "\n",
        "plt.figure(figsize=(14, 6))\n",
        "sns.boxplot(x='topic', y='text_length', data=df, palette='Set3')\n",
        "plt.title('Text Length by topic', fontsize=16)\n",
        "plt.xlabel('topic', fontsize=12)\n",
        "plt.ylabel('Text Length', fontsize=12)\n",
        "plt.xticks(rotation=45)\n",
        "plt.savefig('Text Length by topic.png',dpi=1200,bbox_inches='tight')\n",
        "plt.show()"
      ],
      "metadata": {
        "colab": {
          "base_uri": "https://localhost:8080/",
          "height": 453
        },
        "id": "RjEPXjYxuV84",
        "outputId": "1347fb07-f672-4e45-c49e-f3e4ecbfd107"
      },
      "execution_count": null,
      "outputs": [
        {
          "output_type": "stream",
          "name": "stderr",
          "text": [
            "<ipython-input-21-b1485871b5fc>:2: FutureWarning: \n",
            "\n",
            "Passing `palette` without assigning `hue` is deprecated and will be removed in v0.14.0. Assign the `x` variable to `hue` and set `legend=False` for the same effect.\n",
            "\n",
            "  sns.boxplot(x='topic', y='text_length', data=df, palette='Set3')\n"
          ]
        },
        {
          "output_type": "display_data",
          "data": {
            "text/plain": [
              "<Figure size 1400x600 with 1 Axes>"
            ],
            "image/png": "[encoded data removed]"
          },
          "metadata": {}
        }
      ]
    },
    {
      "cell_type": "markdown",
      "source": [
        "based on the lengths of the sentences we just  draw a box plot based on different topics and  here we can find only few sentences are  with more length than others"
      ],
      "metadata": {
        "id": "IvGA03zQcKWh"
      }
    },
    {
      "cell_type": "code",
      "source": [
        "print(\"\\nTop 10 Longest Texts:\")\n",
        "print(df.nlargest(10, 'text_length')[['body', 'text_length']])"
      ],
      "metadata": {
        "colab": {
          "base_uri": "https://localhost:8080/"
        },
        "id": "Nbaoph2Fuji-",
        "outputId": "4173bb30-d7dd-4c2e-c602-869716e185c2"
      },
      "execution_count": null,
      "outputs": [
        {
          "output_type": "stream",
          "name": "stdout",
          "text": [
            "\n",
            "Top 10 Longest Texts:\n",
            "                                                   body  text_length\n",
            "2551  హిందువులైనా, ముస్లింలైనా, మరొకరైనా భార్యలను అన...        51826\n",
            "18    ఆర్కే కొత్తపలుకు  గుంపుస్వామ్యంలో పడి ప్రజలు క...        29574\n",
            "3022  పునర్జన్మ పొందిన ‘ఆంధ్రజ్యోతి’ 15 సంవత్సరాలు ప...        27169\n",
            "2739  అమెరికాలో మనవాళ్ల పరిస్థితి ఏమిటి? అమెరికా వెళ...        26780\n",
            "2856  దేశవ్యాప్తంగా న్యూ పెన్షన్‌ స్కీం పరిధిలోకి వచ...        20120\n",
            "3509  కుల కేంద్రితంగా కాకుండా వెనుకబాటుతనాన్ని వాస్త...        18575\n",
            "872   దశాబ్దాలుగా కాగితాలకే పరిమితమైన దేశంలోనే అతిపె...        18428\n",
            "678                                  చిన్నవయసులోని వ...        17472\n",
            "3094  గురజాడ సాహిత్య భావజాలాన్ని, వచనకవిత్వానికి ఆద్...        17220\n",
            "3534  1977 నవంబర్ 19న ఆంధ్రప్రదేశ్‌ కోస్తా తీరంలో సం...        16444\n"
          ]
        }
      ]
    },
    {
      "cell_type": "markdown",
      "source": [
        "The above code displays the top 10 Longest texts from the dataset based on their lengths.This shows both the text itself and the corresponding  length for each entities."
      ],
      "metadata": {
        "id": "4sebfdCQde9n"
      }
    },
    {
      "cell_type": "code",
      "source": [
        "print(\"\\nTop 10 Shortest Texts:\")\n",
        "print(df.nsmallest(10, 'text_length')[['body', 'text_length']])"
      ],
      "metadata": {
        "colab": {
          "base_uri": "https://localhost:8080/"
        },
        "id": "kw47_HV6upE8",
        "outputId": "b3b3e585-8951-41fb-d2b9-9fdfc8f8bd52"
      },
      "execution_count": null,
      "outputs": [
        {
          "output_type": "stream",
          "name": "stdout",
          "text": [
            "\n",
            "Top 10 Shortest Texts:\n",
            "                         body  text_length\n",
            "1359             \\n- శాంతివనం           11\n",
            "173             \\n- కలిమిశ్రీ           12\n",
            "210             \\n- రిషికపూర్           12\n",
            "1622        \\n - బిక్కి కృష్ణ           16\n",
            "2059         భద్రతకు పెద్దపీట           17\n",
            "2570       తయారీ రంగం వెనుకంజ           19\n",
            "2770   \\nరూ. 25 వేలు స్వాధీనం           21\n",
            "2393  \\n- కందుకూరి శ్రీరాములు           22\n",
            "3495   - లాలూ ప్రసాద్‌ యాదవ్‌           22\n",
            "659    రామ్‌దేవ్‌తో యోగి భేటీ           23\n"
          ]
        }
      ]
    },
    {
      "cell_type": "markdown",
      "source": [
        "The above code displays the top 10 shortest texts from the dataset based on their lengths.This shows both the text itself and the corresponding  length for each entities."
      ],
      "metadata": {
        "id": "UbIjwvZDdgyv"
      }
    },
    {
      "cell_type": "code",
      "source": [
        "\n",
        "import pandas as pd\n",
        "import re\n",
        "from collections import Counter\n",
        "\n",
        "try:\n",
        "\n",
        "    file_path = '/content/drive/MyDrive/news dataset/TELUGU_NEWS_TEST (1).csv'\n",
        "    df = pd.read_csv(file_path)\n",
        "    print(\"Data loaded successfully.\")\n",
        "\n",
        "\n",
        "    print(\"Available columns in your dataset:\")\n",
        "    print(df.columns.tolist())\n",
        "\n",
        "\n",
        "    column_name = input(\"Please enter the name of the column containing Telugu sentences: \")\n",
        "\n",
        "    if column_name not in df.columns:\n",
        "        raise ValueError(f\"Column '{column_name}' not found in the dataset.\")\n",
        "\n",
        "\n",
        "    def split_sentence(sentence):\n",
        "        if isinstance(sentence, str):\n",
        "            return re.findall(r'\\S+', sentence)\n",
        "        return []\n",
        "\n",
        "\n",
        "    all_words = []\n",
        "    for sentence in df[column_name]:\n",
        "        all_words.extend(split_sentence(sentence))\n",
        "\n",
        "    word_counts = Counter(all_words).most_common(20)  # Top 20 words\n",
        "    print(\"Word counts calculated.\")\n",
        "\n",
        "\n",
        "    print(\"\\nTop 20 words and their frequencies:\")\n",
        "    max_word_length = max(len(word) for word, _ in word_counts)\n",
        "    max_count = max(count for _, count in word_counts)\n",
        "\n",
        "    for word, count in word_counts:\n",
        "        bar = '#' * int(count * 50 / max_count)\n",
        "        print(f\"{word.ljust(max_word_length)} | {str(count).rjust(5)} | {bar}\")\n",
        "\n",
        "except Exception as e:\n",
        "    print(f\"An error occurred: {str(e)}\")\n",
        "\n",
        "print(\"Script completed.\")\n"
      ],
      "metadata": {
        "colab": {
          "base_uri": "https://localhost:8080/"
        },
        "id": "3X-cpyGiuwiG",
        "outputId": "f46856ce-2c31-4265-d1de-d04142e60a87"
      },
      "execution_count": null,
      "outputs": [
        {
          "output_type": "stream",
          "name": "stdout",
          "text": [
            "Data loaded successfully.\n",
            "Available columns in your dataset:\n",
            "['SNo', 'date', 'heading', 'body', 'topic']\n",
            "Please enter the name of the column containing Telugu sentences: body\n",
            "Word counts calculated.\n",
            "\n",
            "Top 20 words and their frequencies:\n",
            "ఈ         |  9794 | ##################################################\n",
            "కూడా      |  4153 | #####################\n",
            "ఆ         |  3897 | ###################\n",
            "నుంచి     |  3076 | ###############\n",
            "ఆయన       |  2519 | ############\n",
            "అని       |  2317 | ###########\n",
            "సినిమా    |  2089 | ##########\n",
            "తన        |  2014 | ##########\n",
            "ఒక        |  1799 | #########\n",
            "ఓ         |  1653 | ########\n",
            "చేశారు.   |  1603 | ########\n",
            "అయితే     |  1547 | #######\n",
            "కోసం      |  1539 | #######\n",
            "ఉన్న      |  1533 | #######\n",
            "ప్రభుత్వం |  1321 | ######\n",
            "చేసిన     |  1259 | ######\n",
            "తర్వాత    |  1180 | ######\n",
            "శాతం      |  1175 | #####\n",
            "కోట్ల     |  1175 | #####\n",
            "తమ        |  1147 | #####\n",
            "Script completed.\n"
          ]
        }
      ]
    },
    {
      "cell_type": "markdown",
      "source": [
        "This script is designed to load a dataset containing Telugu sentences. Once the data is loaded, it calculates the top 20 most frequent words and visualizes them in a simple bar chart type visualization .Additionally, it prompts the user to choose the appropriate column in the dataset for analysis, making the process interactive and user-friendly."
      ],
      "metadata": {
        "id": "VUyn59UceBLG"
      }
    },
    {
      "cell_type": "code",
      "source": [
        "#for truncated\n",
        "import pandas as pd\n",
        "import re\n",
        "from collections import Counter\n",
        "\n",
        "try:\n",
        "    # Load your data (replace with the actual path to your file)\n",
        "    file_path = '//content/trimmed_dataset22.csv'\n",
        "    df = pd.read_csv(file_path)\n",
        "    print(\"Data loaded successfully.\")\n",
        "\n",
        "    # Print column names\n",
        "    print(\"Available columns in your dataset:\")\n",
        "    print(df.columns.tolist())\n",
        "\n",
        "    # Ask user for the correct column name\n",
        "    column_name = input(\"Please enter the name of the column containing Telugu sentences: \")\n",
        "\n",
        "    if column_name not in df.columns:\n",
        "        raise ValueError(f\"Column '{column_name}' not found in the dataset.\")\n",
        "\n",
        "    # Function to split sentences into words\n",
        "    def split_sentence(sentence):\n",
        "        if isinstance(sentence, str):\n",
        "            return re.findall(r'\\S+', sentence)\n",
        "        return []\n",
        "\n",
        "    # Split sentences and count word frequencies\n",
        "    all_words = []\n",
        "    for sentence in df[column_name]:\n",
        "        all_words.extend(split_sentence(sentence))\n",
        "\n",
        "    word_counts = Counter(all_words).most_common(20)  # Top 20 words\n",
        "    print(\"Word counts calculated.\")\n",
        "\n",
        "    # Print the top 20 words and their counts\n",
        "    print(\"\\nTop 20 words and their frequencies:\")\n",
        "    max_word_length = max(len(word) for word, _ in word_counts)\n",
        "    max_count = max(count for _, count in word_counts)\n",
        "\n",
        "    for word, count in word_counts:\n",
        "        bar = '#' * int(count * 50 / max_count)\n",
        "        print(f\"{word.ljust(max_word_length)} | {str(count).rjust(5)} | {bar}\")\n",
        "\n",
        "except Exception as e:\n",
        "    print(f\"An error occurred: {str(e)}\")\n",
        "\n",
        "print(\"Script completed.\")\n"
      ],
      "metadata": {
        "colab": {
          "base_uri": "https://localhost:8080/"
        },
        "id": "QgbyHjGqw5OS",
        "outputId": "9dc433b6-c725-49d0-db5d-e3d20fc2c2b6"
      },
      "execution_count": null,
      "outputs": [
        {
          "output_type": "stream",
          "name": "stdout",
          "text": [
            "Data loaded successfully.\n",
            "Available columns in your dataset:\n",
            "['SNo', 'date', 'heading', 'body', 'topic', 'text_length']\n",
            "Please enter the name of the column containing Telugu sentences: body\n",
            "Word counts calculated.\n",
            "\n",
            "Top 20 words and their frequencies:\n",
            "ఈ         |  6795 | ##################################################\n",
            "కూడా      |  2289 | ################\n",
            "ఆ         |  2212 | ################\n",
            "నుంచి     |  1847 | #############\n",
            "సినిమా    |  1760 | ############\n",
            "ఆయన       |  1535 | ###########\n",
            "అని       |  1404 | ##########\n",
            "ఓ         |  1365 | ##########\n",
            "తన        |  1348 | #########\n",
            "చేశారు.   |  1255 | #########\n",
            "అయితే     |  1025 | #######\n",
            "తెలిపారు. |  1011 | #######\n",
            "కోసం      |   986 | #######\n",
            "చెప్పారు. |   958 | #######\n",
            "ఉన్న      |   844 | ######\n",
            "చేసిన     |   828 | ######\n",
            "కోట్ల     |   788 | #####\n",
            "తర్వాత    |   763 | #####\n",
            "మరో       |   713 | #####\n",
            "చేసింది.  |   687 | #####\n",
            "Script completed.\n"
          ]
        }
      ]
    },
    {
      "cell_type": "markdown",
      "source": [
        "The above  code loads the trimmed version of the dataset and it calculates the top  20 most frequent words along with simple bar chart type visualization of their counts."
      ],
      "metadata": {
        "id": "Xj_7ddSkeGCk"
      }
    }
  ]
}