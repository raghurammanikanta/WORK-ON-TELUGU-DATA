{
  "nbformat": 4,
  "nbformat_minor": 0,
  "metadata": {
    "colab": {
      "provenance": [],
      "include_colab_link": true
    },
    "kernelspec": {
      "name": "python3",
      "display_name": "Python 3"
    },
    "language_info": {
      "name": "python"
    }
  },
  "cells": [
    {
      "cell_type": "markdown",
      "metadata": {
        "id": "view-in-github",
        "colab_type": "text"
      },
      "source": [
        "<a href=\"https://colab.research.google.com/github/raghurammanikanta/WORK-ON-TELUGU-DATA/blob/main/models_on_emotion.ipynb\" target=\"_parent\"><img src=\"https://colab.research.google.com/assets/colab-badge.svg\" alt=\"Open In Colab\"/></a>"
      ]
    },
    {
      "cell_type": "code",
      "execution_count": null,
      "metadata": {
        "id": "GWgMNKbTZJRH"
      },
      "outputs": [],
      "source": [
        "import pandas as pd"
      ]
    },
    {
      "cell_type": "code",
      "source": [
        "da=pd.read_excel('/content/drive/MyDrive/merged_dataset.xlsx')\n",
        "da.head()"
      ],
      "metadata": {
        "colab": {
          "base_uri": "https://localhost:8080/",
          "height": 206
        },
        "id": "Z5nhDA4SZNj8",
        "outputId": "985f26d5-0dde-4704-ed5d-98a0c5e6ae78"
      },
      "execution_count": null,
      "outputs": [
        {
          "output_type": "execute_result",
          "data": {
            "text/plain": [
              "                                            Sentence Emotion Tokens\n",
              "0  డ్రెస్సింగ్ విషయంలో సెలబ్రిటీలను బయటివాళ్లూ అన...      no    NaN\n",
              "1  అయితే ప్ర‌భుదాస్ వైష్ణాని అనే వ్య‌క్తి క‌స్ట‌డ...     sad    NaN\n",
              "2  విజయ్ ఆంటోని, యాక్షన్‌కింగ్ అర్జున్ కలిసి నటిస...      no    NaN\n",
              "3  ఆయన 2019 ఎన్నికల్లో టీడీపీ సిట్టింగ్ ఎమ్మెల్యే...   happy    NaN\n",
              "4  రెండోసారి ప్రధాని అయిన నరేంద్రమోదీకి, ఏపీలో వి...   happy    NaN"
            ],
            "text/html": [
              "\n",
              "  <div id=\"df-f9493937-7088-43c5-b7ac-09b76b3fbccb\" class=\"colab-df-container\">\n",
              "    <div>\n",
              "<style scoped>\n",
              "    .dataframe tbody tr th:only-of-type {\n",
              "        vertical-align: middle;\n",
              "    }\n",
              "\n",
              "    .dataframe tbody tr th {\n",
              "        vertical-align: top;\n",
              "    }\n",
              "\n",
              "    .dataframe thead th {\n",
              "        text-align: right;\n",
              "    }\n",
              "</style>\n",
              "<table border=\"1\" class=\"dataframe\">\n",
              "  <thead>\n",
              "    <tr style=\"text-align: right;\">\n",
              "      <th></th>\n",
              "      <th>Sentence</th>\n",
              "      <th>Emotion</th>\n",
              "      <th>Tokens</th>\n",
              "    </tr>\n",
              "  </thead>\n",
              "  <tbody>\n",
              "    <tr>\n",
              "      <th>0</th>\n",
              "      <td>డ్రెస్సింగ్ విషయంలో సెలబ్రిటీలను బయటివాళ్లూ అన...</td>\n",
              "      <td>no</td>\n",
              "      <td>NaN</td>\n",
              "    </tr>\n",
              "    <tr>\n",
              "      <th>1</th>\n",
              "      <td>అయితే ప్ర‌భుదాస్ వైష్ణాని అనే వ్య‌క్తి క‌స్ట‌డ...</td>\n",
              "      <td>sad</td>\n",
              "      <td>NaN</td>\n",
              "    </tr>\n",
              "    <tr>\n",
              "      <th>2</th>\n",
              "      <td>విజయ్ ఆంటోని, యాక్షన్‌కింగ్ అర్జున్ కలిసి నటిస...</td>\n",
              "      <td>no</td>\n",
              "      <td>NaN</td>\n",
              "    </tr>\n",
              "    <tr>\n",
              "      <th>3</th>\n",
              "      <td>ఆయన 2019 ఎన్నికల్లో టీడీపీ సిట్టింగ్ ఎమ్మెల్యే...</td>\n",
              "      <td>happy</td>\n",
              "      <td>NaN</td>\n",
              "    </tr>\n",
              "    <tr>\n",
              "      <th>4</th>\n",
              "      <td>రెండోసారి ప్రధాని అయిన నరేంద్రమోదీకి, ఏపీలో వి...</td>\n",
              "      <td>happy</td>\n",
              "      <td>NaN</td>\n",
              "    </tr>\n",
              "  </tbody>\n",
              "</table>\n",
              "</div>\n",
              "    <div class=\"colab-df-buttons\">\n",
              "\n",
              "  <div class=\"colab-df-container\">\n",
              "    <button class=\"colab-df-convert\" onclick=\"convertToInteractive('df-f9493937-7088-43c5-b7ac-09b76b3fbccb')\"\n",
              "            title=\"Convert this dataframe to an interactive table.\"\n",
              "            style=\"display:none;\">\n",
              "\n",
              "  <svg xmlns=\"http://www.w3.org/2000/svg\" height=\"24px\" viewBox=\"0 -960 960 960\">\n",
              "    <path d=\"M120-120v-720h720v720H120Zm60-500h600v-160H180v160Zm220 220h160v-160H400v160Zm0 220h160v-160H400v160ZM180-400h160v-160H180v160Zm440 0h160v-160H620v160ZM180-180h160v-160H180v160Zm440 0h160v-160H620v160Z\"/>\n",
              "  </svg>\n",
              "    </button>\n",
              "\n",
              "  <style>\n",
              "    .colab-df-container {\n",
              "      display:flex;\n",
              "      gap: 12px;\n",
              "    }\n",
              "\n",
              "    .colab-df-convert {\n",
              "      background-color: #E8F0FE;\n",
              "      border: none;\n",
              "      border-radius: 50%;\n",
              "      cursor: pointer;\n",
              "      display: none;\n",
              "      fill: #1967D2;\n",
              "      height: 32px;\n",
              "      padding: 0 0 0 0;\n",
              "      width: 32px;\n",
              "    }\n",
              "\n",
              "    .colab-df-convert:hover {\n",
              "      background-color: #E2EBFA;\n",
              "      box-shadow: 0px 1px 2px rgba(60, 64, 67, 0.3), 0px 1px 3px 1px rgba(60, 64, 67, 0.15);\n",
              "      fill: #174EA6;\n",
              "    }\n",
              "\n",
              "    .colab-df-buttons div {\n",
              "      margin-bottom: 4px;\n",
              "    }\n",
              "\n",
              "    [theme=dark] .colab-df-convert {\n",
              "      background-color: #3B4455;\n",
              "      fill: #D2E3FC;\n",
              "    }\n",
              "\n",
              "    [theme=dark] .colab-df-convert:hover {\n",
              "      background-color: #434B5C;\n",
              "      box-shadow: 0px 1px 3px 1px rgba(0, 0, 0, 0.15);\n",
              "      filter: drop-shadow(0px 1px 2px rgba(0, 0, 0, 0.3));\n",
              "      fill: #FFFFFF;\n",
              "    }\n",
              "  </style>\n",
              "\n",
              "    <script>\n",
              "      const buttonEl =\n",
              "        document.querySelector('#df-f9493937-7088-43c5-b7ac-09b76b3fbccb button.colab-df-convert');\n",
              "      buttonEl.style.display =\n",
              "        google.colab.kernel.accessAllowed ? 'block' : 'none';\n",
              "\n",
              "      async function convertToInteractive(key) {\n",
              "        const element = document.querySelector('#df-f9493937-7088-43c5-b7ac-09b76b3fbccb');\n",
              "        const dataTable =\n",
              "          await google.colab.kernel.invokeFunction('convertToInteractive',\n",
              "                                                    [key], {});\n",
              "        if (!dataTable) return;\n",
              "\n",
              "        const docLinkHtml = 'Like what you see? Visit the ' +\n",
              "          '<a target=\"_blank\" href=https://colab.research.google.com/notebooks/data_table.ipynb>data table notebook</a>'\n",
              "          + ' to learn more about interactive tables.';\n",
              "        element.innerHTML = '';\n",
              "        dataTable['output_type'] = 'display_data';\n",
              "        await google.colab.output.renderOutput(dataTable, element);\n",
              "        const docLink = document.createElement('div');\n",
              "        docLink.innerHTML = docLinkHtml;\n",
              "        element.appendChild(docLink);\n",
              "      }\n",
              "    </script>\n",
              "  </div>\n",
              "\n",
              "\n",
              "<div id=\"df-d3a4d7b0-1fef-49e9-b10c-a47417484d39\">\n",
              "  <button class=\"colab-df-quickchart\" onclick=\"quickchart('df-d3a4d7b0-1fef-49e9-b10c-a47417484d39')\"\n",
              "            title=\"Suggest charts\"\n",
              "            style=\"display:none;\">\n",
              "\n",
              "<svg xmlns=\"http://www.w3.org/2000/svg\" height=\"24px\"viewBox=\"0 0 24 24\"\n",
              "     width=\"24px\">\n",
              "    <g>\n",
              "        <path d=\"M19 3H5c-1.1 0-2 .9-2 2v14c0 1.1.9 2 2 2h14c1.1 0 2-.9 2-2V5c0-1.1-.9-2-2-2zM9 17H7v-7h2v7zm4 0h-2V7h2v10zm4 0h-2v-4h2v4z\"/>\n",
              "    </g>\n",
              "</svg>\n",
              "  </button>\n",
              "\n",
              "<style>\n",
              "  .colab-df-quickchart {\n",
              "      --bg-color: #E8F0FE;\n",
              "      --fill-color: #1967D2;\n",
              "      --hover-bg-color: #E2EBFA;\n",
              "      --hover-fill-color: #174EA6;\n",
              "      --disabled-fill-color: #AAA;\n",
              "      --disabled-bg-color: #DDD;\n",
              "  }\n",
              "\n",
              "  [theme=dark] .colab-df-quickchart {\n",
              "      --bg-color: #3B4455;\n",
              "      --fill-color: #D2E3FC;\n",
              "      --hover-bg-color: #434B5C;\n",
              "      --hover-fill-color: #FFFFFF;\n",
              "      --disabled-bg-color: #3B4455;\n",
              "      --disabled-fill-color: #666;\n",
              "  }\n",
              "\n",
              "  .colab-df-quickchart {\n",
              "    background-color: var(--bg-color);\n",
              "    border: none;\n",
              "    border-radius: 50%;\n",
              "    cursor: pointer;\n",
              "    display: none;\n",
              "    fill: var(--fill-color);\n",
              "    height: 32px;\n",
              "    padding: 0;\n",
              "    width: 32px;\n",
              "  }\n",
              "\n",
              "  .colab-df-quickchart:hover {\n",
              "    background-color: var(--hover-bg-color);\n",
              "    box-shadow: 0 1px 2px rgba(60, 64, 67, 0.3), 0 1px 3px 1px rgba(60, 64, 67, 0.15);\n",
              "    fill: var(--button-hover-fill-color);\n",
              "  }\n",
              "\n",
              "  .colab-df-quickchart-complete:disabled,\n",
              "  .colab-df-quickchart-complete:disabled:hover {\n",
              "    background-color: var(--disabled-bg-color);\n",
              "    fill: var(--disabled-fill-color);\n",
              "    box-shadow: none;\n",
              "  }\n",
              "\n",
              "  .colab-df-spinner {\n",
              "    border: 2px solid var(--fill-color);\n",
              "    border-color: transparent;\n",
              "    border-bottom-color: var(--fill-color);\n",
              "    animation:\n",
              "      spin 1s steps(1) infinite;\n",
              "  }\n",
              "\n",
              "  @keyframes spin {\n",
              "    0% {\n",
              "      border-color: transparent;\n",
              "      border-bottom-color: var(--fill-color);\n",
              "      border-left-color: var(--fill-color);\n",
              "    }\n",
              "    20% {\n",
              "      border-color: transparent;\n",
              "      border-left-color: var(--fill-color);\n",
              "      border-top-color: var(--fill-color);\n",
              "    }\n",
              "    30% {\n",
              "      border-color: transparent;\n",
              "      border-left-color: var(--fill-color);\n",
              "      border-top-color: var(--fill-color);\n",
              "      border-right-color: var(--fill-color);\n",
              "    }\n",
              "    40% {\n",
              "      border-color: transparent;\n",
              "      border-right-color: var(--fill-color);\n",
              "      border-top-color: var(--fill-color);\n",
              "    }\n",
              "    60% {\n",
              "      border-color: transparent;\n",
              "      border-right-color: var(--fill-color);\n",
              "    }\n",
              "    80% {\n",
              "      border-color: transparent;\n",
              "      border-right-color: var(--fill-color);\n",
              "      border-bottom-color: var(--fill-color);\n",
              "    }\n",
              "    90% {\n",
              "      border-color: transparent;\n",
              "      border-bottom-color: var(--fill-color);\n",
              "    }\n",
              "  }\n",
              "</style>\n",
              "\n",
              "  <script>\n",
              "    async function quickchart(key) {\n",
              "      const quickchartButtonEl =\n",
              "        document.querySelector('#' + key + ' button');\n",
              "      quickchartButtonEl.disabled = true;  // To prevent multiple clicks.\n",
              "      quickchartButtonEl.classList.add('colab-df-spinner');\n",
              "      try {\n",
              "        const charts = await google.colab.kernel.invokeFunction(\n",
              "            'suggestCharts', [key], {});\n",
              "      } catch (error) {\n",
              "        console.error('Error during call to suggestCharts:', error);\n",
              "      }\n",
              "      quickchartButtonEl.classList.remove('colab-df-spinner');\n",
              "      quickchartButtonEl.classList.add('colab-df-quickchart-complete');\n",
              "    }\n",
              "    (() => {\n",
              "      let quickchartButtonEl =\n",
              "        document.querySelector('#df-d3a4d7b0-1fef-49e9-b10c-a47417484d39 button');\n",
              "      quickchartButtonEl.style.display =\n",
              "        google.colab.kernel.accessAllowed ? 'block' : 'none';\n",
              "    })();\n",
              "  </script>\n",
              "</div>\n",
              "\n",
              "    </div>\n",
              "  </div>\n"
            ],
            "application/vnd.google.colaboratory.intrinsic+json": {
              "type": "dataframe",
              "variable_name": "da",
              "summary": "{\n  \"name\": \"da\",\n  \"rows\": 52708,\n  \"fields\": [\n    {\n      \"column\": \"Sentence\",\n      \"properties\": {\n        \"dtype\": \"string\",\n        \"num_unique_values\": 28026,\n        \"samples\": [\n          \"\\u0c24\\u0c3e\\u0c1c\\u0c3e\\u0c17\\u0c3e \\u0c2e\\u0c30\\u0c4b \\u0c1a\\u0c3f\\u0c24\\u0c4d\\u0c30\\u0c3e\\u0c28\\u0c3f\\u0c15\\u0c3f \\u0c17\\u0c4d\\u0c30\\u0c40\\u0c28\\u0c4d\\u200c\\u0c38\\u0c3f\\u0c17\\u0c4d\\u0c28\\u0c32\\u0c4d \\u0c07\\u0c1a\\u0c4d\\u0c1a\\u0c3f\\u0c02\\u0c26\\u0c28\\u0c3f \\u0c38\\u0c2e\\u0c3e\\u0c1a\\u0c3e\\u0c30\\u0c02\",\n          \"\\u0c15\\u0c4b\\u0c32\\u0c41\\u0c15\\u0c41\\u0c02\\u0c1f\\u0c41\\u0c28\\u0c4d\\u0c28 \\u0c1c\\u0c3e\\u0c15\\u0c2c\\u0c4d\\u200c \\u0c2e\\u0c3e\\u0c30\\u0c4d\\u0c1f\\u0c3f\\u0c28\\u0c4d\\u200c.\",\n          \"\\u0c30\\u0c46\\u0c02\\u0c21\\u0c41 \\u0c2e\\u0c02\\u0c21\\u0c32 \\u0c2a\\u0c30\\u0c3f\\u0c37\\u0c24\\u0c4d \\u0c38\\u0c4d\\u0c25\\u0c3e\\u0c28\\u0c3e\\u0c32\\u0c28\\u0c41 \\u0c15\\u0c3e\\u0c02\\u0c17\\u0c4d\\u0c30\\u0c46\\u0c38\\u0c4d \\u0c17\\u0c46\\u0c32\\u0c41\\u0c1a\\u0c41\\u0c15\\u0c41\\u0c02\\u0c26\\u0c3f\"\n        ],\n        \"semantic_type\": \"\",\n        \"description\": \"\"\n      }\n    },\n    {\n      \"column\": \"Emotion\",\n      \"properties\": {\n        \"dtype\": \"category\",\n        \"num_unique_values\": 5,\n        \"samples\": [\n          \"sad\",\n          \"fear\",\n          \"happy\"\n        ],\n        \"semantic_type\": \"\",\n        \"description\": \"\"\n      }\n    },\n    {\n      \"column\": \"Tokens\",\n      \"properties\": {\n        \"dtype\": \"category\",\n        \"num_unique_values\": 24533,\n        \"samples\": [\n          \"['\\u0c1f\\u0c4020', '\\u0c38\\u0c3f\\u0c30\\u0c40\\u0c38\\u0c4d\\\\u200c\\u0c15\\u0c41', '\\u0c2e\\u0c41\\u0c02\\u0c26\\u0c41', '\\u0c2a\\u0c3e\\u0c15\\u0c4d\\\\u200c-\\u0c06\\u0c38\\u0c4d\\u0c1f\\u0c4d\\u0c30\\u0c47\\u0c32\\u0c3f\\u0c2f\\u0c3e\\u0c32', '\\u0c2e\\u0c27\\u0c4d\\u0c2f', '\\u0c30\\u0c46\\u0c02\\u0c21\\u0c41', '\\u0c2e\\u0c4d\\u0c2f\\u0c3e\\u0c1a\\u0c4d\\\\u200c\\u0c32', '\\u0c1f\\u0c46\\u0c38\\u0c4d\\u0c1f\\u0c41', '\\u0c38\\u0c3f\\u0c30\\u0c40\\u0c38\\u0c4d\\\\u200c', '\\u0c1c\\u0c30\\u0c3f\\u0c17\\u0c3f\\u0c02\\u0c26\\u0c3f', '.']\",\n          \"['\\u0c05\\u0c24\\u0c4d\\u0c2f\\u0c02\\u0c24', '\\u0c12\\u0c24\\u0c4d\\u0c24\\u0c3f\\u0c21\\u0c3f\\u0c32\\u0c4b', '\\u0c05\\u0c24\\u0c4d\\u0c2f\\u0c26\\u0c4d\\u0c2d\\u0c41\\u0c24', '\\u0c05\\u0c1c\\u0c47\\u0c2f', '\\u0c05\\u0c30\\u0c4d\\u0c27\\u0c36\\u0c24\\u0c15\\u0c02', '\\u0c2c\\u0c3e\\u0c26\\u0c47\\u0c36\\u0c3e\\u0c21\\u0c41', '.']\",\n          \"['\\u0c15\\u0c3e\\u0c28\\u0c40', ',', '\\u0c2a\\u0c4b\\u0c32\\u0c35\\u0c30\\u0c02', '\\u0c2a\\u0c4d\\u0c30\\u0c3e\\u0c1c\\u0c46\\u0c15\\u0c4d\\u0c1f\\u0c41\\u0c28\\u0c41', '\\u0c38\\u0c24\\u0c4d\\u0c35\\u0c30\\u0c2e\\u0c47', '\\u0c2a\\u0c42\\u0c30\\u0c4d\\u0c24\\u0c3f', '\\u0c1a\\u0c47\\u0c2f\\u0c3e\\u0c32\\u0c4d\\u0c38\\u0c3f\\u0c28', '\\u0c05\\u0c35\\u0c38\\u0c30\\u0c02', '\\u0c2e\\u0c3e\\u0c24\\u0c4d\\u0c30\\u0c02', '\\u0c09\\u0c02\\u0c26\\u0c28\\u0c3f', '\\u0c06\\u0c2f\\u0c28', '\\u0c05\\u0c2d\\u0c3f\\u0c2a\\u0c4d\\u0c30\\u0c3e\\u0c2f\\u0c2a\\u0c21\\u0c4d\\u0c21\\u0c3e\\u0c30\\u0c41', '.']\"\n        ],\n        \"semantic_type\": \"\",\n        \"description\": \"\"\n      }\n    }\n  ]\n}"
            }
          },
          "metadata": {},
          "execution_count": 2
        }
      ]
    },
    {
      "cell_type": "code",
      "source": [
        "da['Sentence_Length'] = da['Sentence'].apply(len)\n",
        "\n",
        "# Print the dataset with the sentence lengths\n",
        "print(da[['Sentence', 'Sentence_Length']])"
      ],
      "metadata": {
        "colab": {
          "base_uri": "https://localhost:8080/"
        },
        "id": "skMhSlBJMxmM",
        "outputId": "b5e313a5-15bd-40a8-f4dc-9d7e6bf28041"
      },
      "execution_count": null,
      "outputs": [
        {
          "output_type": "stream",
          "name": "stdout",
          "text": [
            "                                                Sentence  Sentence_Length\n",
            "0      డ్రెస్సింగ్ విషయంలో సెలబ్రిటీలను బయటివాళ్లూ అన...              166\n",
            "1      అయితే ప్ర‌భుదాస్ వైష్ణాని అనే వ్య‌క్తి క‌స్ట‌డ...               60\n",
            "2      విజయ్ ఆంటోని, యాక్షన్‌కింగ్ అర్జున్ కలిసి నటిస...               69\n",
            "3      ఆయన 2019 ఎన్నికల్లో టీడీపీ సిట్టింగ్ ఎమ్మెల్యే...              110\n",
            "4      రెండోసారి ప్రధాని అయిన నరేంద్రమోదీకి, ఏపీలో వి...              108\n",
            "...                                                  ...              ...\n",
            "52703  ఓడినా చేయాల్సిన కొన్ని కార్య‌క్ర‌మాల్ని నిర్వ‌...               65\n",
            "52704  కొన్నాళ్లపాటు రాజకీయాలను పక్కనపెట్టి మళ్లీ ఇండ...              133\n",
            "52705  తిరిగి ఆర్మీలో చేరాలంటే తాను మానసికంగా ఫిట్‌గా...              153\n",
            "52706  జగన్‌పై ఉన్న సానుభూతితోనే వైసీపీ గెలిచిందన్నార...               49\n",
            "52707  ప్రతిపక్షం సహకరించక పోయినా ఏ మాత్రం వెనక్కి తగ...              131\n",
            "\n",
            "[52708 rows x 2 columns]\n"
          ]
        }
      ]
    },
    {
      "cell_type": "code",
      "source": [
        "da[da['Sentence'].apply(len) <= 300]\n",
        "# Save the updated dataset to a new file\n",
        "da.to_excel('/content/drive/MyDrive/filtered_dataset.xlsx', index=False)\n"
      ],
      "metadata": {
        "id": "fB7eiSGPaCf0"
      },
      "execution_count": null,
      "outputs": []
    },
    {
      "cell_type": "code",
      "source": [
        "df=pd.read_excel('/content/drive/MyDrive/filtered_dataset.xlsx')\n",
        "df.head()"
      ],
      "metadata": {
        "id": "FBZ2Ls8JaPMZ",
        "colab": {
          "base_uri": "https://localhost:8080/",
          "height": 206
        },
        "outputId": "6f4ac0dd-3607-419d-ffaf-9e11682b49e0"
      },
      "execution_count": null,
      "outputs": [
        {
          "output_type": "execute_result",
          "data": {
            "text/plain": [
              "                                            Sentence Emotion Tokens  \\\n",
              "0  డ్రెస్సింగ్ విషయంలో సెలబ్రిటీలను బయటివాళ్లూ అన...      no    NaN   \n",
              "1  అయితే ప్ర‌భుదాస్ వైష్ణాని అనే వ్య‌క్తి క‌స్ట‌డ...     sad    NaN   \n",
              "2  విజయ్ ఆంటోని, యాక్షన్‌కింగ్ అర్జున్ కలిసి నటిస...      no    NaN   \n",
              "3  ఆయన 2019 ఎన్నికల్లో టీడీపీ సిట్టింగ్ ఎమ్మెల్యే...   happy    NaN   \n",
              "4  రెండోసారి ప్రధాని అయిన నరేంద్రమోదీకి, ఏపీలో వి...   happy    NaN   \n",
              "\n",
              "   Sentence_Length  \n",
              "0              166  \n",
              "1               60  \n",
              "2               69  \n",
              "3              110  \n",
              "4              108  "
            ],
            "text/html": [
              "\n",
              "  <div id=\"df-df8c1022-ed7f-4030-b83f-d0b89b23c2e8\" class=\"colab-df-container\">\n",
              "    <div>\n",
              "<style scoped>\n",
              "    .dataframe tbody tr th:only-of-type {\n",
              "        vertical-align: middle;\n",
              "    }\n",
              "\n",
              "    .dataframe tbody tr th {\n",
              "        vertical-align: top;\n",
              "    }\n",
              "\n",
              "    .dataframe thead th {\n",
              "        text-align: right;\n",
              "    }\n",
              "</style>\n",
              "<table border=\"1\" class=\"dataframe\">\n",
              "  <thead>\n",
              "    <tr style=\"text-align: right;\">\n",
              "      <th></th>\n",
              "      <th>Sentence</th>\n",
              "      <th>Emotion</th>\n",
              "      <th>Tokens</th>\n",
              "      <th>Sentence_Length</th>\n",
              "    </tr>\n",
              "  </thead>\n",
              "  <tbody>\n",
              "    <tr>\n",
              "      <th>0</th>\n",
              "      <td>డ్రెస్సింగ్ విషయంలో సెలబ్రిటీలను బయటివాళ్లూ అన...</td>\n",
              "      <td>no</td>\n",
              "      <td>NaN</td>\n",
              "      <td>166</td>\n",
              "    </tr>\n",
              "    <tr>\n",
              "      <th>1</th>\n",
              "      <td>అయితే ప్ర‌భుదాస్ వైష్ణాని అనే వ్య‌క్తి క‌స్ట‌డ...</td>\n",
              "      <td>sad</td>\n",
              "      <td>NaN</td>\n",
              "      <td>60</td>\n",
              "    </tr>\n",
              "    <tr>\n",
              "      <th>2</th>\n",
              "      <td>విజయ్ ఆంటోని, యాక్షన్‌కింగ్ అర్జున్ కలిసి నటిస...</td>\n",
              "      <td>no</td>\n",
              "      <td>NaN</td>\n",
              "      <td>69</td>\n",
              "    </tr>\n",
              "    <tr>\n",
              "      <th>3</th>\n",
              "      <td>ఆయన 2019 ఎన్నికల్లో టీడీపీ సిట్టింగ్ ఎమ్మెల్యే...</td>\n",
              "      <td>happy</td>\n",
              "      <td>NaN</td>\n",
              "      <td>110</td>\n",
              "    </tr>\n",
              "    <tr>\n",
              "      <th>4</th>\n",
              "      <td>రెండోసారి ప్రధాని అయిన నరేంద్రమోదీకి, ఏపీలో వి...</td>\n",
              "      <td>happy</td>\n",
              "      <td>NaN</td>\n",
              "      <td>108</td>\n",
              "    </tr>\n",
              "  </tbody>\n",
              "</table>\n",
              "</div>\n",
              "    <div class=\"colab-df-buttons\">\n",
              "\n",
              "  <div class=\"colab-df-container\">\n",
              "    <button class=\"colab-df-convert\" onclick=\"convertToInteractive('df-df8c1022-ed7f-4030-b83f-d0b89b23c2e8')\"\n",
              "            title=\"Convert this dataframe to an interactive table.\"\n",
              "            style=\"display:none;\">\n",
              "\n",
              "  <svg xmlns=\"http://www.w3.org/2000/svg\" height=\"24px\" viewBox=\"0 -960 960 960\">\n",
              "    <path d=\"M120-120v-720h720v720H120Zm60-500h600v-160H180v160Zm220 220h160v-160H400v160Zm0 220h160v-160H400v160ZM180-400h160v-160H180v160Zm440 0h160v-160H620v160ZM180-180h160v-160H180v160Zm440 0h160v-160H620v160Z\"/>\n",
              "  </svg>\n",
              "    </button>\n",
              "\n",
              "  <style>\n",
              "    .colab-df-container {\n",
              "      display:flex;\n",
              "      gap: 12px;\n",
              "    }\n",
              "\n",
              "    .colab-df-convert {\n",
              "      background-color: #E8F0FE;\n",
              "      border: none;\n",
              "      border-radius: 50%;\n",
              "      cursor: pointer;\n",
              "      display: none;\n",
              "      fill: #1967D2;\n",
              "      height: 32px;\n",
              "      padding: 0 0 0 0;\n",
              "      width: 32px;\n",
              "    }\n",
              "\n",
              "    .colab-df-convert:hover {\n",
              "      background-color: #E2EBFA;\n",
              "      box-shadow: 0px 1px 2px rgba(60, 64, 67, 0.3), 0px 1px 3px 1px rgba(60, 64, 67, 0.15);\n",
              "      fill: #174EA6;\n",
              "    }\n",
              "\n",
              "    .colab-df-buttons div {\n",
              "      margin-bottom: 4px;\n",
              "    }\n",
              "\n",
              "    [theme=dark] .colab-df-convert {\n",
              "      background-color: #3B4455;\n",
              "      fill: #D2E3FC;\n",
              "    }\n",
              "\n",
              "    [theme=dark] .colab-df-convert:hover {\n",
              "      background-color: #434B5C;\n",
              "      box-shadow: 0px 1px 3px 1px rgba(0, 0, 0, 0.15);\n",
              "      filter: drop-shadow(0px 1px 2px rgba(0, 0, 0, 0.3));\n",
              "      fill: #FFFFFF;\n",
              "    }\n",
              "  </style>\n",
              "\n",
              "    <script>\n",
              "      const buttonEl =\n",
              "        document.querySelector('#df-df8c1022-ed7f-4030-b83f-d0b89b23c2e8 button.colab-df-convert');\n",
              "      buttonEl.style.display =\n",
              "        google.colab.kernel.accessAllowed ? 'block' : 'none';\n",
              "\n",
              "      async function convertToInteractive(key) {\n",
              "        const element = document.querySelector('#df-df8c1022-ed7f-4030-b83f-d0b89b23c2e8');\n",
              "        const dataTable =\n",
              "          await google.colab.kernel.invokeFunction('convertToInteractive',\n",
              "                                                    [key], {});\n",
              "        if (!dataTable) return;\n",
              "\n",
              "        const docLinkHtml = 'Like what you see? Visit the ' +\n",
              "          '<a target=\"_blank\" href=https://colab.research.google.com/notebooks/data_table.ipynb>data table notebook</a>'\n",
              "          + ' to learn more about interactive tables.';\n",
              "        element.innerHTML = '';\n",
              "        dataTable['output_type'] = 'display_data';\n",
              "        await google.colab.output.renderOutput(dataTable, element);\n",
              "        const docLink = document.createElement('div');\n",
              "        docLink.innerHTML = docLinkHtml;\n",
              "        element.appendChild(docLink);\n",
              "      }\n",
              "    </script>\n",
              "  </div>\n",
              "\n",
              "\n",
              "<div id=\"df-39a074be-dd8f-4ca5-8700-0a3b663b68ea\">\n",
              "  <button class=\"colab-df-quickchart\" onclick=\"quickchart('df-39a074be-dd8f-4ca5-8700-0a3b663b68ea')\"\n",
              "            title=\"Suggest charts\"\n",
              "            style=\"display:none;\">\n",
              "\n",
              "<svg xmlns=\"http://www.w3.org/2000/svg\" height=\"24px\"viewBox=\"0 0 24 24\"\n",
              "     width=\"24px\">\n",
              "    <g>\n",
              "        <path d=\"M19 3H5c-1.1 0-2 .9-2 2v14c0 1.1.9 2 2 2h14c1.1 0 2-.9 2-2V5c0-1.1-.9-2-2-2zM9 17H7v-7h2v7zm4 0h-2V7h2v10zm4 0h-2v-4h2v4z\"/>\n",
              "    </g>\n",
              "</svg>\n",
              "  </button>\n",
              "\n",
              "<style>\n",
              "  .colab-df-quickchart {\n",
              "      --bg-color: #E8F0FE;\n",
              "      --fill-color: #1967D2;\n",
              "      --hover-bg-color: #E2EBFA;\n",
              "      --hover-fill-color: #174EA6;\n",
              "      --disabled-fill-color: #AAA;\n",
              "      --disabled-bg-color: #DDD;\n",
              "  }\n",
              "\n",
              "  [theme=dark] .colab-df-quickchart {\n",
              "      --bg-color: #3B4455;\n",
              "      --fill-color: #D2E3FC;\n",
              "      --hover-bg-color: #434B5C;\n",
              "      --hover-fill-color: #FFFFFF;\n",
              "      --disabled-bg-color: #3B4455;\n",
              "      --disabled-fill-color: #666;\n",
              "  }\n",
              "\n",
              "  .colab-df-quickchart {\n",
              "    background-color: var(--bg-color);\n",
              "    border: none;\n",
              "    border-radius: 50%;\n",
              "    cursor: pointer;\n",
              "    display: none;\n",
              "    fill: var(--fill-color);\n",
              "    height: 32px;\n",
              "    padding: 0;\n",
              "    width: 32px;\n",
              "  }\n",
              "\n",
              "  .colab-df-quickchart:hover {\n",
              "    background-color: var(--hover-bg-color);\n",
              "    box-shadow: 0 1px 2px rgba(60, 64, 67, 0.3), 0 1px 3px 1px rgba(60, 64, 67, 0.15);\n",
              "    fill: var(--button-hover-fill-color);\n",
              "  }\n",
              "\n",
              "  .colab-df-quickchart-complete:disabled,\n",
              "  .colab-df-quickchart-complete:disabled:hover {\n",
              "    background-color: var(--disabled-bg-color);\n",
              "    fill: var(--disabled-fill-color);\n",
              "    box-shadow: none;\n",
              "  }\n",
              "\n",
              "  .colab-df-spinner {\n",
              "    border: 2px solid var(--fill-color);\n",
              "    border-color: transparent;\n",
              "    border-bottom-color: var(--fill-color);\n",
              "    animation:\n",
              "      spin 1s steps(1) infinite;\n",
              "  }\n",
              "\n",
              "  @keyframes spin {\n",
              "    0% {\n",
              "      border-color: transparent;\n",
              "      border-bottom-color: var(--fill-color);\n",
              "      border-left-color: var(--fill-color);\n",
              "    }\n",
              "    20% {\n",
              "      border-color: transparent;\n",
              "      border-left-color: var(--fill-color);\n",
              "      border-top-color: var(--fill-color);\n",
              "    }\n",
              "    30% {\n",
              "      border-color: transparent;\n",
              "      border-left-color: var(--fill-color);\n",
              "      border-top-color: var(--fill-color);\n",
              "      border-right-color: var(--fill-color);\n",
              "    }\n",
              "    40% {\n",
              "      border-color: transparent;\n",
              "      border-right-color: var(--fill-color);\n",
              "      border-top-color: var(--fill-color);\n",
              "    }\n",
              "    60% {\n",
              "      border-color: transparent;\n",
              "      border-right-color: var(--fill-color);\n",
              "    }\n",
              "    80% {\n",
              "      border-color: transparent;\n",
              "      border-right-color: var(--fill-color);\n",
              "      border-bottom-color: var(--fill-color);\n",
              "    }\n",
              "    90% {\n",
              "      border-color: transparent;\n",
              "      border-bottom-color: var(--fill-color);\n",
              "    }\n",
              "  }\n",
              "</style>\n",
              "\n",
              "  <script>\n",
              "    async function quickchart(key) {\n",
              "      const quickchartButtonEl =\n",
              "        document.querySelector('#' + key + ' button');\n",
              "      quickchartButtonEl.disabled = true;  // To prevent multiple clicks.\n",
              "      quickchartButtonEl.classList.add('colab-df-spinner');\n",
              "      try {\n",
              "        const charts = await google.colab.kernel.invokeFunction(\n",
              "            'suggestCharts', [key], {});\n",
              "      } catch (error) {\n",
              "        console.error('Error during call to suggestCharts:', error);\n",
              "      }\n",
              "      quickchartButtonEl.classList.remove('colab-df-spinner');\n",
              "      quickchartButtonEl.classList.add('colab-df-quickchart-complete');\n",
              "    }\n",
              "    (() => {\n",
              "      let quickchartButtonEl =\n",
              "        document.querySelector('#df-39a074be-dd8f-4ca5-8700-0a3b663b68ea button');\n",
              "      quickchartButtonEl.style.display =\n",
              "        google.colab.kernel.accessAllowed ? 'block' : 'none';\n",
              "    })();\n",
              "  </script>\n",
              "</div>\n",
              "\n",
              "    </div>\n",
              "  </div>\n"
            ],
            "application/vnd.google.colaboratory.intrinsic+json": {
              "type": "dataframe",
              "variable_name": "df",
              "summary": "{\n  \"name\": \"df\",\n  \"rows\": 52708,\n  \"fields\": [\n    {\n      \"column\": \"Sentence\",\n      \"properties\": {\n        \"dtype\": \"string\",\n        \"num_unique_values\": 28026,\n        \"samples\": [\n          \"\\u0c24\\u0c3e\\u0c1c\\u0c3e\\u0c17\\u0c3e \\u0c2e\\u0c30\\u0c4b \\u0c1a\\u0c3f\\u0c24\\u0c4d\\u0c30\\u0c3e\\u0c28\\u0c3f\\u0c15\\u0c3f \\u0c17\\u0c4d\\u0c30\\u0c40\\u0c28\\u0c4d\\u200c\\u0c38\\u0c3f\\u0c17\\u0c4d\\u0c28\\u0c32\\u0c4d \\u0c07\\u0c1a\\u0c4d\\u0c1a\\u0c3f\\u0c02\\u0c26\\u0c28\\u0c3f \\u0c38\\u0c2e\\u0c3e\\u0c1a\\u0c3e\\u0c30\\u0c02\",\n          \"\\u0c15\\u0c4b\\u0c32\\u0c41\\u0c15\\u0c41\\u0c02\\u0c1f\\u0c41\\u0c28\\u0c4d\\u0c28 \\u0c1c\\u0c3e\\u0c15\\u0c2c\\u0c4d\\u200c \\u0c2e\\u0c3e\\u0c30\\u0c4d\\u0c1f\\u0c3f\\u0c28\\u0c4d\\u200c.\",\n          \"\\u0c30\\u0c46\\u0c02\\u0c21\\u0c41 \\u0c2e\\u0c02\\u0c21\\u0c32 \\u0c2a\\u0c30\\u0c3f\\u0c37\\u0c24\\u0c4d \\u0c38\\u0c4d\\u0c25\\u0c3e\\u0c28\\u0c3e\\u0c32\\u0c28\\u0c41 \\u0c15\\u0c3e\\u0c02\\u0c17\\u0c4d\\u0c30\\u0c46\\u0c38\\u0c4d \\u0c17\\u0c46\\u0c32\\u0c41\\u0c1a\\u0c41\\u0c15\\u0c41\\u0c02\\u0c26\\u0c3f\"\n        ],\n        \"semantic_type\": \"\",\n        \"description\": \"\"\n      }\n    },\n    {\n      \"column\": \"Emotion\",\n      \"properties\": {\n        \"dtype\": \"category\",\n        \"num_unique_values\": 5,\n        \"samples\": [\n          \"sad\",\n          \"fear\",\n          \"happy\"\n        ],\n        \"semantic_type\": \"\",\n        \"description\": \"\"\n      }\n    },\n    {\n      \"column\": \"Tokens\",\n      \"properties\": {\n        \"dtype\": \"category\",\n        \"num_unique_values\": 24533,\n        \"samples\": [\n          \"['\\u0c1f\\u0c4020', '\\u0c38\\u0c3f\\u0c30\\u0c40\\u0c38\\u0c4d\\\\u200c\\u0c15\\u0c41', '\\u0c2e\\u0c41\\u0c02\\u0c26\\u0c41', '\\u0c2a\\u0c3e\\u0c15\\u0c4d\\\\u200c-\\u0c06\\u0c38\\u0c4d\\u0c1f\\u0c4d\\u0c30\\u0c47\\u0c32\\u0c3f\\u0c2f\\u0c3e\\u0c32', '\\u0c2e\\u0c27\\u0c4d\\u0c2f', '\\u0c30\\u0c46\\u0c02\\u0c21\\u0c41', '\\u0c2e\\u0c4d\\u0c2f\\u0c3e\\u0c1a\\u0c4d\\\\u200c\\u0c32', '\\u0c1f\\u0c46\\u0c38\\u0c4d\\u0c1f\\u0c41', '\\u0c38\\u0c3f\\u0c30\\u0c40\\u0c38\\u0c4d\\\\u200c', '\\u0c1c\\u0c30\\u0c3f\\u0c17\\u0c3f\\u0c02\\u0c26\\u0c3f', '.']\",\n          \"['\\u0c05\\u0c24\\u0c4d\\u0c2f\\u0c02\\u0c24', '\\u0c12\\u0c24\\u0c4d\\u0c24\\u0c3f\\u0c21\\u0c3f\\u0c32\\u0c4b', '\\u0c05\\u0c24\\u0c4d\\u0c2f\\u0c26\\u0c4d\\u0c2d\\u0c41\\u0c24', '\\u0c05\\u0c1c\\u0c47\\u0c2f', '\\u0c05\\u0c30\\u0c4d\\u0c27\\u0c36\\u0c24\\u0c15\\u0c02', '\\u0c2c\\u0c3e\\u0c26\\u0c47\\u0c36\\u0c3e\\u0c21\\u0c41', '.']\",\n          \"['\\u0c15\\u0c3e\\u0c28\\u0c40', ',', '\\u0c2a\\u0c4b\\u0c32\\u0c35\\u0c30\\u0c02', '\\u0c2a\\u0c4d\\u0c30\\u0c3e\\u0c1c\\u0c46\\u0c15\\u0c4d\\u0c1f\\u0c41\\u0c28\\u0c41', '\\u0c38\\u0c24\\u0c4d\\u0c35\\u0c30\\u0c2e\\u0c47', '\\u0c2a\\u0c42\\u0c30\\u0c4d\\u0c24\\u0c3f', '\\u0c1a\\u0c47\\u0c2f\\u0c3e\\u0c32\\u0c4d\\u0c38\\u0c3f\\u0c28', '\\u0c05\\u0c35\\u0c38\\u0c30\\u0c02', '\\u0c2e\\u0c3e\\u0c24\\u0c4d\\u0c30\\u0c02', '\\u0c09\\u0c02\\u0c26\\u0c28\\u0c3f', '\\u0c06\\u0c2f\\u0c28', '\\u0c05\\u0c2d\\u0c3f\\u0c2a\\u0c4d\\u0c30\\u0c3e\\u0c2f\\u0c2a\\u0c21\\u0c4d\\u0c21\\u0c3e\\u0c30\\u0c41', '.']\"\n        ],\n        \"semantic_type\": \"\",\n        \"description\": \"\"\n      }\n    },\n    {\n      \"column\": \"Sentence_Length\",\n      \"properties\": {\n        \"dtype\": \"number\",\n        \"std\": 46,\n        \"min\": 7,\n        \"max\": 1217,\n        \"num_unique_values\": 357,\n        \"samples\": [\n          185,\n          170,\n          327\n        ],\n        \"semantic_type\": \"\",\n        \"description\": \"\"\n      }\n    }\n  ]\n}"
            }
          },
          "metadata": {},
          "execution_count": 5
        }
      ]
    },
    {
      "cell_type": "code",
      "source": [
        "df['sentence_length'] = df['Sentence'].str.len()\n",
        "\n",
        "cutoff = df['sentence_length'].quantile(0.99)\n",
        "print(f\"95th percentile of sentence length: {cutoff}\")\n",
        "\n",
        "# Create the trimmed dataset\n",
        "df_trimmed = df[df['sentence_length'] <= cutoff].copy()"
      ],
      "metadata": {
        "colab": {
          "base_uri": "https://localhost:8080/"
        },
        "id": "qkS9pLu-M-lA",
        "outputId": "452aaa3f-434d-4067-9b2d-f492e29b7d35"
      },
      "execution_count": null,
      "outputs": [
        {
          "output_type": "stream",
          "name": "stdout",
          "text": [
            "95th percentile of sentence length: 234.0\n"
          ]
        }
      ]
    },
    {
      "cell_type": "code",
      "source": [
        "df_trimmed.head()"
      ],
      "metadata": {
        "colab": {
          "base_uri": "https://localhost:8080/",
          "height": 206
        },
        "id": "PbJm5QmHTKtX",
        "outputId": "be0b6376-7c7f-4fb1-8610-ffabee30f81c"
      },
      "execution_count": null,
      "outputs": [
        {
          "output_type": "execute_result",
          "data": {
            "text/plain": [
              "                                            Sentence Emotion Tokens  \\\n",
              "0  డ్రెస్సింగ్ విషయంలో సెలబ్రిటీలను బయటివాళ్లూ అన...      no    NaN   \n",
              "1  అయితే ప్ర‌భుదాస్ వైష్ణాని అనే వ్య‌క్తి క‌స్ట‌డ...     sad    NaN   \n",
              "2  విజయ్ ఆంటోని, యాక్షన్‌కింగ్ అర్జున్ కలిసి నటిస...      no    NaN   \n",
              "3  ఆయన 2019 ఎన్నికల్లో టీడీపీ సిట్టింగ్ ఎమ్మెల్యే...   happy    NaN   \n",
              "4  రెండోసారి ప్రధాని అయిన నరేంద్రమోదీకి, ఏపీలో వి...   happy    NaN   \n",
              "\n",
              "   Sentence_Length  sentence_length  \n",
              "0              166              166  \n",
              "1               60               60  \n",
              "2               69               69  \n",
              "3              110              110  \n",
              "4              108              108  "
            ],
            "text/html": [
              "\n",
              "  <div id=\"df-a59bf79f-09f2-48d6-a1d0-006a0ea0383f\" class=\"colab-df-container\">\n",
              "    <div>\n",
              "<style scoped>\n",
              "    .dataframe tbody tr th:only-of-type {\n",
              "        vertical-align: middle;\n",
              "    }\n",
              "\n",
              "    .dataframe tbody tr th {\n",
              "        vertical-align: top;\n",
              "    }\n",
              "\n",
              "    .dataframe thead th {\n",
              "        text-align: right;\n",
              "    }\n",
              "</style>\n",
              "<table border=\"1\" class=\"dataframe\">\n",
              "  <thead>\n",
              "    <tr style=\"text-align: right;\">\n",
              "      <th></th>\n",
              "      <th>Sentence</th>\n",
              "      <th>Emotion</th>\n",
              "      <th>Tokens</th>\n",
              "      <th>Sentence_Length</th>\n",
              "      <th>sentence_length</th>\n",
              "    </tr>\n",
              "  </thead>\n",
              "  <tbody>\n",
              "    <tr>\n",
              "      <th>0</th>\n",
              "      <td>డ్రెస్సింగ్ విషయంలో సెలబ్రిటీలను బయటివాళ్లూ అన...</td>\n",
              "      <td>no</td>\n",
              "      <td>NaN</td>\n",
              "      <td>166</td>\n",
              "      <td>166</td>\n",
              "    </tr>\n",
              "    <tr>\n",
              "      <th>1</th>\n",
              "      <td>అయితే ప్ర‌భుదాస్ వైష్ణాని అనే వ్య‌క్తి క‌స్ట‌డ...</td>\n",
              "      <td>sad</td>\n",
              "      <td>NaN</td>\n",
              "      <td>60</td>\n",
              "      <td>60</td>\n",
              "    </tr>\n",
              "    <tr>\n",
              "      <th>2</th>\n",
              "      <td>విజయ్ ఆంటోని, యాక్షన్‌కింగ్ అర్జున్ కలిసి నటిస...</td>\n",
              "      <td>no</td>\n",
              "      <td>NaN</td>\n",
              "      <td>69</td>\n",
              "      <td>69</td>\n",
              "    </tr>\n",
              "    <tr>\n",
              "      <th>3</th>\n",
              "      <td>ఆయన 2019 ఎన్నికల్లో టీడీపీ సిట్టింగ్ ఎమ్మెల్యే...</td>\n",
              "      <td>happy</td>\n",
              "      <td>NaN</td>\n",
              "      <td>110</td>\n",
              "      <td>110</td>\n",
              "    </tr>\n",
              "    <tr>\n",
              "      <th>4</th>\n",
              "      <td>రెండోసారి ప్రధాని అయిన నరేంద్రమోదీకి, ఏపీలో వి...</td>\n",
              "      <td>happy</td>\n",
              "      <td>NaN</td>\n",
              "      <td>108</td>\n",
              "      <td>108</td>\n",
              "    </tr>\n",
              "  </tbody>\n",
              "</table>\n",
              "</div>\n",
              "    <div class=\"colab-df-buttons\">\n",
              "\n",
              "  <div class=\"colab-df-container\">\n",
              "    <button class=\"colab-df-convert\" onclick=\"convertToInteractive('df-a59bf79f-09f2-48d6-a1d0-006a0ea0383f')\"\n",
              "            title=\"Convert this dataframe to an interactive table.\"\n",
              "            style=\"display:none;\">\n",
              "\n",
              "  <svg xmlns=\"http://www.w3.org/2000/svg\" height=\"24px\" viewBox=\"0 -960 960 960\">\n",
              "    <path d=\"M120-120v-720h720v720H120Zm60-500h600v-160H180v160Zm220 220h160v-160H400v160Zm0 220h160v-160H400v160ZM180-400h160v-160H180v160Zm440 0h160v-160H620v160ZM180-180h160v-160H180v160Zm440 0h160v-160H620v160Z\"/>\n",
              "  </svg>\n",
              "    </button>\n",
              "\n",
              "  <style>\n",
              "    .colab-df-container {\n",
              "      display:flex;\n",
              "      gap: 12px;\n",
              "    }\n",
              "\n",
              "    .colab-df-convert {\n",
              "      background-color: #E8F0FE;\n",
              "      border: none;\n",
              "      border-radius: 50%;\n",
              "      cursor: pointer;\n",
              "      display: none;\n",
              "      fill: #1967D2;\n",
              "      height: 32px;\n",
              "      padding: 0 0 0 0;\n",
              "      width: 32px;\n",
              "    }\n",
              "\n",
              "    .colab-df-convert:hover {\n",
              "      background-color: #E2EBFA;\n",
              "      box-shadow: 0px 1px 2px rgba(60, 64, 67, 0.3), 0px 1px 3px 1px rgba(60, 64, 67, 0.15);\n",
              "      fill: #174EA6;\n",
              "    }\n",
              "\n",
              "    .colab-df-buttons div {\n",
              "      margin-bottom: 4px;\n",
              "    }\n",
              "\n",
              "    [theme=dark] .colab-df-convert {\n",
              "      background-color: #3B4455;\n",
              "      fill: #D2E3FC;\n",
              "    }\n",
              "\n",
              "    [theme=dark] .colab-df-convert:hover {\n",
              "      background-color: #434B5C;\n",
              "      box-shadow: 0px 1px 3px 1px rgba(0, 0, 0, 0.15);\n",
              "      filter: drop-shadow(0px 1px 2px rgba(0, 0, 0, 0.3));\n",
              "      fill: #FFFFFF;\n",
              "    }\n",
              "  </style>\n",
              "\n",
              "    <script>\n",
              "      const buttonEl =\n",
              "        document.querySelector('#df-a59bf79f-09f2-48d6-a1d0-006a0ea0383f button.colab-df-convert');\n",
              "      buttonEl.style.display =\n",
              "        google.colab.kernel.accessAllowed ? 'block' : 'none';\n",
              "\n",
              "      async function convertToInteractive(key) {\n",
              "        const element = document.querySelector('#df-a59bf79f-09f2-48d6-a1d0-006a0ea0383f');\n",
              "        const dataTable =\n",
              "          await google.colab.kernel.invokeFunction('convertToInteractive',\n",
              "                                                    [key], {});\n",
              "        if (!dataTable) return;\n",
              "\n",
              "        const docLinkHtml = 'Like what you see? Visit the ' +\n",
              "          '<a target=\"_blank\" href=https://colab.research.google.com/notebooks/data_table.ipynb>data table notebook</a>'\n",
              "          + ' to learn more about interactive tables.';\n",
              "        element.innerHTML = '';\n",
              "        dataTable['output_type'] = 'display_data';\n",
              "        await google.colab.output.renderOutput(dataTable, element);\n",
              "        const docLink = document.createElement('div');\n",
              "        docLink.innerHTML = docLinkHtml;\n",
              "        element.appendChild(docLink);\n",
              "      }\n",
              "    </script>\n",
              "  </div>\n",
              "\n",
              "\n",
              "<div id=\"df-92204491-14e3-49ae-8cdf-6b4d8c31a574\">\n",
              "  <button class=\"colab-df-quickchart\" onclick=\"quickchart('df-92204491-14e3-49ae-8cdf-6b4d8c31a574')\"\n",
              "            title=\"Suggest charts\"\n",
              "            style=\"display:none;\">\n",
              "\n",
              "<svg xmlns=\"http://www.w3.org/2000/svg\" height=\"24px\"viewBox=\"0 0 24 24\"\n",
              "     width=\"24px\">\n",
              "    <g>\n",
              "        <path d=\"M19 3H5c-1.1 0-2 .9-2 2v14c0 1.1.9 2 2 2h14c1.1 0 2-.9 2-2V5c0-1.1-.9-2-2-2zM9 17H7v-7h2v7zm4 0h-2V7h2v10zm4 0h-2v-4h2v4z\"/>\n",
              "    </g>\n",
              "</svg>\n",
              "  </button>\n",
              "\n",
              "<style>\n",
              "  .colab-df-quickchart {\n",
              "      --bg-color: #E8F0FE;\n",
              "      --fill-color: #1967D2;\n",
              "      --hover-bg-color: #E2EBFA;\n",
              "      --hover-fill-color: #174EA6;\n",
              "      --disabled-fill-color: #AAA;\n",
              "      --disabled-bg-color: #DDD;\n",
              "  }\n",
              "\n",
              "  [theme=dark] .colab-df-quickchart {\n",
              "      --bg-color: #3B4455;\n",
              "      --fill-color: #D2E3FC;\n",
              "      --hover-bg-color: #434B5C;\n",
              "      --hover-fill-color: #FFFFFF;\n",
              "      --disabled-bg-color: #3B4455;\n",
              "      --disabled-fill-color: #666;\n",
              "  }\n",
              "\n",
              "  .colab-df-quickchart {\n",
              "    background-color: var(--bg-color);\n",
              "    border: none;\n",
              "    border-radius: 50%;\n",
              "    cursor: pointer;\n",
              "    display: none;\n",
              "    fill: var(--fill-color);\n",
              "    height: 32px;\n",
              "    padding: 0;\n",
              "    width: 32px;\n",
              "  }\n",
              "\n",
              "  .colab-df-quickchart:hover {\n",
              "    background-color: var(--hover-bg-color);\n",
              "    box-shadow: 0 1px 2px rgba(60, 64, 67, 0.3), 0 1px 3px 1px rgba(60, 64, 67, 0.15);\n",
              "    fill: var(--button-hover-fill-color);\n",
              "  }\n",
              "\n",
              "  .colab-df-quickchart-complete:disabled,\n",
              "  .colab-df-quickchart-complete:disabled:hover {\n",
              "    background-color: var(--disabled-bg-color);\n",
              "    fill: var(--disabled-fill-color);\n",
              "    box-shadow: none;\n",
              "  }\n",
              "\n",
              "  .colab-df-spinner {\n",
              "    border: 2px solid var(--fill-color);\n",
              "    border-color: transparent;\n",
              "    border-bottom-color: var(--fill-color);\n",
              "    animation:\n",
              "      spin 1s steps(1) infinite;\n",
              "  }\n",
              "\n",
              "  @keyframes spin {\n",
              "    0% {\n",
              "      border-color: transparent;\n",
              "      border-bottom-color: var(--fill-color);\n",
              "      border-left-color: var(--fill-color);\n",
              "    }\n",
              "    20% {\n",
              "      border-color: transparent;\n",
              "      border-left-color: var(--fill-color);\n",
              "      border-top-color: var(--fill-color);\n",
              "    }\n",
              "    30% {\n",
              "      border-color: transparent;\n",
              "      border-left-color: var(--fill-color);\n",
              "      border-top-color: var(--fill-color);\n",
              "      border-right-color: var(--fill-color);\n",
              "    }\n",
              "    40% {\n",
              "      border-color: transparent;\n",
              "      border-right-color: var(--fill-color);\n",
              "      border-top-color: var(--fill-color);\n",
              "    }\n",
              "    60% {\n",
              "      border-color: transparent;\n",
              "      border-right-color: var(--fill-color);\n",
              "    }\n",
              "    80% {\n",
              "      border-color: transparent;\n",
              "      border-right-color: var(--fill-color);\n",
              "      border-bottom-color: var(--fill-color);\n",
              "    }\n",
              "    90% {\n",
              "      border-color: transparent;\n",
              "      border-bottom-color: var(--fill-color);\n",
              "    }\n",
              "  }\n",
              "</style>\n",
              "\n",
              "  <script>\n",
              "    async function quickchart(key) {\n",
              "      const quickchartButtonEl =\n",
              "        document.querySelector('#' + key + ' button');\n",
              "      quickchartButtonEl.disabled = true;  // To prevent multiple clicks.\n",
              "      quickchartButtonEl.classList.add('colab-df-spinner');\n",
              "      try {\n",
              "        const charts = await google.colab.kernel.invokeFunction(\n",
              "            'suggestCharts', [key], {});\n",
              "      } catch (error) {\n",
              "        console.error('Error during call to suggestCharts:', error);\n",
              "      }\n",
              "      quickchartButtonEl.classList.remove('colab-df-spinner');\n",
              "      quickchartButtonEl.classList.add('colab-df-quickchart-complete');\n",
              "    }\n",
              "    (() => {\n",
              "      let quickchartButtonEl =\n",
              "        document.querySelector('#df-92204491-14e3-49ae-8cdf-6b4d8c31a574 button');\n",
              "      quickchartButtonEl.style.display =\n",
              "        google.colab.kernel.accessAllowed ? 'block' : 'none';\n",
              "    })();\n",
              "  </script>\n",
              "</div>\n",
              "\n",
              "    </div>\n",
              "  </div>\n"
            ],
            "application/vnd.google.colaboratory.intrinsic+json": {
              "type": "dataframe",
              "variable_name": "df_trimmed",
              "summary": "{\n  \"name\": \"df_trimmed\",\n  \"rows\": 52182,\n  \"fields\": [\n    {\n      \"column\": \"Sentence\",\n      \"properties\": {\n        \"dtype\": \"string\",\n        \"num_unique_values\": 27749,\n        \"samples\": [\n          \"\\u0c2d\\u0c3e\\u0c30\\u0c24\\u0c4d \\u0c1a\\u0c3f\\u0c24\\u0c4d\\u0c30\\u0c02 \\u0c0e\\u0c2a\\u0c4d\\u0c2a\\u0c41\\u0c21\\u0c41 \\u0c2a\\u0c4d\\u0c30\\u0c47\\u0c15\\u0c4d\\u0c37\\u0c15\\u0c41\\u0c32 \\u0c2e\\u0c41\\u0c02\\u0c26\\u0c41\\u0c15\\u0c4a\\u0c38\\u0c4d\\u0c24\\u0c41\\u0c02\\u0c26\\u0c3e \\u0c05\\u0c28\\u0c4d\\u0c28 \\u0c06\\u0c32\\u0c4b\\u0c1a\\u0c28\\u0c24\\u0c4b \\u0c28\\u0c3f\\u0c26\\u0c4d\\u0c30\\u0c32\\u0c47\\u0c28\\u0c3f \\u0c30\\u0c3e\\u0c24\\u0c4d\\u0c30\\u0c41\\u0c32\\u0c41 \\u0c17\\u0c21\\u0c41\\u0c2a\\u0c41\\u0c24\\u0c41\\u0c28\\u0c4d\\u0c28\\u0c3e\\u0c28\\u0c02\\u0c1f\\u0c4b\\u0c02\\u0c26\\u0c3f \\u0c2c\\u0c3e\\u0c32\\u0c40\\u0c35\\u0c41\\u0c21\\u0c4d \\u0c2c\\u0c3e\\u0c30\\u0c4d\\u0c2c\\u0c40\\u0c17\\u0c3e\\u0c33\\u0c4d \\u0c15\\u0c24\\u0c4d\\u0c30\\u0c3f\\u0c28\\u0c3e \\u0c15\\u0c48\\u0c2b\\u0c4d\",\n          \"\\u0c09\\u0c17\\u0c4d\\u0c30\\u0c35\\u0c3e\\u0c26 \\u0c2e\\u0c41\\u0c20\\u0c3e\\u0c32\\u0c24\\u0c4b \\u0c06 \\u0c2e\\u0c41\\u0c17\\u0c4d\\u0c17\\u0c41\\u0c30\\u0c3f\\u0c15\\u0c40 \\u0c38\\u0c02\\u0c2c\\u0c02\\u0c27\\u0c3e\\u0c32\\u0c41 \\u0c09\\u0c28\\u0c4d\\u0c28\\u0c3e\\u0c2f\\u0c3e \\u0c05\\u0c28\\u0c47 \\u0c15\\u0c4b\\u0c23\\u0c02\\u0c32\\u0c4b \\u0c15\\u0c47\\u0c38\\u0c41 \\u0c28\\u0c2e\\u0c4b\\u0c26\\u0c41\\u0c1a\\u0c47\\u0c38\\u0c3f \\u0c26\\u0c30\\u0c4d\\u0c2f\\u0c3e\\u0c2a\\u0c4d\\u0c24\\u0c41 \\u0c1c\\u0c30\\u0c41\\u0c2a\\u0c41\\u0c24\\u0c41\\u0c28\\u0c4d\\u0c28\\u0c3e\\u0c30\\u0c41\",\n          \"\\u0c05\\u0c38\\u0c32\\u0c41 \\u0c08 \\u0c35\\u0c2f\\u0c38\\u0c41\\u0c32\\u0c4b \\u0c07\\u0c02\\u0c24\\u0c02\\u0c26\\u0c02 \\u0c0e\\u0c32\\u0c3e? \\u0c05\\u0c28\\u0c3f \\u0c2a\\u0c4d\\u0c30\\u0c24\\u0c3f\\u0c38\\u0c3e\\u0c30\\u0c40 \\u0c15\\u0c3f\\u0c02\\u0c17\\u0c4d\\u200c\\u0c28\\u0c3f \\u0c2a\\u0c4d\\u0c30\\u0c36\\u0c4d\\u0c28\\u0c3f\\u0c02\\u0c1a\\u0c47\\u0c35\\u0c3e\\u0c30\\u0c3f\\u0c15\\u0c3f \\u0c06\\u0c2f\\u0c28 \\u0c2a\\u0c4d\\u0c30\\u0c3e\\u0c15\\u0c4d\\u0c1f\\u0c3f\\u0c15\\u0c32\\u0c4d\\u200c\\u0c17\\u0c3e \\u0c1a\\u0c46\\u0c2c\\u0c41\\u0c24\\u0c41\\u0c28\\u0c4d\\u0c28 \\u0c38\\u0c2e\\u0c3e\\u0c27\\u0c3e\\u0c28\\u0c02 \\u0c07\\u0c02\\u0c1f\\u0c4d\\u0c30\\u0c46\\u0c38\\u0c4d\\u0c1f\\u0c3f\\u0c02\\u0c17\\u0c4d\\u200c.\"\n        ],\n        \"semantic_type\": \"\",\n        \"description\": \"\"\n      }\n    },\n    {\n      \"column\": \"Emotion\",\n      \"properties\": {\n        \"dtype\": \"category\",\n        \"num_unique_values\": 5,\n        \"samples\": [\n          \"sad\",\n          \"fear\",\n          \"happy\"\n        ],\n        \"semantic_type\": \"\",\n        \"description\": \"\"\n      }\n    },\n    {\n      \"column\": \"Tokens\",\n      \"properties\": {\n        \"dtype\": \"category\",\n        \"num_unique_values\": 24284,\n        \"samples\": [\n          \"['\\u0c26\\u0c40\\u0c02\\u0c24\\u0c4b', '\\u0c15\\u0c3e\\u0c30\\u0c4d\\u0c2f\\u0c15\\u0c4d\\u0c30\\u0c2e\\u0c3e\\u0c28\\u0c3f\\u0c15\\u0c47', '\\u0c13', '\\u0c2a\\u0c4d\\u0c30\\u0c24\\u0c4d\\u0c2f\\u0c47\\u0c15\\u0c24', '\\u0c30\\u0c3e\\u0c28\\u0c41\\u0c02\\u0c26\\u0c28\\u0c3f', '\\u0c05\\u0c02\\u0c1f\\u0c41\\u0c28\\u0c4d\\u0c28\\u0c3e\\u0c30\\u0c41']\",\n          \"['\\u0c2e\\u0c38\\u0c3e\\u0c2c\\u0c4d\\\\u200c\\u0c1f\\u0c4d\\u0c2f\\u0c3e\\u0c02\\u0c15\\u0c4d\\\\u200c\\u0c32\\u0c4b\\u0c28\\u0c3f', '\\u0c38\\u0c2e\\u0c3e\\u0c1a\\u0c3e\\u0c30', '\\u0c2d\\u0c35\\u0c28\\u0c4d\\\\u200c\\u0c32\\u0c4b\\u0c28\\u0c3f', '\\u0c2e\\u0c40\\u0c21\\u0c3f\\u0c2f\\u0c3e', '\\u0c05\\u0c15\\u0c3e\\u0c21\\u0c2e\\u0c40', '\\u0c15\\u0c3e\\u0c30\\u0c4d\\u0c2f\\u0c3e\\u0c32\\u0c2f\\u0c02\\u0c32\\u0c4b', '\\u0c06\\u0c2f\\u0c28', '\\u0c2c\\u0c3e\\u0c27\\u0c4d\\u0c2f\\u0c24\\u0c32\\u0c41', '\\u0c38\\u0c4d\\u0c35\\u0c40\\u0c15\\u0c30\\u0c3f\\u0c02\\u0c1a\\u0c3e\\u0c30\\u0c41']\",\n          \"['\\u0c2a\\u0c30\\u0c4d\\u0c2f\\u0c35\\u0c47\\u0c15\\u0c4d\\u0c37\\u0c15\\u0c41\\u0c21\\u0c3f\\u0c15\\u0c3f', '\\u0c05\\u0c28\\u0c41\\u0c2e\\u0c3e\\u0c28\\u0c02', '\\u0c35\\u0c1a\\u0c4d\\u0c1a\\u0c3f\\u0c02\\u0c26\\u0c3f']\"\n        ],\n        \"semantic_type\": \"\",\n        \"description\": \"\"\n      }\n    },\n    {\n      \"column\": \"Sentence_Length\",\n      \"properties\": {\n        \"dtype\": \"number\",\n        \"std\": 39,\n        \"min\": 7,\n        \"max\": 234,\n        \"num_unique_values\": 227,\n        \"samples\": [\n          101,\n          195,\n          43\n        ],\n        \"semantic_type\": \"\",\n        \"description\": \"\"\n      }\n    },\n    {\n      \"column\": \"sentence_length\",\n      \"properties\": {\n        \"dtype\": \"number\",\n        \"std\": 39,\n        \"min\": 7,\n        \"max\": 234,\n        \"num_unique_values\": 227,\n        \"samples\": [\n          101,\n          195,\n          43\n        ],\n        \"semantic_type\": \"\",\n        \"description\": \"\"\n      }\n    }\n  ]\n}"
            }
          },
          "metadata": {},
          "execution_count": 7
        }
      ]
    },
    {
      "cell_type": "code",
      "source": [
        "from gensim.models import FastText"
      ],
      "metadata": {
        "id": "IdqQ9tCMa4gI"
      },
      "execution_count": null,
      "outputs": []
    },
    {
      "cell_type": "code",
      "source": [
        "df['Sentence'] = df['Sentence'].apply(lambda x: x.split())"
      ],
      "metadata": {
        "id": "sqR0QUGdbKZS"
      },
      "execution_count": null,
      "outputs": []
    },
    {
      "cell_type": "code",
      "source": [
        "embedding_size = 100 ##embedding_size is the size of the embedding vector.\n",
        "window_size = 5 #window_size is the size of the number of words\n",
        "min_word = 6 #min_word, which specifies the minimum frequency of a word\n",
        "down_sampling = 1e-2 #most frequently occurring word will be down-sampled by a number specified by the down_sampling attribute\n",
        "\n",
        "\n",
        "ft_model = FastText(sentences = df['Sentence'],vector_size=embedding_size,window=window_size,min_count=min_word,sample=down_sampling,sg=1,epochs=10)\n",
        "#sg defines if the parameter is skpgram or cbow\n",
        "\n",
        "print(ft_model.wv)"
      ],
      "metadata": {
        "id": "GNScvrqhbZlY",
        "colab": {
          "base_uri": "https://localhost:8080/"
        },
        "outputId": "a23d6761-246d-4d56-a116-146b0c132c38"
      },
      "execution_count": null,
      "outputs": [
        {
          "output_type": "stream",
          "name": "stdout",
          "text": [
            "FastTextKeyedVectors<vector_size=100, 14335 keys>\n"
          ]
        }
      ]
    },
    {
      "cell_type": "code",
      "source": [
        "from sklearn.svm import SVC\n",
        "from sklearn.model_selection import train_test_split\n",
        "from sklearn.metrics import classification_report,accuracy_score\n",
        "import numpy as np"
      ],
      "metadata": {
        "id": "bJn-DCtIbe6z"
      },
      "execution_count": null,
      "outputs": []
    },
    {
      "cell_type": "code",
      "source": [
        "X = []\n",
        "for sentence in df['Sentence']:\n",
        "    word_embeddings = [ft_model.wv[word] for word in sentence if word in ft_model.wv]\n",
        "    if word_embeddings:\n",
        "        sentence_embedding = np.mean(word_embeddings, axis=0)  # Average word embeddings\n",
        "        X.append(sentence_embedding)\n",
        "    else:\n",
        "        X.append(np.zeros(embedding_size))  # Handle sentences with no known words\n",
        "\n",
        "X = np.array(X)\n"
      ],
      "metadata": {
        "id": "azfE6AKlbjSo"
      },
      "execution_count": null,
      "outputs": []
    },
    {
      "cell_type": "code",
      "source": [
        "from sklearn.feature_extraction.text import TfidfVectorizer\n",
        "\n",
        "# Join the tokenized words back into sentences\n",
        "df['text_joined'] = df['Sentence'].apply(lambda x: ' '.join(x))\n",
        "\n",
        "# Initialize TfidfVectorizer\n",
        "tfidf_vectorizer = TfidfVectorizer()\n",
        "\n",
        "# Fit and transform the text data\n",
        "tfidf_matrix = tfidf_vectorizer.fit_transform(df['text_joined'])\n",
        "\n",
        "# `tfidf_matrix` now contains your TF-IDF embeddings\n",
        "print(tfidf_matrix)"
      ],
      "metadata": {
        "colab": {
          "base_uri": "https://localhost:8080/"
        },
        "id": "o4ELAocubpST",
        "outputId": "60dbe14e-8c99-464c-eff2-831327f2734d"
      },
      "execution_count": null,
      "outputs": [
        {
          "output_type": "stream",
          "name": "stdout",
          "text": [
            "  (0, 2434)\t0.2153790743075605\n",
            "  (0, 1560)\t0.2469371339645985\n",
            "  (0, 4222)\t0.23409033614735933\n",
            "  (0, 1374)\t0.20832235853644546\n",
            "  (0, 3776)\t0.18696375821586775\n",
            "  (0, 2517)\t0.23398127988220366\n",
            "  (0, 2134)\t0.4899599536110312\n",
            "  (0, 1343)\t0.1908011528390183\n",
            "  (0, 4422)\t0.20961055110617077\n",
            "  (0, 2421)\t0.22474669551977325\n",
            "  (0, 2136)\t0.18594865969615473\n",
            "  (0, 1345)\t0.14155524039839973\n",
            "  (0, 3543)\t0.3406419555615596\n",
            "  (0, 4214)\t0.1488877146244129\n",
            "  (0, 4236)\t0.3030120417890076\n",
            "  (0, 4567)\t0.22177838500200228\n",
            "  (1, 1387)\t0.7875419560612029\n",
            "  (1, 1345)\t0.6162610383946842\n",
            "  (2, 4057)\t0.4163465371384251\n",
            "  (2, 3241)\t0.3656917942463412\n",
            "  (2, 2160)\t0.3567056935249233\n",
            "  (2, 1390)\t0.4539698993587766\n",
            "  (2, 4553)\t0.4127900707619535\n",
            "  (2, 2544)\t0.43497334262821297\n",
            "  (3, 1986)\t0.3496255215399716\n",
            "  :\t:\n",
            "  (52705, 4668)\t0.25415187039232184\n",
            "  (52705, 4198)\t0.44120354150779895\n",
            "  (52705, 1701)\t0.22921754600069377\n",
            "  (52705, 3350)\t0.3170016323372972\n",
            "  (52705, 1558)\t0.2215099420796779\n",
            "  (52705, 4083)\t0.22363160109913757\n",
            "  (52705, 3241)\t0.22233822206988607\n",
            "  (52705, 1390)\t0.2760107333135364\n",
            "  (52705, 4553)\t0.2509736665282953\n",
            "  (52705, 4214)\t0.19051224995606522\n",
            "  (52706, 3063)\t0.532849696649299\n",
            "  (52706, 1701)\t0.5567125559701345\n",
            "  (52706, 2501)\t0.6372929709371898\n",
            "  (52707, 4699)\t0.40387440748137654\n",
            "  (52707, 2862)\t0.28056933539520024\n",
            "  (52707, 2397)\t0.32079716180645296\n",
            "  (52707, 3224)\t0.33251129100570864\n",
            "  (52707, 3488)\t0.3416008821842548\n",
            "  (52707, 3276)\t0.27724108063986663\n",
            "  (52707, 3358)\t0.2823108852797467\n",
            "  (52707, 4027)\t0.20215720211883012\n",
            "  (52707, 3063)\t0.2106639373214168\n",
            "  (52707, 2892)\t0.23915568271748724\n",
            "  (52707, 2501)\t0.2519559405384308\n",
            "  (52707, 1374)\t0.255957911564186\n"
          ]
        }
      ]
    },
    {
      "cell_type": "code",
      "source": [
        "TY = tfidf_matrix  # Use TF-IDF embeddings directly"
      ],
      "metadata": {
        "id": "JK7mGvAdbvnO"
      },
      "execution_count": null,
      "outputs": []
    },
    {
      "cell_type": "code",
      "source": [
        "y = df['Emotion']\n",
        "\n",
        "# Split the data into training and testing sets\n",
        "X_train, X_test, y_train, y_test = train_test_split(X, y, test_size=0.2, random_state=42)"
      ],
      "metadata": {
        "id": "8eCfaolDb2Qi"
      },
      "execution_count": null,
      "outputs": []
    },
    {
      "cell_type": "code",
      "source": [
        "y = df['Emotion']\n",
        "\n",
        "# Split the data into training and testing sets\n",
        "TX_train, TX_test, Ty_train, Ty_test = train_test_split(TY, y, test_size=0.2, random_state=42)"
      ],
      "metadata": {
        "id": "wBT21Htkb7oj"
      },
      "execution_count": null,
      "outputs": []
    },
    {
      "cell_type": "markdown",
      "source": [
        "# ***svm - tfidf***"
      ],
      "metadata": {
        "id": "MLPpCISLjZaL"
      }
    },
    {
      "cell_type": "code",
      "source": [
        "\n",
        "\n",
        "clf = SVC(kernel='linear')  # You can explore other kernels as well\n",
        "clf.fit(TX_train, Ty_train)\n",
        "\n",
        "# Make predictions on the test set\n",
        "Ty_pred = clf.predict(TX_test)\n",
        "\n",
        "# Evaluate the model\n",
        "\n",
        "accuracy = accuracy_score(Ty_test, Ty_pred)\n",
        "print(f'\\nAccuracy: {accuracy}')\n",
        "print('Classification Report:')\n",
        "print(classification_report(Ty_test, Ty_pred))"
      ],
      "metadata": {
        "colab": {
          "base_uri": "https://localhost:8080/"
        },
        "id": "m00wvE6cJrNa",
        "outputId": "d917442f-f371-4908-fbcd-a22281a10154"
      },
      "execution_count": null,
      "outputs": [
        {
          "output_type": "stream",
          "name": "stdout",
          "text": [
            "\n",
            "Accuracy: 0.7396129766647694\n",
            "Classification Report:\n",
            "              precision    recall  f1-score   support\n",
            "\n",
            "       angry       0.45      0.04      0.07       130\n",
            "        fear       0.71      0.34      0.47        29\n",
            "       happy       0.60      0.07      0.12      1197\n",
            "          no       0.74      0.98      0.85      7605\n",
            "         sad       0.69      0.14      0.24      1581\n",
            "\n",
            "    accuracy                           0.74     10542\n",
            "   macro avg       0.64      0.32      0.35     10542\n",
            "weighted avg       0.72      0.74      0.66     10542\n",
            "\n"
          ]
        }
      ]
    },
    {
      "cell_type": "markdown",
      "source": [
        "# ***SVM - fasttext***"
      ],
      "metadata": {
        "id": "jDTQPB36jQ1t"
      }
    },
    {
      "cell_type": "code",
      "source": [
        "clf = SVC(kernel='linear')\n",
        "clf.fit(X_train, y_train)\n",
        "\n",
        "# Make predictions on the test set\n",
        "y_pred = clf.predict(X_test)\n",
        "# Evaluate the model\n",
        "accuracy = accuracy_score(y_test, y_pred)\n",
        "print(f'\\nAccuracy: {accuracy}')\n",
        "print('Classification Report:')\n",
        "print(classification_report(y_test, y_pred))"
      ],
      "metadata": {
        "colab": {
          "base_uri": "https://localhost:8080/"
        },
        "id": "Ysj2pd0hJu8N",
        "outputId": "56a79c0c-afb0-4a5b-8027-869c320c0953"
      },
      "execution_count": null,
      "outputs": [
        {
          "output_type": "stream",
          "name": "stdout",
          "text": [
            "\n",
            "Accuracy: 0.7214001138303927\n",
            "Classification Report:\n"
          ]
        },
        {
          "output_type": "stream",
          "name": "stderr",
          "text": [
            "/usr/local/lib/python3.10/dist-packages/sklearn/metrics/_classification.py:1471: UndefinedMetricWarning: Precision and F-score are ill-defined and being set to 0.0 in labels with no predicted samples. Use `zero_division` parameter to control this behavior.\n",
            "  _warn_prf(average, modifier, msg_start, len(result))\n",
            "/usr/local/lib/python3.10/dist-packages/sklearn/metrics/_classification.py:1471: UndefinedMetricWarning: Precision and F-score are ill-defined and being set to 0.0 in labels with no predicted samples. Use `zero_division` parameter to control this behavior.\n",
            "  _warn_prf(average, modifier, msg_start, len(result))\n"
          ]
        },
        {
          "output_type": "stream",
          "name": "stdout",
          "text": [
            "              precision    recall  f1-score   support\n",
            "\n",
            "       angry       0.00      0.00      0.00       130\n",
            "        fear       0.00      0.00      0.00        29\n",
            "       happy       0.00      0.00      0.00      1197\n",
            "          no       0.72      1.00      0.84      7605\n",
            "         sad       0.00      0.00      0.00      1581\n",
            "\n",
            "    accuracy                           0.72     10542\n",
            "   macro avg       0.14      0.20      0.17     10542\n",
            "weighted avg       0.52      0.72      0.60     10542\n",
            "\n"
          ]
        },
        {
          "output_type": "stream",
          "name": "stderr",
          "text": [
            "/usr/local/lib/python3.10/dist-packages/sklearn/metrics/_classification.py:1471: UndefinedMetricWarning: Precision and F-score are ill-defined and being set to 0.0 in labels with no predicted samples. Use `zero_division` parameter to control this behavior.\n",
            "  _warn_prf(average, modifier, msg_start, len(result))\n"
          ]
        }
      ]
    },
    {
      "cell_type": "markdown",
      "source": [
        "# **KNN using fasttext**"
      ],
      "metadata": {
        "id": "J6F6UYEzPUin"
      }
    },
    {
      "cell_type": "code",
      "source": [
        "#using knn\n",
        "from sklearn.neighbors import KNeighborsClassifier\n",
        "\n",
        "# ... (Your FastText model, data preparation, and embedding extraction code) ...\n",
        "\n",
        "# Initialize KNN classifier\n",
        "knn_classifier = KNeighborsClassifier(n_neighbors=5)  # You can adjust the number of neighbors\n",
        "\n",
        "# Train the classifier\n",
        "knn_classifier.fit(X_train, y_train)\n",
        "\n",
        "# Make predictions on the test set\n",
        "y_pred = knn_classifier.predict(X_test)\n",
        "\n",
        "# Evaluate the model\n",
        "accuracy = accuracy_score(y_test, y_pred)\n",
        "print(f'\\nAccuracy: {accuracy}')\n",
        "print('Classification Report:')\n",
        "print(classification_report(y_test, y_pred))"
      ],
      "metadata": {
        "colab": {
          "base_uri": "https://localhost:8080/"
        },
        "id": "nVd4u_UUPIZx",
        "outputId": "25893ed3-072b-4744-ed1c-e60b7a8913d4"
      },
      "execution_count": null,
      "outputs": [
        {
          "output_type": "stream",
          "name": "stdout",
          "text": [
            "\n",
            "Accuracy: 0.7507114399544679\n",
            "Classification Report:\n",
            "              precision    recall  f1-score   support\n",
            "\n",
            "       angry       0.18      0.18      0.18       130\n",
            "        fear       0.06      0.07      0.07        29\n",
            "       happy       0.46      0.37      0.41      1197\n",
            "          no       0.81      0.89      0.85      7605\n",
            "         sad       0.60      0.41      0.49      1581\n",
            "\n",
            "    accuracy                           0.75     10542\n",
            "   macro avg       0.42      0.39      0.40     10542\n",
            "weighted avg       0.73      0.75      0.74     10542\n",
            "\n"
          ]
        }
      ]
    },
    {
      "cell_type": "markdown",
      "source": [
        "# ***KNN using Tf-idf***"
      ],
      "metadata": {
        "id": "gLqo_0HKPjdn"
      }
    },
    {
      "cell_type": "code",
      "source": [
        "from sklearn.neighbors import KNeighborsClassifier\n",
        "\n",
        "# ... (Your FastText model, data preparation, and embedding extraction code) ...\n",
        "\n",
        "# Initialize KNN classifier\n",
        "knn_classifier = KNeighborsClassifier(n_neighbors=5)  # You can adjust the number of neighbors\n",
        "\n",
        "# Train the classifier\n",
        "knn_classifier.fit(TX_train, Ty_train)\n",
        "\n",
        "# Make predictions on the test set\n",
        "Ty_pred = knn_classifier.predict(TX_test)\n",
        "\n",
        "# Evaluate the model\n",
        "accuracy = accuracy_score(Ty_test, Ty_pred)\n",
        "print(f'\\nAccuracy: {accuracy}')\n",
        "print('Classification Report:')\n",
        "print(classification_report(y_test, Ty_pred))"
      ],
      "metadata": {
        "id": "FCsTrx-LQNT6",
        "colab": {
          "base_uri": "https://localhost:8080/"
        },
        "outputId": "b0f38e03-89b1-487b-9263-022a20bf9973"
      },
      "execution_count": null,
      "outputs": [
        {
          "output_type": "stream",
          "name": "stdout",
          "text": [
            "\n",
            "Accuracy: 0.7373363688104724\n",
            "Classification Report:\n",
            "              precision    recall  f1-score   support\n",
            "\n",
            "       angry       0.37      0.15      0.21       130\n",
            "        fear       0.32      0.28      0.30        29\n",
            "       happy       0.41      0.21      0.27      1197\n",
            "          no       0.76      0.94      0.85      7605\n",
            "         sad       0.66      0.20      0.31      1581\n",
            "\n",
            "    accuracy                           0.74     10542\n",
            "   macro avg       0.51      0.35      0.39     10542\n",
            "weighted avg       0.70      0.74      0.69     10542\n",
            "\n"
          ]
        }
      ]
    },
    {
      "cell_type": "markdown",
      "source": [
        "# **Logistic using fast text**"
      ],
      "metadata": {
        "id": "5jheA_7FPqy_"
      }
    },
    {
      "cell_type": "code",
      "source": [
        "#using logistic regression\n",
        "from sklearn.linear_model import LogisticRegression\n",
        "\n",
        "# ... (Your FastText model, data preparation, and embedding extraction code) ...\n",
        "\n",
        "# Initialize Logistic Regression classifier\n",
        "logreg_classifier = LogisticRegression()\n",
        "\n",
        "# Train the classifier\n",
        "logreg_classifier.fit(X_train, y_train)\n",
        "\n",
        "# Make predictions on the test set\n",
        "y_pred = logreg_classifier.predict(X_test)\n",
        "\n",
        "# Evaluate the model\n",
        "accuracy = accuracy_score(y_test, y_pred)\n",
        "print(f'\\nAccuracy: {accuracy}')\n",
        "print('Classification Report:')\n",
        "print(classification_report(y_test, y_pred))\n"
      ],
      "metadata": {
        "colab": {
          "base_uri": "https://localhost:8080/"
        },
        "id": "o3aWdOt4Pv1m",
        "outputId": "f3aedadd-6c89-468d-f6fd-d728dbb97b58"
      },
      "execution_count": null,
      "outputs": [
        {
          "output_type": "stream",
          "name": "stderr",
          "text": [
            "/usr/local/lib/python3.10/dist-packages/sklearn/linear_model/_logistic.py:460: ConvergenceWarning: lbfgs failed to converge (status=1):\n",
            "STOP: TOTAL NO. of ITERATIONS REACHED LIMIT.\n",
            "\n",
            "Increase the number of iterations (max_iter) or scale the data as shown in:\n",
            "    https://scikit-learn.org/stable/modules/preprocessing.html\n",
            "Please also refer to the documentation for alternative solver options:\n",
            "    https://scikit-learn.org/stable/modules/linear_model.html#logistic-regression\n",
            "  n_iter_i = _check_optimize_result(\n",
            "/usr/local/lib/python3.10/dist-packages/sklearn/metrics/_classification.py:1471: UndefinedMetricWarning: Precision and F-score are ill-defined and being set to 0.0 in labels with no predicted samples. Use `zero_division` parameter to control this behavior.\n",
            "  _warn_prf(average, modifier, msg_start, len(result))\n"
          ]
        },
        {
          "output_type": "stream",
          "name": "stdout",
          "text": [
            "\n",
            "Accuracy: 0.733162587744261\n",
            "Classification Report:\n",
            "              precision    recall  f1-score   support\n",
            "\n",
            "       angry       0.00      0.00      0.00       130\n",
            "        fear       0.00      0.00      0.00        29\n",
            "       happy       0.50      0.09      0.15      1197\n",
            "          no       0.75      0.96      0.84      7605\n",
            "         sad       0.57      0.18      0.28      1581\n",
            "\n",
            "    accuracy                           0.73     10542\n",
            "   macro avg       0.36      0.25      0.25     10542\n",
            "weighted avg       0.68      0.73      0.67     10542\n",
            "\n"
          ]
        },
        {
          "output_type": "stream",
          "name": "stderr",
          "text": [
            "/usr/local/lib/python3.10/dist-packages/sklearn/metrics/_classification.py:1471: UndefinedMetricWarning: Precision and F-score are ill-defined and being set to 0.0 in labels with no predicted samples. Use `zero_division` parameter to control this behavior.\n",
            "  _warn_prf(average, modifier, msg_start, len(result))\n",
            "/usr/local/lib/python3.10/dist-packages/sklearn/metrics/_classification.py:1471: UndefinedMetricWarning: Precision and F-score are ill-defined and being set to 0.0 in labels with no predicted samples. Use `zero_division` parameter to control this behavior.\n",
            "  _warn_prf(average, modifier, msg_start, len(result))\n"
          ]
        }
      ]
    },
    {
      "cell_type": "markdown",
      "source": [
        "# ***Logistic using Tf idf***"
      ],
      "metadata": {
        "id": "x4Y3PpBzPxMU"
      }
    },
    {
      "cell_type": "code",
      "source": [
        "from sklearn.linear_model import LogisticRegression\n",
        "\n",
        "# ... (Your FastText model, data preparation, and embedding extraction code) ...\n",
        "\n",
        "# Initialize Logistic Regression classifier\n",
        "logreg_classifier = LogisticRegression()\n",
        "\n",
        "logreg_classifier.fit(TX_train, Ty_train)\n",
        "\n",
        "# Make predictions on the test set\n",
        "y_pred = logreg_classifier.predict(TX_test)\n",
        "# Evaluate the model\n",
        "accuracy = accuracy_score(Ty_test, Ty_pred)\n",
        "print(f'\\nAccuracy: {accuracy}')\n",
        "print('Classification Report:')\n",
        "print(classification_report(y_test, Ty_pred))\n"
      ],
      "metadata": {
        "colab": {
          "base_uri": "https://localhost:8080/"
        },
        "id": "WVRmzCl3P4G4",
        "outputId": "fcf69416-97cc-4d48-faa9-60f22e484a64"
      },
      "execution_count": null,
      "outputs": [
        {
          "output_type": "stream",
          "name": "stderr",
          "text": [
            "/usr/local/lib/python3.10/dist-packages/sklearn/linear_model/_logistic.py:460: ConvergenceWarning: lbfgs failed to converge (status=1):\n",
            "STOP: TOTAL NO. of ITERATIONS REACHED LIMIT.\n",
            "\n",
            "Increase the number of iterations (max_iter) or scale the data as shown in:\n",
            "    https://scikit-learn.org/stable/modules/preprocessing.html\n",
            "Please also refer to the documentation for alternative solver options:\n",
            "    https://scikit-learn.org/stable/modules/linear_model.html#logistic-regression\n",
            "  n_iter_i = _check_optimize_result(\n"
          ]
        },
        {
          "output_type": "stream",
          "name": "stdout",
          "text": [
            "\n",
            "Accuracy: 0.7373363688104724\n",
            "Classification Report:\n",
            "              precision    recall  f1-score   support\n",
            "\n",
            "       angry       0.37      0.15      0.21       130\n",
            "        fear       0.32      0.28      0.30        29\n",
            "       happy       0.41      0.21      0.27      1197\n",
            "          no       0.76      0.94      0.85      7605\n",
            "         sad       0.66      0.20      0.31      1581\n",
            "\n",
            "    accuracy                           0.74     10542\n",
            "   macro avg       0.51      0.35      0.39     10542\n",
            "weighted avg       0.70      0.74      0.69     10542\n",
            "\n"
          ]
        }
      ]
    },
    {
      "cell_type": "markdown",
      "source": [
        "# ***Decision - fast text***"
      ],
      "metadata": {
        "id": "fvAFVbBwP6R5"
      }
    },
    {
      "cell_type": "code",
      "source": [
        "#with decision tree\n",
        "from sklearn.tree import DecisionTreeClassifier\n",
        "\n",
        "# ... (Your FastText model, data preparation, and embedding extraction code) ...\n",
        "\n",
        "# Initialize Decision Tree classifier\n",
        "dt_classifier = DecisionTreeClassifier()  # You can adjust parameters like max_depth, min_samples_split, etc.\n",
        "\n",
        "# Train the classifier\n",
        "dt_classifier.fit(X_train, y_train)\n",
        "\n",
        "# Make predictions on the test set\n",
        "y_pred = dt_classifier.predict(X_test)\n",
        "\n",
        "# Evaluate the model\n",
        "accuracy = accuracy_score(y_test, y_pred)\n",
        "print(f'\\nAccuracy: {accuracy}')\n",
        "print('Classification Report:')\n",
        "print(classification_report(y_test, y_pred))\n"
      ],
      "metadata": {
        "colab": {
          "base_uri": "https://localhost:8080/"
        },
        "id": "TSkb4xjoP967",
        "outputId": "5caca6fe-be18-48c9-f3eb-d33cf8db56d4"
      },
      "execution_count": null,
      "outputs": [
        {
          "output_type": "stream",
          "name": "stdout",
          "text": [
            "\n",
            "Accuracy: 0.8957503320053121\n",
            "Classification Report:\n",
            "              precision    recall  f1-score   support\n",
            "\n",
            "       angry       0.67      0.77      0.72       130\n",
            "        fear       0.68      0.86      0.76        29\n",
            "       happy       0.75      0.80      0.78      1197\n",
            "          no       0.94      0.93      0.93      7605\n",
            "         sad       0.84      0.80      0.82      1581\n",
            "\n",
            "    accuracy                           0.90     10542\n",
            "   macro avg       0.77      0.83      0.80     10542\n",
            "weighted avg       0.90      0.90      0.90     10542\n",
            "\n"
          ]
        }
      ]
    },
    {
      "cell_type": "markdown",
      "source": [
        "# ***Decision - Tfidf***"
      ],
      "metadata": {
        "id": "BSFsP2hcQAqy"
      }
    },
    {
      "cell_type": "code",
      "source": [
        "from sklearn.tree import DecisionTreeClassifier\n",
        "\n",
        "# ... (Your FastText model, data preparation, and embedding extraction code) ...\n",
        "\n",
        "# Initialize Decision Tree classifier\n",
        "dt_classifier = DecisionTreeClassifier()  # You can adjust parameters like max_depth, min_samples_split, etc.\n",
        "\n",
        "# Train the classifier\n",
        "dt_classifier.fit(TX_train, Ty_train)\n",
        "\n",
        "# Make predictions on the test set\n",
        "y_pred = dt_classifier.predict(TX_test)\n",
        "\n",
        "# Evaluate the model\n",
        "accuracy = accuracy_score(Ty_test, Ty_pred)\n",
        "print(f'\\nAccuracy: {accuracy}')\n",
        "print('Classification Report:')\n",
        "print(classification_report(Ty_test, Ty_pred))\n"
      ],
      "metadata": {
        "colab": {
          "base_uri": "https://localhost:8080/"
        },
        "id": "Lz-ABQbfQE6N",
        "outputId": "643829e2-ee86-450a-fcdb-e3520ebdfcc5"
      },
      "execution_count": null,
      "outputs": [
        {
          "output_type": "stream",
          "name": "stdout",
          "text": [
            "\n",
            "Accuracy: 0.7373363688104724\n",
            "Classification Report:\n",
            "              precision    recall  f1-score   support\n",
            "\n",
            "       angry       0.37      0.15      0.21       130\n",
            "        fear       0.32      0.28      0.30        29\n",
            "       happy       0.41      0.21      0.27      1197\n",
            "          no       0.76      0.94      0.85      7605\n",
            "         sad       0.66      0.20      0.31      1581\n",
            "\n",
            "    accuracy                           0.74     10542\n",
            "   macro avg       0.51      0.35      0.39     10542\n",
            "weighted avg       0.70      0.74      0.69     10542\n",
            "\n"
          ]
        }
      ]
    },
    {
      "cell_type": "markdown",
      "source": [
        "# ***Naive bayes - fast text***"
      ],
      "metadata": {
        "id": "HjcLbRgyQHv-"
      }
    },
    {
      "cell_type": "code",
      "source": [
        "from sklearn.naive_bayes import MultinomialNB\n",
        "from sklearn.preprocessing import MinMaxScaler\n",
        "\n",
        "# ... (Your FastText model, data preparation, and embedding extraction code) ...\n",
        "\n",
        "# Scale the features to the range [0, 1]\n",
        "scaler = MinMaxScaler()\n",
        "X_train_scaled = scaler.fit_transform(X_train)\n",
        "X_test_scaled = scaler.transform(X_test)\n",
        "\n",
        "# Initialize Multinomial Naive Bayes classifier\n",
        "nb_classifier = MultinomialNB()\n",
        "\n",
        "# Train the classifier using the scaled features\n",
        "nb_classifier.fit(X_train_scaled, y_train)\n",
        "\n",
        "# Make predictions on the test set (using scaled features)\n",
        "y_pred = nb_classifier.predict(X_test_scaled)\n",
        "\n",
        "# Evaluate the model\n",
        "accuracy = accuracy_score(y_test, y_pred)\n",
        "print(f'\\nAccuracy: {accuracy}')\n",
        "print('Classification Report:')\n",
        "print(classification_report(y_test, y_pred))"
      ],
      "metadata": {
        "colab": {
          "base_uri": "https://localhost:8080/"
        },
        "id": "FWQcS5DtQL-L",
        "outputId": "cee66232-d6f8-4823-ba74-896b1f430e5b"
      },
      "execution_count": null,
      "outputs": [
        {
          "output_type": "stream",
          "name": "stdout",
          "text": [
            "\n",
            "Accuracy: 0.7214001138303927\n",
            "Classification Report:\n",
            "              precision    recall  f1-score   support\n",
            "\n",
            "       angry       0.00      0.00      0.00       130\n",
            "        fear       0.00      0.00      0.00        29\n",
            "       happy       0.00      0.00      0.00      1197\n",
            "          no       0.72      1.00      0.84      7605\n",
            "         sad       0.00      0.00      0.00      1581\n",
            "\n",
            "    accuracy                           0.72     10542\n",
            "   macro avg       0.14      0.20      0.17     10542\n",
            "weighted avg       0.52      0.72      0.60     10542\n",
            "\n"
          ]
        },
        {
          "output_type": "stream",
          "name": "stderr",
          "text": [
            "/usr/local/lib/python3.10/dist-packages/sklearn/metrics/_classification.py:1471: UndefinedMetricWarning: Precision and F-score are ill-defined and being set to 0.0 in labels with no predicted samples. Use `zero_division` parameter to control this behavior.\n",
            "  _warn_prf(average, modifier, msg_start, len(result))\n",
            "/usr/local/lib/python3.10/dist-packages/sklearn/metrics/_classification.py:1471: UndefinedMetricWarning: Precision and F-score are ill-defined and being set to 0.0 in labels with no predicted samples. Use `zero_division` parameter to control this behavior.\n",
            "  _warn_prf(average, modifier, msg_start, len(result))\n",
            "/usr/local/lib/python3.10/dist-packages/sklearn/metrics/_classification.py:1471: UndefinedMetricWarning: Precision and F-score are ill-defined and being set to 0.0 in labels with no predicted samples. Use `zero_division` parameter to control this behavior.\n",
            "  _warn_prf(average, modifier, msg_start, len(result))\n"
          ]
        }
      ]
    },
    {
      "cell_type": "markdown",
      "source": [
        "# ***Naive bayes - Tfidf***"
      ],
      "metadata": {
        "id": "NkaR65XgQMzE"
      }
    },
    {
      "cell_type": "code",
      "source": [
        "from sklearn.naive_bayes import MultinomialNB\n",
        "from sklearn.preprocessing import MaxAbsScaler # Use MaxAbsScaler for sparse input\n",
        "\n",
        "# ... (Your FastText model, data preparation, and embedding extraction code) ...\n",
        "\n",
        "# Scale the features to the range [0, 1] using MaxAbsScaler\n",
        "scaler = MaxAbsScaler()\n",
        "X_train_scaled = scaler.fit_transform(TX_train)\n",
        "X_test_scaled = scaler.transform(TX_test)\n",
        "\n",
        "# Initialize Multinomial Naive Bayes classifier\n",
        "nb_classifier = MultinomialNB()\n",
        "\n",
        "# Train the classifier using the scaled features\n",
        "nb_classifier.fit(X_train_scaled, Ty_train)\n",
        "\n",
        "# Make predictions on the test set (using scaled features)\n",
        "Ty_pred = nb_classifier.predict(X_test_scaled)\n",
        "\n",
        "# Evaluate the model\n",
        "accuracy = accuracy_score(Ty_test, Ty_pred)\n",
        "print(f'\\nAccuracy: {accuracy}')\n",
        "print('Classification Report:')\n",
        "print(classification_report(Ty_test, Ty_pred))"
      ],
      "metadata": {
        "colab": {
          "base_uri": "https://localhost:8080/"
        },
        "id": "uNE505XgQPDV",
        "outputId": "b610a947-eb21-4b55-bdda-6d638882e349"
      },
      "execution_count": null,
      "outputs": [
        {
          "output_type": "stream",
          "name": "stdout",
          "text": [
            "\n",
            "Accuracy: 0.7436918990703851\n",
            "Classification Report:\n",
            "              precision    recall  f1-score   support\n",
            "\n",
            "       angry       0.20      0.02      0.03       130\n",
            "        fear       0.00      0.00      0.00        29\n",
            "       happy       0.68      0.09      0.15      1197\n",
            "          no       0.74      0.99      0.85      7605\n",
            "         sad       0.75      0.15      0.25      1581\n",
            "\n",
            "    accuracy                           0.74     10542\n",
            "   macro avg       0.48      0.25      0.26     10542\n",
            "weighted avg       0.73      0.74      0.67     10542\n",
            "\n"
          ]
        },
        {
          "output_type": "stream",
          "name": "stderr",
          "text": [
            "/usr/local/lib/python3.10/dist-packages/sklearn/metrics/_classification.py:1471: UndefinedMetricWarning: Precision and F-score are ill-defined and being set to 0.0 in labels with no predicted samples. Use `zero_division` parameter to control this behavior.\n",
            "  _warn_prf(average, modifier, msg_start, len(result))\n",
            "/usr/local/lib/python3.10/dist-packages/sklearn/metrics/_classification.py:1471: UndefinedMetricWarning: Precision and F-score are ill-defined and being set to 0.0 in labels with no predicted samples. Use `zero_division` parameter to control this behavior.\n",
            "  _warn_prf(average, modifier, msg_start, len(result))\n",
            "/usr/local/lib/python3.10/dist-packages/sklearn/metrics/_classification.py:1471: UndefinedMetricWarning: Precision and F-score are ill-defined and being set to 0.0 in labels with no predicted samples. Use `zero_division` parameter to control this behavior.\n",
            "  _warn_prf(average, modifier, msg_start, len(result))\n"
          ]
        }
      ]
    },
    {
      "cell_type": "markdown",
      "source": [
        "# ***Random forest - Fasttext***"
      ],
      "metadata": {
        "id": "zsiHldf1QVql"
      }
    },
    {
      "cell_type": "code",
      "source": [
        "# using random forest\n",
        "from sklearn.ensemble import RandomForestClassifier\n",
        "\n",
        "# ... (Your FastText model, data preparation, and embedding extraction code) ...\n",
        "\n",
        "# Initialize Random Forest classifier\n",
        "rf_classifier = RandomForestClassifier(n_estimators=100)  # You can adjust the number of trees\n",
        "\n",
        "# Train the classifier\n",
        "rf_classifier.fit(X_train, y_train)\n",
        "\n",
        "# Make predictions on the test set\n",
        "y_pred = rf_classifier.predict(X_test)\n",
        "\n",
        "# Evaluate the model\n",
        "accuracy = accuracy_score(y_test, y_pred)\n",
        "print(f'\\nAccuracy: {accuracy}')\n",
        "print('Classification Report:')\n",
        "print(classification_report(y_test, y_pred))\n"
      ],
      "metadata": {
        "colab": {
          "base_uri": "https://localhost:8080/"
        },
        "id": "JLXiOfnoQcRk",
        "outputId": "60881ce6-f193-4f02-99af-8972b4a1c3e4"
      },
      "execution_count": null,
      "outputs": [
        {
          "output_type": "stream",
          "name": "stdout",
          "text": [
            "\n",
            "Accuracy: 0.9317017643710871\n",
            "Classification Report:\n",
            "              precision    recall  f1-score   support\n",
            "\n",
            "       angry       0.98      0.77      0.86       130\n",
            "        fear       0.93      0.86      0.89        29\n",
            "       happy       0.98      0.77      0.86      1197\n",
            "          no       0.92      0.99      0.95      7605\n",
            "         sad       0.98      0.77      0.86      1581\n",
            "\n",
            "    accuracy                           0.93     10542\n",
            "   macro avg       0.96      0.83      0.89     10542\n",
            "weighted avg       0.94      0.93      0.93     10542\n",
            "\n"
          ]
        }
      ]
    },
    {
      "cell_type": "markdown",
      "source": [
        "# ***Random forest - Tfidf***"
      ],
      "metadata": {
        "id": "MLcWBjAvQe0N"
      }
    },
    {
      "cell_type": "code",
      "source": [
        "# using random forest\n",
        "from sklearn.ensemble import RandomForestClassifier\n",
        "\n",
        "# ... (Your FastText model, data preparation, and embedding extraction code) ...\n",
        "\n",
        "# Initialize Random Forest classifier\n",
        "rf_classifier = RandomForestClassifier(n_estimators=100)  # You can adjust the number of trees\n",
        "\n",
        "# Train the classifier\n",
        "rf_classifier.fit(TX_train, Ty_train)\n",
        "\n",
        "# Make predictions on the test set\n",
        "Ty_pred = rf_classifier.predict(TX_test)\n",
        "\n",
        "# Evaluate the model\n",
        "accuracy = accuracy_score(Ty_test, Ty_pred)\n",
        "print(f'\\nAccuracy: {accuracy}')\n",
        "print('Classification Report:')\n",
        "print(classification_report(Ty_test, Ty_pred))\n"
      ],
      "metadata": {
        "colab": {
          "base_uri": "https://localhost:8080/"
        },
        "id": "8vwX6aB4QiLt",
        "outputId": "f0e84b27-9e95-49cd-c247-5d5cfb8ff7f9"
      },
      "execution_count": null,
      "outputs": [
        {
          "output_type": "stream",
          "name": "stdout",
          "text": [
            "\n",
            "Accuracy: 0.9139631948396889\n",
            "Classification Report:\n",
            "              precision    recall  f1-score   support\n",
            "\n",
            "       angry       0.94      0.71      0.81       130\n",
            "        fear       0.88      0.79      0.84        29\n",
            "       happy       0.93      0.73      0.82      1197\n",
            "          no       0.91      0.98      0.94      7605\n",
            "         sad       0.94      0.74      0.83      1581\n",
            "\n",
            "    accuracy                           0.91     10542\n",
            "   macro avg       0.92      0.79      0.85     10542\n",
            "weighted avg       0.92      0.91      0.91     10542\n",
            "\n"
          ]
        }
      ]
    },
    {
      "cell_type": "code",
      "source": [],
      "metadata": {
        "id": "gUSqWrvTQh84"
      },
      "execution_count": null,
      "outputs": []
    }
  ]
}