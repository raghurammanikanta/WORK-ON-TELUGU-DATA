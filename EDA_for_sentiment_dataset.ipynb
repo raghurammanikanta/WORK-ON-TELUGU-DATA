{
  "nbformat": 4,
  "nbformat_minor": 0,
  "metadata": {
    "colab": {
      "provenance": [],
      "include_colab_link": true
    },
    "kernelspec": {
      "name": "python3",
      "display_name": "Python 3"
    },
    "language_info": {
      "name": "python"
    }
  },
  "cells": [
    {
      "cell_type": "markdown",
      "metadata": {
        "id": "view-in-github",
        "colab_type": "text"
      },
      "source": [
        "<a href=\"https://colab.research.google.com/github/raghurammanikanta/WORK-ON-TELUGU-DATA/blob/main/EDA_for_sentiment_dataset.ipynb\" target=\"_parent\"><img src=\"https://colab.research.google.com/assets/colab-badge.svg\" alt=\"Open In Colab\"/></a>"
      ]
    },
    {
      "cell_type": "markdown",
      "source": [
        "# ***Importing the libraries we need***"
      ],
      "metadata": {
        "id": "5njfx6kekj4H"
      }
    },
    {
      "cell_type": "code",
      "execution_count": null,
      "metadata": {
        "id": "SCcOV1rNefyU"
      },
      "outputs": [],
      "source": [
        "import pandas as pd\n",
        "import matplotlib.pyplot as plt\n",
        "import seaborn as sns\n",
        "from collections import Counter\n",
        "import nltk\n",
        "from nltk.tokenize import word_tokenize"
      ]
    },
    {
      "cell_type": "markdown",
      "source": [
        "# *Loading the dataset*\n",
        "\n"
      ],
      "metadata": {
        "id": "QTkCJ2iWkBDZ"
      }
    },
    {
      "cell_type": "code",
      "source": [
        "df=pd.read_excel('/content/drive/MyDrive/merged_dataset.xlsx')"
      ],
      "metadata": {
        "id": "DsLRiz9Aempu"
      },
      "execution_count": null,
      "outputs": []
    },
    {
      "cell_type": "code",
      "source": [
        "df.head()"
      ],
      "metadata": {
        "colab": {
          "base_uri": "https://localhost:8080/",
          "height": 206
        },
        "id": "aXTQ-vP2euy_",
        "outputId": "c13d770d-c58e-4b55-c233-22e7be6abe50"
      },
      "execution_count": null,
      "outputs": [
        {
          "output_type": "execute_result",
          "data": {
            "text/plain": [
              "                                            Sentence Emotion Tokens\n",
              "0  డ్రెస్సింగ్ విషయంలో సెలబ్రిటీలను బయటివాళ్లూ అన...      no    NaN\n",
              "1  అయితే ప్ర‌భుదాస్ వైష్ణాని అనే వ్య‌క్తి క‌స్ట‌డ...     sad    NaN\n",
              "2  విజయ్ ఆంటోని, యాక్షన్‌కింగ్ అర్జున్ కలిసి నటిస...      no    NaN\n",
              "3  ఆయన 2019 ఎన్నికల్లో టీడీపీ సిట్టింగ్ ఎమ్మెల్యే...   happy    NaN\n",
              "4  రెండోసారి ప్రధాని అయిన నరేంద్రమోదీకి, ఏపీలో వి...   happy    NaN"
            ],
            "text/html": [
              "\n",
              "  <div id=\"df-e96ae5fb-a843-4a8a-b595-3ea8cb626e31\" class=\"colab-df-container\">\n",
              "    <div>\n",
              "<style scoped>\n",
              "    .dataframe tbody tr th:only-of-type {\n",
              "        vertical-align: middle;\n",
              "    }\n",
              "\n",
              "    .dataframe tbody tr th {\n",
              "        vertical-align: top;\n",
              "    }\n",
              "\n",
              "    .dataframe thead th {\n",
              "        text-align: right;\n",
              "    }\n",
              "</style>\n",
              "<table border=\"1\" class=\"dataframe\">\n",
              "  <thead>\n",
              "    <tr style=\"text-align: right;\">\n",
              "      <th></th>\n",
              "      <th>Sentence</th>\n",
              "      <th>Emotion</th>\n",
              "      <th>Tokens</th>\n",
              "    </tr>\n",
              "  </thead>\n",
              "  <tbody>\n",
              "    <tr>\n",
              "      <th>0</th>\n",
              "      <td>డ్రెస్సింగ్ విషయంలో సెలబ్రిటీలను బయటివాళ్లూ అన...</td>\n",
              "      <td>no</td>\n",
              "      <td>NaN</td>\n",
              "    </tr>\n",
              "    <tr>\n",
              "      <th>1</th>\n",
              "      <td>అయితే ప్ర‌భుదాస్ వైష్ణాని అనే వ్య‌క్తి క‌స్ట‌డ...</td>\n",
              "      <td>sad</td>\n",
              "      <td>NaN</td>\n",
              "    </tr>\n",
              "    <tr>\n",
              "      <th>2</th>\n",
              "      <td>విజయ్ ఆంటోని, యాక్షన్‌కింగ్ అర్జున్ కలిసి నటిస...</td>\n",
              "      <td>no</td>\n",
              "      <td>NaN</td>\n",
              "    </tr>\n",
              "    <tr>\n",
              "      <th>3</th>\n",
              "      <td>ఆయన 2019 ఎన్నికల్లో టీడీపీ సిట్టింగ్ ఎమ్మెల్యే...</td>\n",
              "      <td>happy</td>\n",
              "      <td>NaN</td>\n",
              "    </tr>\n",
              "    <tr>\n",
              "      <th>4</th>\n",
              "      <td>రెండోసారి ప్రధాని అయిన నరేంద్రమోదీకి, ఏపీలో వి...</td>\n",
              "      <td>happy</td>\n",
              "      <td>NaN</td>\n",
              "    </tr>\n",
              "  </tbody>\n",
              "</table>\n",
              "</div>\n",
              "    <div class=\"colab-df-buttons\">\n",
              "\n",
              "  <div class=\"colab-df-container\">\n",
              "    <button class=\"colab-df-convert\" onclick=\"convertToInteractive('df-e96ae5fb-a843-4a8a-b595-3ea8cb626e31')\"\n",
              "            title=\"Convert this dataframe to an interactive table.\"\n",
              "            style=\"display:none;\">\n",
              "\n",
              "  <svg xmlns=\"http://www.w3.org/2000/svg\" height=\"24px\" viewBox=\"0 -960 960 960\">\n",
              "    <path d=\"M120-120v-720h720v720H120Zm60-500h600v-160H180v160Zm220 220h160v-160H400v160Zm0 220h160v-160H400v160ZM180-400h160v-160H180v160Zm440 0h160v-160H620v160ZM180-180h160v-160H180v160Zm440 0h160v-160H620v160Z\"/>\n",
              "  </svg>\n",
              "    </button>\n",
              "\n",
              "  <style>\n",
              "    .colab-df-container {\n",
              "      display:flex;\n",
              "      gap: 12px;\n",
              "    }\n",
              "\n",
              "    .colab-df-convert {\n",
              "      background-color: #E8F0FE;\n",
              "      border: none;\n",
              "      border-radius: 50%;\n",
              "      cursor: pointer;\n",
              "      display: none;\n",
              "      fill: #1967D2;\n",
              "      height: 32px;\n",
              "      padding: 0 0 0 0;\n",
              "      width: 32px;\n",
              "    }\n",
              "\n",
              "    .colab-df-convert:hover {\n",
              "      background-color: #E2EBFA;\n",
              "      box-shadow: 0px 1px 2px rgba(60, 64, 67, 0.3), 0px 1px 3px 1px rgba(60, 64, 67, 0.15);\n",
              "      fill: #174EA6;\n",
              "    }\n",
              "\n",
              "    .colab-df-buttons div {\n",
              "      margin-bottom: 4px;\n",
              "    }\n",
              "\n",
              "    [theme=dark] .colab-df-convert {\n",
              "      background-color: #3B4455;\n",
              "      fill: #D2E3FC;\n",
              "    }\n",
              "\n",
              "    [theme=dark] .colab-df-convert:hover {\n",
              "      background-color: #434B5C;\n",
              "      box-shadow: 0px 1px 3px 1px rgba(0, 0, 0, 0.15);\n",
              "      filter: drop-shadow(0px 1px 2px rgba(0, 0, 0, 0.3));\n",
              "      fill: #FFFFFF;\n",
              "    }\n",
              "  </style>\n",
              "\n",
              "    <script>\n",
              "      const buttonEl =\n",
              "        document.querySelector('#df-e96ae5fb-a843-4a8a-b595-3ea8cb626e31 button.colab-df-convert');\n",
              "      buttonEl.style.display =\n",
              "        google.colab.kernel.accessAllowed ? 'block' : 'none';\n",
              "\n",
              "      async function convertToInteractive(key) {\n",
              "        const element = document.querySelector('#df-e96ae5fb-a843-4a8a-b595-3ea8cb626e31');\n",
              "        const dataTable =\n",
              "          await google.colab.kernel.invokeFunction('convertToInteractive',\n",
              "                                                    [key], {});\n",
              "        if (!dataTable) return;\n",
              "\n",
              "        const docLinkHtml = 'Like what you see? Visit the ' +\n",
              "          '<a target=\"_blank\" href=https://colab.research.google.com/notebooks/data_table.ipynb>data table notebook</a>'\n",
              "          + ' to learn more about interactive tables.';\n",
              "        element.innerHTML = '';\n",
              "        dataTable['output_type'] = 'display_data';\n",
              "        await google.colab.output.renderOutput(dataTable, element);\n",
              "        const docLink = document.createElement('div');\n",
              "        docLink.innerHTML = docLinkHtml;\n",
              "        element.appendChild(docLink);\n",
              "      }\n",
              "    </script>\n",
              "  </div>\n",
              "\n",
              "\n",
              "<div id=\"df-50283ed2-d6c8-446f-9720-9dd56672f949\">\n",
              "  <button class=\"colab-df-quickchart\" onclick=\"quickchart('df-50283ed2-d6c8-446f-9720-9dd56672f949')\"\n",
              "            title=\"Suggest charts\"\n",
              "            style=\"display:none;\">\n",
              "\n",
              "<svg xmlns=\"http://www.w3.org/2000/svg\" height=\"24px\"viewBox=\"0 0 24 24\"\n",
              "     width=\"24px\">\n",
              "    <g>\n",
              "        <path d=\"M19 3H5c-1.1 0-2 .9-2 2v14c0 1.1.9 2 2 2h14c1.1 0 2-.9 2-2V5c0-1.1-.9-2-2-2zM9 17H7v-7h2v7zm4 0h-2V7h2v10zm4 0h-2v-4h2v4z\"/>\n",
              "    </g>\n",
              "</svg>\n",
              "  </button>\n",
              "\n",
              "<style>\n",
              "  .colab-df-quickchart {\n",
              "      --bg-color: #E8F0FE;\n",
              "      --fill-color: #1967D2;\n",
              "      --hover-bg-color: #E2EBFA;\n",
              "      --hover-fill-color: #174EA6;\n",
              "      --disabled-fill-color: #AAA;\n",
              "      --disabled-bg-color: #DDD;\n",
              "  }\n",
              "\n",
              "  [theme=dark] .colab-df-quickchart {\n",
              "      --bg-color: #3B4455;\n",
              "      --fill-color: #D2E3FC;\n",
              "      --hover-bg-color: #434B5C;\n",
              "      --hover-fill-color: #FFFFFF;\n",
              "      --disabled-bg-color: #3B4455;\n",
              "      --disabled-fill-color: #666;\n",
              "  }\n",
              "\n",
              "  .colab-df-quickchart {\n",
              "    background-color: var(--bg-color);\n",
              "    border: none;\n",
              "    border-radius: 50%;\n",
              "    cursor: pointer;\n",
              "    display: none;\n",
              "    fill: var(--fill-color);\n",
              "    height: 32px;\n",
              "    padding: 0;\n",
              "    width: 32px;\n",
              "  }\n",
              "\n",
              "  .colab-df-quickchart:hover {\n",
              "    background-color: var(--hover-bg-color);\n",
              "    box-shadow: 0 1px 2px rgba(60, 64, 67, 0.3), 0 1px 3px 1px rgba(60, 64, 67, 0.15);\n",
              "    fill: var(--button-hover-fill-color);\n",
              "  }\n",
              "\n",
              "  .colab-df-quickchart-complete:disabled,\n",
              "  .colab-df-quickchart-complete:disabled:hover {\n",
              "    background-color: var(--disabled-bg-color);\n",
              "    fill: var(--disabled-fill-color);\n",
              "    box-shadow: none;\n",
              "  }\n",
              "\n",
              "  .colab-df-spinner {\n",
              "    border: 2px solid var(--fill-color);\n",
              "    border-color: transparent;\n",
              "    border-bottom-color: var(--fill-color);\n",
              "    animation:\n",
              "      spin 1s steps(1) infinite;\n",
              "  }\n",
              "\n",
              "  @keyframes spin {\n",
              "    0% {\n",
              "      border-color: transparent;\n",
              "      border-bottom-color: var(--fill-color);\n",
              "      border-left-color: var(--fill-color);\n",
              "    }\n",
              "    20% {\n",
              "      border-color: transparent;\n",
              "      border-left-color: var(--fill-color);\n",
              "      border-top-color: var(--fill-color);\n",
              "    }\n",
              "    30% {\n",
              "      border-color: transparent;\n",
              "      border-left-color: var(--fill-color);\n",
              "      border-top-color: var(--fill-color);\n",
              "      border-right-color: var(--fill-color);\n",
              "    }\n",
              "    40% {\n",
              "      border-color: transparent;\n",
              "      border-right-color: var(--fill-color);\n",
              "      border-top-color: var(--fill-color);\n",
              "    }\n",
              "    60% {\n",
              "      border-color: transparent;\n",
              "      border-right-color: var(--fill-color);\n",
              "    }\n",
              "    80% {\n",
              "      border-color: transparent;\n",
              "      border-right-color: var(--fill-color);\n",
              "      border-bottom-color: var(--fill-color);\n",
              "    }\n",
              "    90% {\n",
              "      border-color: transparent;\n",
              "      border-bottom-color: var(--fill-color);\n",
              "    }\n",
              "  }\n",
              "</style>\n",
              "\n",
              "  <script>\n",
              "    async function quickchart(key) {\n",
              "      const quickchartButtonEl =\n",
              "        document.querySelector('#' + key + ' button');\n",
              "      quickchartButtonEl.disabled = true;  // To prevent multiple clicks.\n",
              "      quickchartButtonEl.classList.add('colab-df-spinner');\n",
              "      try {\n",
              "        const charts = await google.colab.kernel.invokeFunction(\n",
              "            'suggestCharts', [key], {});\n",
              "      } catch (error) {\n",
              "        console.error('Error during call to suggestCharts:', error);\n",
              "      }\n",
              "      quickchartButtonEl.classList.remove('colab-df-spinner');\n",
              "      quickchartButtonEl.classList.add('colab-df-quickchart-complete');\n",
              "    }\n",
              "    (() => {\n",
              "      let quickchartButtonEl =\n",
              "        document.querySelector('#df-50283ed2-d6c8-446f-9720-9dd56672f949 button');\n",
              "      quickchartButtonEl.style.display =\n",
              "        google.colab.kernel.accessAllowed ? 'block' : 'none';\n",
              "    })();\n",
              "  </script>\n",
              "</div>\n",
              "\n",
              "    </div>\n",
              "  </div>\n"
            ],
            "application/vnd.google.colaboratory.intrinsic+json": {
              "type": "dataframe",
              "variable_name": "df",
              "summary": "{\n  \"name\": \"df\",\n  \"rows\": 52708,\n  \"fields\": [\n    {\n      \"column\": \"Sentence\",\n      \"properties\": {\n        \"dtype\": \"string\",\n        \"num_unique_values\": 28026,\n        \"samples\": [\n          \"\\u0c24\\u0c3e\\u0c1c\\u0c3e\\u0c17\\u0c3e \\u0c2e\\u0c30\\u0c4b \\u0c1a\\u0c3f\\u0c24\\u0c4d\\u0c30\\u0c3e\\u0c28\\u0c3f\\u0c15\\u0c3f \\u0c17\\u0c4d\\u0c30\\u0c40\\u0c28\\u0c4d\\u200c\\u0c38\\u0c3f\\u0c17\\u0c4d\\u0c28\\u0c32\\u0c4d \\u0c07\\u0c1a\\u0c4d\\u0c1a\\u0c3f\\u0c02\\u0c26\\u0c28\\u0c3f \\u0c38\\u0c2e\\u0c3e\\u0c1a\\u0c3e\\u0c30\\u0c02\",\n          \"\\u0c15\\u0c4b\\u0c32\\u0c41\\u0c15\\u0c41\\u0c02\\u0c1f\\u0c41\\u0c28\\u0c4d\\u0c28 \\u0c1c\\u0c3e\\u0c15\\u0c2c\\u0c4d\\u200c \\u0c2e\\u0c3e\\u0c30\\u0c4d\\u0c1f\\u0c3f\\u0c28\\u0c4d\\u200c.\",\n          \"\\u0c30\\u0c46\\u0c02\\u0c21\\u0c41 \\u0c2e\\u0c02\\u0c21\\u0c32 \\u0c2a\\u0c30\\u0c3f\\u0c37\\u0c24\\u0c4d \\u0c38\\u0c4d\\u0c25\\u0c3e\\u0c28\\u0c3e\\u0c32\\u0c28\\u0c41 \\u0c15\\u0c3e\\u0c02\\u0c17\\u0c4d\\u0c30\\u0c46\\u0c38\\u0c4d \\u0c17\\u0c46\\u0c32\\u0c41\\u0c1a\\u0c41\\u0c15\\u0c41\\u0c02\\u0c26\\u0c3f\"\n        ],\n        \"semantic_type\": \"\",\n        \"description\": \"\"\n      }\n    },\n    {\n      \"column\": \"Emotion\",\n      \"properties\": {\n        \"dtype\": \"category\",\n        \"num_unique_values\": 5,\n        \"samples\": [\n          \"sad\",\n          \"fear\",\n          \"happy\"\n        ],\n        \"semantic_type\": \"\",\n        \"description\": \"\"\n      }\n    },\n    {\n      \"column\": \"Tokens\",\n      \"properties\": {\n        \"dtype\": \"category\",\n        \"num_unique_values\": 24533,\n        \"samples\": [\n          \"['\\u0c1f\\u0c4020', '\\u0c38\\u0c3f\\u0c30\\u0c40\\u0c38\\u0c4d\\\\u200c\\u0c15\\u0c41', '\\u0c2e\\u0c41\\u0c02\\u0c26\\u0c41', '\\u0c2a\\u0c3e\\u0c15\\u0c4d\\\\u200c-\\u0c06\\u0c38\\u0c4d\\u0c1f\\u0c4d\\u0c30\\u0c47\\u0c32\\u0c3f\\u0c2f\\u0c3e\\u0c32', '\\u0c2e\\u0c27\\u0c4d\\u0c2f', '\\u0c30\\u0c46\\u0c02\\u0c21\\u0c41', '\\u0c2e\\u0c4d\\u0c2f\\u0c3e\\u0c1a\\u0c4d\\\\u200c\\u0c32', '\\u0c1f\\u0c46\\u0c38\\u0c4d\\u0c1f\\u0c41', '\\u0c38\\u0c3f\\u0c30\\u0c40\\u0c38\\u0c4d\\\\u200c', '\\u0c1c\\u0c30\\u0c3f\\u0c17\\u0c3f\\u0c02\\u0c26\\u0c3f', '.']\",\n          \"['\\u0c05\\u0c24\\u0c4d\\u0c2f\\u0c02\\u0c24', '\\u0c12\\u0c24\\u0c4d\\u0c24\\u0c3f\\u0c21\\u0c3f\\u0c32\\u0c4b', '\\u0c05\\u0c24\\u0c4d\\u0c2f\\u0c26\\u0c4d\\u0c2d\\u0c41\\u0c24', '\\u0c05\\u0c1c\\u0c47\\u0c2f', '\\u0c05\\u0c30\\u0c4d\\u0c27\\u0c36\\u0c24\\u0c15\\u0c02', '\\u0c2c\\u0c3e\\u0c26\\u0c47\\u0c36\\u0c3e\\u0c21\\u0c41', '.']\",\n          \"['\\u0c15\\u0c3e\\u0c28\\u0c40', ',', '\\u0c2a\\u0c4b\\u0c32\\u0c35\\u0c30\\u0c02', '\\u0c2a\\u0c4d\\u0c30\\u0c3e\\u0c1c\\u0c46\\u0c15\\u0c4d\\u0c1f\\u0c41\\u0c28\\u0c41', '\\u0c38\\u0c24\\u0c4d\\u0c35\\u0c30\\u0c2e\\u0c47', '\\u0c2a\\u0c42\\u0c30\\u0c4d\\u0c24\\u0c3f', '\\u0c1a\\u0c47\\u0c2f\\u0c3e\\u0c32\\u0c4d\\u0c38\\u0c3f\\u0c28', '\\u0c05\\u0c35\\u0c38\\u0c30\\u0c02', '\\u0c2e\\u0c3e\\u0c24\\u0c4d\\u0c30\\u0c02', '\\u0c09\\u0c02\\u0c26\\u0c28\\u0c3f', '\\u0c06\\u0c2f\\u0c28', '\\u0c05\\u0c2d\\u0c3f\\u0c2a\\u0c4d\\u0c30\\u0c3e\\u0c2f\\u0c2a\\u0c21\\u0c4d\\u0c21\\u0c3e\\u0c30\\u0c41', '.']\"\n        ],\n        \"semantic_type\": \"\",\n        \"description\": \"\"\n      }\n    }\n  ]\n}"
            }
          },
          "metadata": {},
          "execution_count": 19
        }
      ]
    },
    {
      "cell_type": "code",
      "source": [
        "df.info()"
      ],
      "metadata": {
        "colab": {
          "base_uri": "https://localhost:8080/"
        },
        "id": "gI5O6KAYezRt",
        "outputId": "3552f37d-b3aa-4ecc-8e2a-34cd7741cbf2"
      },
      "execution_count": null,
      "outputs": [
        {
          "output_type": "stream",
          "name": "stdout",
          "text": [
            "<class 'pandas.core.frame.DataFrame'>\n",
            "RangeIndex: 52708 entries, 0 to 52707\n",
            "Data columns (total 3 columns):\n",
            " #   Column    Non-Null Count  Dtype \n",
            "---  ------    --------------  ----- \n",
            " 0   Sentence  52708 non-null  object\n",
            " 1   Emotion   52708 non-null  object\n",
            " 2   Tokens    24599 non-null  object\n",
            "dtypes: object(3)\n",
            "memory usage: 1.2+ MB\n"
          ]
        }
      ]
    },
    {
      "cell_type": "code",
      "source": [
        "df.describe()"
      ],
      "metadata": {
        "colab": {
          "base_uri": "https://localhost:8080/",
          "height": 175
        },
        "id": "bSFWPWz6snpS",
        "outputId": "75086da7-8c08-4a38-86b2-2af39ed72255"
      },
      "execution_count": null,
      "outputs": [
        {
          "output_type": "execute_result",
          "data": {
            "text/plain": [
              "                       Sentence Emotion  \\\n",
              "count                     52708   52708   \n",
              "unique                    28026       5   \n",
              "top     పోలీసుల కథనం ప్రకారం.\\n      no   \n",
              "freq                          6   38193   \n",
              "\n",
              "                                           Tokens  \n",
              "count                                       24599  \n",
              "unique                                      24533  \n",
              "top     ['నిర్మాణ', 'విలువలు', 'బాగున్నాయి', '.']  \n",
              "freq                                            5  "
            ],
            "text/html": [
              "\n",
              "  <div id=\"df-c8c819c3-a716-4722-9181-bff93e6dd1a0\" class=\"colab-df-container\">\n",
              "    <div>\n",
              "<style scoped>\n",
              "    .dataframe tbody tr th:only-of-type {\n",
              "        vertical-align: middle;\n",
              "    }\n",
              "\n",
              "    .dataframe tbody tr th {\n",
              "        vertical-align: top;\n",
              "    }\n",
              "\n",
              "    .dataframe thead th {\n",
              "        text-align: right;\n",
              "    }\n",
              "</style>\n",
              "<table border=\"1\" class=\"dataframe\">\n",
              "  <thead>\n",
              "    <tr style=\"text-align: right;\">\n",
              "      <th></th>\n",
              "      <th>Sentence</th>\n",
              "      <th>Emotion</th>\n",
              "      <th>Tokens</th>\n",
              "    </tr>\n",
              "  </thead>\n",
              "  <tbody>\n",
              "    <tr>\n",
              "      <th>count</th>\n",
              "      <td>52708</td>\n",
              "      <td>52708</td>\n",
              "      <td>24599</td>\n",
              "    </tr>\n",
              "    <tr>\n",
              "      <th>unique</th>\n",
              "      <td>28026</td>\n",
              "      <td>5</td>\n",
              "      <td>24533</td>\n",
              "    </tr>\n",
              "    <tr>\n",
              "      <th>top</th>\n",
              "      <td>పోలీసుల కథనం ప్రకారం.\\n</td>\n",
              "      <td>no</td>\n",
              "      <td>['నిర్మాణ', 'విలువలు', 'బాగున్నాయి', '.']</td>\n",
              "    </tr>\n",
              "    <tr>\n",
              "      <th>freq</th>\n",
              "      <td>6</td>\n",
              "      <td>38193</td>\n",
              "      <td>5</td>\n",
              "    </tr>\n",
              "  </tbody>\n",
              "</table>\n",
              "</div>\n",
              "    <div class=\"colab-df-buttons\">\n",
              "\n",
              "  <div class=\"colab-df-container\">\n",
              "    <button class=\"colab-df-convert\" onclick=\"convertToInteractive('df-c8c819c3-a716-4722-9181-bff93e6dd1a0')\"\n",
              "            title=\"Convert this dataframe to an interactive table.\"\n",
              "            style=\"display:none;\">\n",
              "\n",
              "  <svg xmlns=\"http://www.w3.org/2000/svg\" height=\"24px\" viewBox=\"0 -960 960 960\">\n",
              "    <path d=\"M120-120v-720h720v720H120Zm60-500h600v-160H180v160Zm220 220h160v-160H400v160Zm0 220h160v-160H400v160ZM180-400h160v-160H180v160Zm440 0h160v-160H620v160ZM180-180h160v-160H180v160Zm440 0h160v-160H620v160Z\"/>\n",
              "  </svg>\n",
              "    </button>\n",
              "\n",
              "  <style>\n",
              "    .colab-df-container {\n",
              "      display:flex;\n",
              "      gap: 12px;\n",
              "    }\n",
              "\n",
              "    .colab-df-convert {\n",
              "      background-color: #E8F0FE;\n",
              "      border: none;\n",
              "      border-radius: 50%;\n",
              "      cursor: pointer;\n",
              "      display: none;\n",
              "      fill: #1967D2;\n",
              "      height: 32px;\n",
              "      padding: 0 0 0 0;\n",
              "      width: 32px;\n",
              "    }\n",
              "\n",
              "    .colab-df-convert:hover {\n",
              "      background-color: #E2EBFA;\n",
              "      box-shadow: 0px 1px 2px rgba(60, 64, 67, 0.3), 0px 1px 3px 1px rgba(60, 64, 67, 0.15);\n",
              "      fill: #174EA6;\n",
              "    }\n",
              "\n",
              "    .colab-df-buttons div {\n",
              "      margin-bottom: 4px;\n",
              "    }\n",
              "\n",
              "    [theme=dark] .colab-df-convert {\n",
              "      background-color: #3B4455;\n",
              "      fill: #D2E3FC;\n",
              "    }\n",
              "\n",
              "    [theme=dark] .colab-df-convert:hover {\n",
              "      background-color: #434B5C;\n",
              "      box-shadow: 0px 1px 3px 1px rgba(0, 0, 0, 0.15);\n",
              "      filter: drop-shadow(0px 1px 2px rgba(0, 0, 0, 0.3));\n",
              "      fill: #FFFFFF;\n",
              "    }\n",
              "  </style>\n",
              "\n",
              "    <script>\n",
              "      const buttonEl =\n",
              "        document.querySelector('#df-c8c819c3-a716-4722-9181-bff93e6dd1a0 button.colab-df-convert');\n",
              "      buttonEl.style.display =\n",
              "        google.colab.kernel.accessAllowed ? 'block' : 'none';\n",
              "\n",
              "      async function convertToInteractive(key) {\n",
              "        const element = document.querySelector('#df-c8c819c3-a716-4722-9181-bff93e6dd1a0');\n",
              "        const dataTable =\n",
              "          await google.colab.kernel.invokeFunction('convertToInteractive',\n",
              "                                                    [key], {});\n",
              "        if (!dataTable) return;\n",
              "\n",
              "        const docLinkHtml = 'Like what you see? Visit the ' +\n",
              "          '<a target=\"_blank\" href=https://colab.research.google.com/notebooks/data_table.ipynb>data table notebook</a>'\n",
              "          + ' to learn more about interactive tables.';\n",
              "        element.innerHTML = '';\n",
              "        dataTable['output_type'] = 'display_data';\n",
              "        await google.colab.output.renderOutput(dataTable, element);\n",
              "        const docLink = document.createElement('div');\n",
              "        docLink.innerHTML = docLinkHtml;\n",
              "        element.appendChild(docLink);\n",
              "      }\n",
              "    </script>\n",
              "  </div>\n",
              "\n",
              "\n",
              "<div id=\"df-2b381a79-fa0e-4894-953d-d21cefe482a1\">\n",
              "  <button class=\"colab-df-quickchart\" onclick=\"quickchart('df-2b381a79-fa0e-4894-953d-d21cefe482a1')\"\n",
              "            title=\"Suggest charts\"\n",
              "            style=\"display:none;\">\n",
              "\n",
              "<svg xmlns=\"http://www.w3.org/2000/svg\" height=\"24px\"viewBox=\"0 0 24 24\"\n",
              "     width=\"24px\">\n",
              "    <g>\n",
              "        <path d=\"M19 3H5c-1.1 0-2 .9-2 2v14c0 1.1.9 2 2 2h14c1.1 0 2-.9 2-2V5c0-1.1-.9-2-2-2zM9 17H7v-7h2v7zm4 0h-2V7h2v10zm4 0h-2v-4h2v4z\"/>\n",
              "    </g>\n",
              "</svg>\n",
              "  </button>\n",
              "\n",
              "<style>\n",
              "  .colab-df-quickchart {\n",
              "      --bg-color: #E8F0FE;\n",
              "      --fill-color: #1967D2;\n",
              "      --hover-bg-color: #E2EBFA;\n",
              "      --hover-fill-color: #174EA6;\n",
              "      --disabled-fill-color: #AAA;\n",
              "      --disabled-bg-color: #DDD;\n",
              "  }\n",
              "\n",
              "  [theme=dark] .colab-df-quickchart {\n",
              "      --bg-color: #3B4455;\n",
              "      --fill-color: #D2E3FC;\n",
              "      --hover-bg-color: #434B5C;\n",
              "      --hover-fill-color: #FFFFFF;\n",
              "      --disabled-bg-color: #3B4455;\n",
              "      --disabled-fill-color: #666;\n",
              "  }\n",
              "\n",
              "  .colab-df-quickchart {\n",
              "    background-color: var(--bg-color);\n",
              "    border: none;\n",
              "    border-radius: 50%;\n",
              "    cursor: pointer;\n",
              "    display: none;\n",
              "    fill: var(--fill-color);\n",
              "    height: 32px;\n",
              "    padding: 0;\n",
              "    width: 32px;\n",
              "  }\n",
              "\n",
              "  .colab-df-quickchart:hover {\n",
              "    background-color: var(--hover-bg-color);\n",
              "    box-shadow: 0 1px 2px rgba(60, 64, 67, 0.3), 0 1px 3px 1px rgba(60, 64, 67, 0.15);\n",
              "    fill: var(--button-hover-fill-color);\n",
              "  }\n",
              "\n",
              "  .colab-df-quickchart-complete:disabled,\n",
              "  .colab-df-quickchart-complete:disabled:hover {\n",
              "    background-color: var(--disabled-bg-color);\n",
              "    fill: var(--disabled-fill-color);\n",
              "    box-shadow: none;\n",
              "  }\n",
              "\n",
              "  .colab-df-spinner {\n",
              "    border: 2px solid var(--fill-color);\n",
              "    border-color: transparent;\n",
              "    border-bottom-color: var(--fill-color);\n",
              "    animation:\n",
              "      spin 1s steps(1) infinite;\n",
              "  }\n",
              "\n",
              "  @keyframes spin {\n",
              "    0% {\n",
              "      border-color: transparent;\n",
              "      border-bottom-color: var(--fill-color);\n",
              "      border-left-color: var(--fill-color);\n",
              "    }\n",
              "    20% {\n",
              "      border-color: transparent;\n",
              "      border-left-color: var(--fill-color);\n",
              "      border-top-color: var(--fill-color);\n",
              "    }\n",
              "    30% {\n",
              "      border-color: transparent;\n",
              "      border-left-color: var(--fill-color);\n",
              "      border-top-color: var(--fill-color);\n",
              "      border-right-color: var(--fill-color);\n",
              "    }\n",
              "    40% {\n",
              "      border-color: transparent;\n",
              "      border-right-color: var(--fill-color);\n",
              "      border-top-color: var(--fill-color);\n",
              "    }\n",
              "    60% {\n",
              "      border-color: transparent;\n",
              "      border-right-color: var(--fill-color);\n",
              "    }\n",
              "    80% {\n",
              "      border-color: transparent;\n",
              "      border-right-color: var(--fill-color);\n",
              "      border-bottom-color: var(--fill-color);\n",
              "    }\n",
              "    90% {\n",
              "      border-color: transparent;\n",
              "      border-bottom-color: var(--fill-color);\n",
              "    }\n",
              "  }\n",
              "</style>\n",
              "\n",
              "  <script>\n",
              "    async function quickchart(key) {\n",
              "      const quickchartButtonEl =\n",
              "        document.querySelector('#' + key + ' button');\n",
              "      quickchartButtonEl.disabled = true;  // To prevent multiple clicks.\n",
              "      quickchartButtonEl.classList.add('colab-df-spinner');\n",
              "      try {\n",
              "        const charts = await google.colab.kernel.invokeFunction(\n",
              "            'suggestCharts', [key], {});\n",
              "      } catch (error) {\n",
              "        console.error('Error during call to suggestCharts:', error);\n",
              "      }\n",
              "      quickchartButtonEl.classList.remove('colab-df-spinner');\n",
              "      quickchartButtonEl.classList.add('colab-df-quickchart-complete');\n",
              "    }\n",
              "    (() => {\n",
              "      let quickchartButtonEl =\n",
              "        document.querySelector('#df-2b381a79-fa0e-4894-953d-d21cefe482a1 button');\n",
              "      quickchartButtonEl.style.display =\n",
              "        google.colab.kernel.accessAllowed ? 'block' : 'none';\n",
              "    })();\n",
              "  </script>\n",
              "</div>\n",
              "\n",
              "    </div>\n",
              "  </div>\n"
            ],
            "application/vnd.google.colaboratory.intrinsic+json": {
              "type": "dataframe",
              "summary": "{\n  \"name\": \"df\",\n  \"rows\": 4,\n  \"fields\": [\n    {\n      \"column\": \"Sentence\",\n      \"properties\": {\n        \"dtype\": \"string\",\n        \"num_unique_values\": 4,\n        \"samples\": [\n          28026,\n          \"6\",\n          \"52708\"\n        ],\n        \"semantic_type\": \"\",\n        \"description\": \"\"\n      }\n    },\n    {\n      \"column\": \"Emotion\",\n      \"properties\": {\n        \"dtype\": \"string\",\n        \"num_unique_values\": 4,\n        \"samples\": [\n          5,\n          \"38193\",\n          \"52708\"\n        ],\n        \"semantic_type\": \"\",\n        \"description\": \"\"\n      }\n    },\n    {\n      \"column\": \"Tokens\",\n      \"properties\": {\n        \"dtype\": \"string\",\n        \"num_unique_values\": 4,\n        \"samples\": [\n          24533,\n          \"5\",\n          \"24599\"\n        ],\n        \"semantic_type\": \"\",\n        \"description\": \"\"\n      }\n    }\n  ]\n}"
            }
          },
          "metadata": {},
          "execution_count": 21
        }
      ]
    },
    {
      "cell_type": "markdown",
      "source": [
        "# ***Analyze the distribution of emotions:***"
      ],
      "metadata": {
        "id": "cYDMTvBDkIQI"
      }
    },
    {
      "cell_type": "markdown",
      "source": [
        "This figure illustrates the distribution of various emotions present in the dataset. The data is visualized using a count plot, which displays the frequency of each emotion category. The x-axis represents the different emotions, while the y-axis shows the count of occurrences for each emotion. The plot is color-coded using the 'viridis' palette, enhancing visual differentiation between the emotion categories. The figure is designed with a 45-degree rotation for the x-axis labels to improve readability. The plot was generated with a resolution of 1200 dpi and saved with tight bounding box adjustments to ensure clarity and optimal presentation in the document."
      ],
      "metadata": {
        "id": "FEhSpZjjqJTi"
      }
    },
    {
      "cell_type": "code",
      "source": [
        "plt.figure(figsize=(12, 6))\n",
        "sns.countplot(x='Emotion', data=df, palette='viridis')\n",
        "plt.title('Distribution of Emotions', fontsize=16)\n",
        "plt.xlabel('Emotion', fontsize=12)\n",
        "plt.ylabel('Count', fontsize=12)\n",
        "plt.xticks(rotation=45)\n",
        "plt.savefig('Distribution of Emotions.png',dpi=1200,bbox_inches='tight')\n",
        "plt.show()"
      ],
      "metadata": {
        "colab": {
          "base_uri": "https://localhost:8080/",
          "height": 684
        },
        "id": "abHR-kmEe3Tt",
        "outputId": "a38e1ba6-2297-4e9f-c689-7d4358429d15"
      },
      "execution_count": null,
      "outputs": [
        {
          "output_type": "stream",
          "name": "stderr",
          "text": [
            "<ipython-input-22-62ab49430f97>:2: FutureWarning: \n",
            "\n",
            "Passing `palette` without assigning `hue` is deprecated and will be removed in v0.14.0. Assign the `x` variable to `hue` and set `legend=False` for the same effect.\n",
            "\n",
            "  sns.countplot(x='Emotion', data=df, palette='viridis')\n"
          ]
        },
        {
          "output_type": "display_data",
          "data": {
            "text/plain": [
              "<Figure size 1200x600 with 1 Axes>"
            ],
            "image/png": "[encoded data removed]"
          },
          "metadata": {}
        }
      ]
    },
    {
      "cell_type": "markdown",
      "source": [
        "# ***Analyze text length***"
      ],
      "metadata": {
        "id": "848KuNz-kMAK"
      }
    },
    {
      "cell_type": "markdown",
      "source": [
        "This figure presents the distribution of sentence lengths within the dataset. The length of each sentence was calculated and stored in the sentence_length column. A histogram was then created to visualize the frequency distribution of these lengths, with a kernel density estimate (KDE) overlay to highlight the distribution's shape more smoothly. The x-axis represents the length of the sentences, while the y-axis shows the count of sentences corresponding to each length. The plot provides a clear view of how sentence lengths vary across the dataset. This visualization is essential for understanding the textual characteristics and variability within the data. The figure was generated with a resolution of 1200 dpi and saved with tight bounding box adjustments to ensure clarity and optimal presentation in the document."
      ],
      "metadata": {
        "id": "ni3ukFnarbz9"
      }
    },
    {
      "cell_type": "code",
      "source": [
        "\n",
        "df['text_length'] = df['Sentence'].str.len()\n",
        "df['sentence_length'] = df['Sentence'].str.len()\n",
        "\n",
        "# Plot the original distribution\n",
        "plt.figure(figsize=(12, 6))\n",
        "sns.histplot(data=df, x='sentence_length', kde=True)\n",
        "plt.title('Original Distribution of Sentence Lengths')\n",
        "plt.xlabel('Sentence Length')\n",
        "plt.savefig('Original Distribution of Sentence Lengths.png',dpi=1200,bbox_inches='tight')\n",
        "plt.show()\n",
        "\n",
        "# Get some statistics\n",
        "print(df['sentence_length'].describe())\n",
        "\n"
      ],
      "metadata": {
        "colab": {
          "base_uri": "https://localhost:8080/",
          "height": 720
        },
        "id": "8XszlWvRfOjW",
        "outputId": "69d8a770-6650-494e-811b-c7a3c70783d5"
      },
      "execution_count": null,
      "outputs": [
        {
          "output_type": "display_data",
          "data": {
            "text/plain": [
              "<Figure size 1200x600 with 1 Axes>"
            ],
            "image/png": "[encoded data removed]"
          },
          "metadata": {}
        },
        {
          "output_type": "stream",
          "name": "stdout",
          "text": [
            "count    52708.000000\n",
            "mean        83.813387\n",
            "std         46.073488\n",
            "min          7.000000\n",
            "25%         53.000000\n",
            "50%         75.000000\n",
            "75%        105.000000\n",
            "max       1217.000000\n",
            "Name: sentence_length, dtype: float64\n"
          ]
        }
      ]
    },
    {
      "cell_type": "markdown",
      "source": [
        "Hence we got right skewed we are goona make it into balanced by taking only the required"
      ],
      "metadata": {
        "id": "cXTtGIQYrvnA"
      }
    },
    {
      "cell_type": "code",
      "source": [
        "cutoff = df['sentence_length'].quantile(0.99)\n",
        "print(f\"95th percentile of sentence length: {cutoff}\")"
      ],
      "metadata": {
        "colab": {
          "base_uri": "https://localhost:8080/"
        },
        "id": "-LYNP-PlbmKj",
        "outputId": "e4275bc6-ea94-46f4-ec8b-7e70599c5c7e"
      },
      "execution_count": null,
      "outputs": [
        {
          "output_type": "stream",
          "name": "stdout",
          "text": [
            "95th percentile of sentence length: 234.0\n"
          ]
        }
      ]
    },
    {
      "cell_type": "markdown",
      "source": [
        "So,by this cutoff we are gonna cut the required"
      ],
      "metadata": {
        "id": "M7onzWlkr6tN"
      }
    },
    {
      "cell_type": "markdown",
      "source": [
        "Now we have the balanced"
      ],
      "metadata": {
        "id": "XVFIQdC8sKP_"
      }
    },
    {
      "cell_type": "code",
      "source": [
        "df_trimmed = df[df['sentence_length'] <= cutoff].copy()\n",
        "\n",
        "# Plot the new distribution\n",
        "plt.figure(figsize=(12, 6))\n",
        "sns.histplot(data=df_trimmed, x='sentence_length', kde=True)\n",
        "plt.title('Trimmed Distribution of Sentence Lengths')\n",
        "plt.xlabel('Sentence Length')\n",
        "plt.savefig('Trimmed Distribution of Sentence Lengths.png',dpi=1200,bbox_inches='tight')\n",
        "plt.show()\n",
        "\n",
        "# Get some statistics of the trimmed data\n",
        "print(df_trimmed['sentence_length'].describe())"
      ],
      "metadata": {
        "colab": {
          "base_uri": "https://localhost:8080/",
          "height": 720
        },
        "id": "-INEHismbR5f",
        "outputId": "9ed85c42-abae-49c6-e553-b61bc073ae52"
      },
      "execution_count": null,
      "outputs": [
        {
          "output_type": "display_data",
          "data": {
            "text/plain": [
              "<Figure size 1200x600 with 1 Axes>"
            ],
            "image/png": "[encoded data removed]"
          },
          "metadata": {}
        },
        {
          "output_type": "stream",
          "name": "stdout",
          "text": [
            "count    52182.000000\n",
            "mean        81.617186\n",
            "std         39.580688\n",
            "min          7.000000\n",
            "25%         53.000000\n",
            "50%         75.000000\n",
            "75%        103.000000\n",
            "max        234.000000\n",
            "Name: sentence_length, dtype: float64\n"
          ]
        }
      ]
    },
    {
      "cell_type": "code",
      "source": [
        "df_trimmed.to_csv('trimmed_dataset.csv', index=False)"
      ],
      "metadata": {
        "id": "OkX5Ms8UbXLn"
      },
      "execution_count": null,
      "outputs": []
    },
    {
      "cell_type": "code",
      "source": [
        "da=pd.read_csv('/content/trimmed_dataset.csv')\n",
        "da.head()"
      ],
      "metadata": {
        "colab": {
          "base_uri": "https://localhost:8080/",
          "height": 206
        },
        "id": "Z2JwMY0jbZdh",
        "outputId": "7fea43fa-0575-4c96-f371-00efaad472d3"
      },
      "execution_count": null,
      "outputs": [
        {
          "output_type": "execute_result",
          "data": {
            "text/plain": [
              "                                            Sentence Emotion Tokens  \\\n",
              "0  డ్రెస్సింగ్ విషయంలో సెలబ్రిటీలను బయటివాళ్లూ అన...      no    NaN   \n",
              "1  అయితే ప్ర‌భుదాస్ వైష్ణాని అనే వ్య‌క్తి క‌స్ట‌డ...     sad    NaN   \n",
              "2  విజయ్ ఆంటోని, యాక్షన్‌కింగ్ అర్జున్ కలిసి నటిస...      no    NaN   \n",
              "3  ఆయన 2019 ఎన్నికల్లో టీడీపీ సిట్టింగ్ ఎమ్మెల్యే...   happy    NaN   \n",
              "4  రెండోసారి ప్రధాని అయిన నరేంద్రమోదీకి, ఏపీలో వి...   happy    NaN   \n",
              "\n",
              "   text_length  sentence_length  \n",
              "0          166              166  \n",
              "1           60               60  \n",
              "2           69               69  \n",
              "3          110              110  \n",
              "4          108              108  "
            ],
            "text/html": [
              "\n",
              "  <div id=\"df-25cf4006-5470-463e-b2a4-8e885944ab51\" class=\"colab-df-container\">\n",
              "    <div>\n",
              "<style scoped>\n",
              "    .dataframe tbody tr th:only-of-type {\n",
              "        vertical-align: middle;\n",
              "    }\n",
              "\n",
              "    .dataframe tbody tr th {\n",
              "        vertical-align: top;\n",
              "    }\n",
              "\n",
              "    .dataframe thead th {\n",
              "        text-align: right;\n",
              "    }\n",
              "</style>\n",
              "<table border=\"1\" class=\"dataframe\">\n",
              "  <thead>\n",
              "    <tr style=\"text-align: right;\">\n",
              "      <th></th>\n",
              "      <th>Sentence</th>\n",
              "      <th>Emotion</th>\n",
              "      <th>Tokens</th>\n",
              "      <th>text_length</th>\n",
              "      <th>sentence_length</th>\n",
              "    </tr>\n",
              "  </thead>\n",
              "  <tbody>\n",
              "    <tr>\n",
              "      <th>0</th>\n",
              "      <td>డ్రెస్సింగ్ విషయంలో సెలబ్రిటీలను బయటివాళ్లూ అన...</td>\n",
              "      <td>no</td>\n",
              "      <td>NaN</td>\n",
              "      <td>166</td>\n",
              "      <td>166</td>\n",
              "    </tr>\n",
              "    <tr>\n",
              "      <th>1</th>\n",
              "      <td>అయితే ప్ర‌భుదాస్ వైష్ణాని అనే వ్య‌క్తి క‌స్ట‌డ...</td>\n",
              "      <td>sad</td>\n",
              "      <td>NaN</td>\n",
              "      <td>60</td>\n",
              "      <td>60</td>\n",
              "    </tr>\n",
              "    <tr>\n",
              "      <th>2</th>\n",
              "      <td>విజయ్ ఆంటోని, యాక్షన్‌కింగ్ అర్జున్ కలిసి నటిస...</td>\n",
              "      <td>no</td>\n",
              "      <td>NaN</td>\n",
              "      <td>69</td>\n",
              "      <td>69</td>\n",
              "    </tr>\n",
              "    <tr>\n",
              "      <th>3</th>\n",
              "      <td>ఆయన 2019 ఎన్నికల్లో టీడీపీ సిట్టింగ్ ఎమ్మెల్యే...</td>\n",
              "      <td>happy</td>\n",
              "      <td>NaN</td>\n",
              "      <td>110</td>\n",
              "      <td>110</td>\n",
              "    </tr>\n",
              "    <tr>\n",
              "      <th>4</th>\n",
              "      <td>రెండోసారి ప్రధాని అయిన నరేంద్రమోదీకి, ఏపీలో వి...</td>\n",
              "      <td>happy</td>\n",
              "      <td>NaN</td>\n",
              "      <td>108</td>\n",
              "      <td>108</td>\n",
              "    </tr>\n",
              "  </tbody>\n",
              "</table>\n",
              "</div>\n",
              "    <div class=\"colab-df-buttons\">\n",
              "\n",
              "  <div class=\"colab-df-container\">\n",
              "    <button class=\"colab-df-convert\" onclick=\"convertToInteractive('df-25cf4006-5470-463e-b2a4-8e885944ab51')\"\n",
              "            title=\"Convert this dataframe to an interactive table.\"\n",
              "            style=\"display:none;\">\n",
              "\n",
              "  <svg xmlns=\"http://www.w3.org/2000/svg\" height=\"24px\" viewBox=\"0 -960 960 960\">\n",
              "    <path d=\"M120-120v-720h720v720H120Zm60-500h600v-160H180v160Zm220 220h160v-160H400v160Zm0 220h160v-160H400v160ZM180-400h160v-160H180v160Zm440 0h160v-160H620v160ZM180-180h160v-160H180v160Zm440 0h160v-160H620v160Z\"/>\n",
              "  </svg>\n",
              "    </button>\n",
              "\n",
              "  <style>\n",
              "    .colab-df-container {\n",
              "      display:flex;\n",
              "      gap: 12px;\n",
              "    }\n",
              "\n",
              "    .colab-df-convert {\n",
              "      background-color: #E8F0FE;\n",
              "      border: none;\n",
              "      border-radius: 50%;\n",
              "      cursor: pointer;\n",
              "      display: none;\n",
              "      fill: #1967D2;\n",
              "      height: 32px;\n",
              "      padding: 0 0 0 0;\n",
              "      width: 32px;\n",
              "    }\n",
              "\n",
              "    .colab-df-convert:hover {\n",
              "      background-color: #E2EBFA;\n",
              "      box-shadow: 0px 1px 2px rgba(60, 64, 67, 0.3), 0px 1px 3px 1px rgba(60, 64, 67, 0.15);\n",
              "      fill: #174EA6;\n",
              "    }\n",
              "\n",
              "    .colab-df-buttons div {\n",
              "      margin-bottom: 4px;\n",
              "    }\n",
              "\n",
              "    [theme=dark] .colab-df-convert {\n",
              "      background-color: #3B4455;\n",
              "      fill: #D2E3FC;\n",
              "    }\n",
              "\n",
              "    [theme=dark] .colab-df-convert:hover {\n",
              "      background-color: #434B5C;\n",
              "      box-shadow: 0px 1px 3px 1px rgba(0, 0, 0, 0.15);\n",
              "      filter: drop-shadow(0px 1px 2px rgba(0, 0, 0, 0.3));\n",
              "      fill: #FFFFFF;\n",
              "    }\n",
              "  </style>\n",
              "\n",
              "    <script>\n",
              "      const buttonEl =\n",
              "        document.querySelector('#df-25cf4006-5470-463e-b2a4-8e885944ab51 button.colab-df-convert');\n",
              "      buttonEl.style.display =\n",
              "        google.colab.kernel.accessAllowed ? 'block' : 'none';\n",
              "\n",
              "      async function convertToInteractive(key) {\n",
              "        const element = document.querySelector('#df-25cf4006-5470-463e-b2a4-8e885944ab51');\n",
              "        const dataTable =\n",
              "          await google.colab.kernel.invokeFunction('convertToInteractive',\n",
              "                                                    [key], {});\n",
              "        if (!dataTable) return;\n",
              "\n",
              "        const docLinkHtml = 'Like what you see? Visit the ' +\n",
              "          '<a target=\"_blank\" href=https://colab.research.google.com/notebooks/data_table.ipynb>data table notebook</a>'\n",
              "          + ' to learn more about interactive tables.';\n",
              "        element.innerHTML = '';\n",
              "        dataTable['output_type'] = 'display_data';\n",
              "        await google.colab.output.renderOutput(dataTable, element);\n",
              "        const docLink = document.createElement('div');\n",
              "        docLink.innerHTML = docLinkHtml;\n",
              "        element.appendChild(docLink);\n",
              "      }\n",
              "    </script>\n",
              "  </div>\n",
              "\n",
              "\n",
              "<div id=\"df-3713208b-767b-4afa-beb9-9995b162a966\">\n",
              "  <button class=\"colab-df-quickchart\" onclick=\"quickchart('df-3713208b-767b-4afa-beb9-9995b162a966')\"\n",
              "            title=\"Suggest charts\"\n",
              "            style=\"display:none;\">\n",
              "\n",
              "<svg xmlns=\"http://www.w3.org/2000/svg\" height=\"24px\"viewBox=\"0 0 24 24\"\n",
              "     width=\"24px\">\n",
              "    <g>\n",
              "        <path d=\"M19 3H5c-1.1 0-2 .9-2 2v14c0 1.1.9 2 2 2h14c1.1 0 2-.9 2-2V5c0-1.1-.9-2-2-2zM9 17H7v-7h2v7zm4 0h-2V7h2v10zm4 0h-2v-4h2v4z\"/>\n",
              "    </g>\n",
              "</svg>\n",
              "  </button>\n",
              "\n",
              "<style>\n",
              "  .colab-df-quickchart {\n",
              "      --bg-color: #E8F0FE;\n",
              "      --fill-color: #1967D2;\n",
              "      --hover-bg-color: #E2EBFA;\n",
              "      --hover-fill-color: #174EA6;\n",
              "      --disabled-fill-color: #AAA;\n",
              "      --disabled-bg-color: #DDD;\n",
              "  }\n",
              "\n",
              "  [theme=dark] .colab-df-quickchart {\n",
              "      --bg-color: #3B4455;\n",
              "      --fill-color: #D2E3FC;\n",
              "      --hover-bg-color: #434B5C;\n",
              "      --hover-fill-color: #FFFFFF;\n",
              "      --disabled-bg-color: #3B4455;\n",
              "      --disabled-fill-color: #666;\n",
              "  }\n",
              "\n",
              "  .colab-df-quickchart {\n",
              "    background-color: var(--bg-color);\n",
              "    border: none;\n",
              "    border-radius: 50%;\n",
              "    cursor: pointer;\n",
              "    display: none;\n",
              "    fill: var(--fill-color);\n",
              "    height: 32px;\n",
              "    padding: 0;\n",
              "    width: 32px;\n",
              "  }\n",
              "\n",
              "  .colab-df-quickchart:hover {\n",
              "    background-color: var(--hover-bg-color);\n",
              "    box-shadow: 0 1px 2px rgba(60, 64, 67, 0.3), 0 1px 3px 1px rgba(60, 64, 67, 0.15);\n",
              "    fill: var(--button-hover-fill-color);\n",
              "  }\n",
              "\n",
              "  .colab-df-quickchart-complete:disabled,\n",
              "  .colab-df-quickchart-complete:disabled:hover {\n",
              "    background-color: var(--disabled-bg-color);\n",
              "    fill: var(--disabled-fill-color);\n",
              "    box-shadow: none;\n",
              "  }\n",
              "\n",
              "  .colab-df-spinner {\n",
              "    border: 2px solid var(--fill-color);\n",
              "    border-color: transparent;\n",
              "    border-bottom-color: var(--fill-color);\n",
              "    animation:\n",
              "      spin 1s steps(1) infinite;\n",
              "  }\n",
              "\n",
              "  @keyframes spin {\n",
              "    0% {\n",
              "      border-color: transparent;\n",
              "      border-bottom-color: var(--fill-color);\n",
              "      border-left-color: var(--fill-color);\n",
              "    }\n",
              "    20% {\n",
              "      border-color: transparent;\n",
              "      border-left-color: var(--fill-color);\n",
              "      border-top-color: var(--fill-color);\n",
              "    }\n",
              "    30% {\n",
              "      border-color: transparent;\n",
              "      border-left-color: var(--fill-color);\n",
              "      border-top-color: var(--fill-color);\n",
              "      border-right-color: var(--fill-color);\n",
              "    }\n",
              "    40% {\n",
              "      border-color: transparent;\n",
              "      border-right-color: var(--fill-color);\n",
              "      border-top-color: var(--fill-color);\n",
              "    }\n",
              "    60% {\n",
              "      border-color: transparent;\n",
              "      border-right-color: var(--fill-color);\n",
              "    }\n",
              "    80% {\n",
              "      border-color: transparent;\n",
              "      border-right-color: var(--fill-color);\n",
              "      border-bottom-color: var(--fill-color);\n",
              "    }\n",
              "    90% {\n",
              "      border-color: transparent;\n",
              "      border-bottom-color: var(--fill-color);\n",
              "    }\n",
              "  }\n",
              "</style>\n",
              "\n",
              "  <script>\n",
              "    async function quickchart(key) {\n",
              "      const quickchartButtonEl =\n",
              "        document.querySelector('#' + key + ' button');\n",
              "      quickchartButtonEl.disabled = true;  // To prevent multiple clicks.\n",
              "      quickchartButtonEl.classList.add('colab-df-spinner');\n",
              "      try {\n",
              "        const charts = await google.colab.kernel.invokeFunction(\n",
              "            'suggestCharts', [key], {});\n",
              "      } catch (error) {\n",
              "        console.error('Error during call to suggestCharts:', error);\n",
              "      }\n",
              "      quickchartButtonEl.classList.remove('colab-df-spinner');\n",
              "      quickchartButtonEl.classList.add('colab-df-quickchart-complete');\n",
              "    }\n",
              "    (() => {\n",
              "      let quickchartButtonEl =\n",
              "        document.querySelector('#df-3713208b-767b-4afa-beb9-9995b162a966 button');\n",
              "      quickchartButtonEl.style.display =\n",
              "        google.colab.kernel.accessAllowed ? 'block' : 'none';\n",
              "    })();\n",
              "  </script>\n",
              "</div>\n",
              "\n",
              "    </div>\n",
              "  </div>\n"
            ],
            "application/vnd.google.colaboratory.intrinsic+json": {
              "type": "dataframe",
              "variable_name": "da",
              "summary": "{\n  \"name\": \"da\",\n  \"rows\": 52182,\n  \"fields\": [\n    {\n      \"column\": \"Sentence\",\n      \"properties\": {\n        \"dtype\": \"string\",\n        \"num_unique_values\": 27749,\n        \"samples\": [\n          \"\\u0c2d\\u0c3e\\u0c30\\u0c24\\u0c4d \\u0c1a\\u0c3f\\u0c24\\u0c4d\\u0c30\\u0c02 \\u0c0e\\u0c2a\\u0c4d\\u0c2a\\u0c41\\u0c21\\u0c41 \\u0c2a\\u0c4d\\u0c30\\u0c47\\u0c15\\u0c4d\\u0c37\\u0c15\\u0c41\\u0c32 \\u0c2e\\u0c41\\u0c02\\u0c26\\u0c41\\u0c15\\u0c4a\\u0c38\\u0c4d\\u0c24\\u0c41\\u0c02\\u0c26\\u0c3e \\u0c05\\u0c28\\u0c4d\\u0c28 \\u0c06\\u0c32\\u0c4b\\u0c1a\\u0c28\\u0c24\\u0c4b \\u0c28\\u0c3f\\u0c26\\u0c4d\\u0c30\\u0c32\\u0c47\\u0c28\\u0c3f \\u0c30\\u0c3e\\u0c24\\u0c4d\\u0c30\\u0c41\\u0c32\\u0c41 \\u0c17\\u0c21\\u0c41\\u0c2a\\u0c41\\u0c24\\u0c41\\u0c28\\u0c4d\\u0c28\\u0c3e\\u0c28\\u0c02\\u0c1f\\u0c4b\\u0c02\\u0c26\\u0c3f \\u0c2c\\u0c3e\\u0c32\\u0c40\\u0c35\\u0c41\\u0c21\\u0c4d \\u0c2c\\u0c3e\\u0c30\\u0c4d\\u0c2c\\u0c40\\u0c17\\u0c3e\\u0c33\\u0c4d \\u0c15\\u0c24\\u0c4d\\u0c30\\u0c3f\\u0c28\\u0c3e \\u0c15\\u0c48\\u0c2b\\u0c4d\",\n          \"\\u0c09\\u0c17\\u0c4d\\u0c30\\u0c35\\u0c3e\\u0c26 \\u0c2e\\u0c41\\u0c20\\u0c3e\\u0c32\\u0c24\\u0c4b \\u0c06 \\u0c2e\\u0c41\\u0c17\\u0c4d\\u0c17\\u0c41\\u0c30\\u0c3f\\u0c15\\u0c40 \\u0c38\\u0c02\\u0c2c\\u0c02\\u0c27\\u0c3e\\u0c32\\u0c41 \\u0c09\\u0c28\\u0c4d\\u0c28\\u0c3e\\u0c2f\\u0c3e \\u0c05\\u0c28\\u0c47 \\u0c15\\u0c4b\\u0c23\\u0c02\\u0c32\\u0c4b \\u0c15\\u0c47\\u0c38\\u0c41 \\u0c28\\u0c2e\\u0c4b\\u0c26\\u0c41\\u0c1a\\u0c47\\u0c38\\u0c3f \\u0c26\\u0c30\\u0c4d\\u0c2f\\u0c3e\\u0c2a\\u0c4d\\u0c24\\u0c41 \\u0c1c\\u0c30\\u0c41\\u0c2a\\u0c41\\u0c24\\u0c41\\u0c28\\u0c4d\\u0c28\\u0c3e\\u0c30\\u0c41\",\n          \"\\u0c05\\u0c38\\u0c32\\u0c41 \\u0c08 \\u0c35\\u0c2f\\u0c38\\u0c41\\u0c32\\u0c4b \\u0c07\\u0c02\\u0c24\\u0c02\\u0c26\\u0c02 \\u0c0e\\u0c32\\u0c3e? \\u0c05\\u0c28\\u0c3f \\u0c2a\\u0c4d\\u0c30\\u0c24\\u0c3f\\u0c38\\u0c3e\\u0c30\\u0c40 \\u0c15\\u0c3f\\u0c02\\u0c17\\u0c4d\\u200c\\u0c28\\u0c3f \\u0c2a\\u0c4d\\u0c30\\u0c36\\u0c4d\\u0c28\\u0c3f\\u0c02\\u0c1a\\u0c47\\u0c35\\u0c3e\\u0c30\\u0c3f\\u0c15\\u0c3f \\u0c06\\u0c2f\\u0c28 \\u0c2a\\u0c4d\\u0c30\\u0c3e\\u0c15\\u0c4d\\u0c1f\\u0c3f\\u0c15\\u0c32\\u0c4d\\u200c\\u0c17\\u0c3e \\u0c1a\\u0c46\\u0c2c\\u0c41\\u0c24\\u0c41\\u0c28\\u0c4d\\u0c28 \\u0c38\\u0c2e\\u0c3e\\u0c27\\u0c3e\\u0c28\\u0c02 \\u0c07\\u0c02\\u0c1f\\u0c4d\\u0c30\\u0c46\\u0c38\\u0c4d\\u0c1f\\u0c3f\\u0c02\\u0c17\\u0c4d\\u200c.\"\n        ],\n        \"semantic_type\": \"\",\n        \"description\": \"\"\n      }\n    },\n    {\n      \"column\": \"Emotion\",\n      \"properties\": {\n        \"dtype\": \"category\",\n        \"num_unique_values\": 5,\n        \"samples\": [\n          \"sad\",\n          \"fear\",\n          \"happy\"\n        ],\n        \"semantic_type\": \"\",\n        \"description\": \"\"\n      }\n    },\n    {\n      \"column\": \"Tokens\",\n      \"properties\": {\n        \"dtype\": \"category\",\n        \"num_unique_values\": 24284,\n        \"samples\": [\n          \"['\\u0c26\\u0c40\\u0c02\\u0c24\\u0c4b', '\\u0c15\\u0c3e\\u0c30\\u0c4d\\u0c2f\\u0c15\\u0c4d\\u0c30\\u0c2e\\u0c3e\\u0c28\\u0c3f\\u0c15\\u0c47', '\\u0c13', '\\u0c2a\\u0c4d\\u0c30\\u0c24\\u0c4d\\u0c2f\\u0c47\\u0c15\\u0c24', '\\u0c30\\u0c3e\\u0c28\\u0c41\\u0c02\\u0c26\\u0c28\\u0c3f', '\\u0c05\\u0c02\\u0c1f\\u0c41\\u0c28\\u0c4d\\u0c28\\u0c3e\\u0c30\\u0c41']\",\n          \"['\\u0c2e\\u0c38\\u0c3e\\u0c2c\\u0c4d\\\\u200c\\u0c1f\\u0c4d\\u0c2f\\u0c3e\\u0c02\\u0c15\\u0c4d\\\\u200c\\u0c32\\u0c4b\\u0c28\\u0c3f', '\\u0c38\\u0c2e\\u0c3e\\u0c1a\\u0c3e\\u0c30', '\\u0c2d\\u0c35\\u0c28\\u0c4d\\\\u200c\\u0c32\\u0c4b\\u0c28\\u0c3f', '\\u0c2e\\u0c40\\u0c21\\u0c3f\\u0c2f\\u0c3e', '\\u0c05\\u0c15\\u0c3e\\u0c21\\u0c2e\\u0c40', '\\u0c15\\u0c3e\\u0c30\\u0c4d\\u0c2f\\u0c3e\\u0c32\\u0c2f\\u0c02\\u0c32\\u0c4b', '\\u0c06\\u0c2f\\u0c28', '\\u0c2c\\u0c3e\\u0c27\\u0c4d\\u0c2f\\u0c24\\u0c32\\u0c41', '\\u0c38\\u0c4d\\u0c35\\u0c40\\u0c15\\u0c30\\u0c3f\\u0c02\\u0c1a\\u0c3e\\u0c30\\u0c41']\",\n          \"['\\u0c2a\\u0c30\\u0c4d\\u0c2f\\u0c35\\u0c47\\u0c15\\u0c4d\\u0c37\\u0c15\\u0c41\\u0c21\\u0c3f\\u0c15\\u0c3f', '\\u0c05\\u0c28\\u0c41\\u0c2e\\u0c3e\\u0c28\\u0c02', '\\u0c35\\u0c1a\\u0c4d\\u0c1a\\u0c3f\\u0c02\\u0c26\\u0c3f']\"\n        ],\n        \"semantic_type\": \"\",\n        \"description\": \"\"\n      }\n    },\n    {\n      \"column\": \"text_length\",\n      \"properties\": {\n        \"dtype\": \"number\",\n        \"std\": 39,\n        \"min\": 7,\n        \"max\": 234,\n        \"num_unique_values\": 227,\n        \"samples\": [\n          101,\n          195,\n          43\n        ],\n        \"semantic_type\": \"\",\n        \"description\": \"\"\n      }\n    },\n    {\n      \"column\": \"sentence_length\",\n      \"properties\": {\n        \"dtype\": \"number\",\n        \"std\": 39,\n        \"min\": 7,\n        \"max\": 234,\n        \"num_unique_values\": 227,\n        \"samples\": [\n          101,\n          195,\n          43\n        ],\n        \"semantic_type\": \"\",\n        \"description\": \"\"\n      }\n    }\n  ]\n}"
            }
          },
          "metadata": {},
          "execution_count": 27
        }
      ]
    },
    {
      "cell_type": "markdown",
      "source": [
        "# ***Box plot of text length by emotion***"
      ],
      "metadata": {
        "id": "ywdkXnDspjUy"
      }
    },
    {
      "cell_type": "markdown",
      "source": [
        "This figure illustrates the distribution of text lengths across different emotions present in the dataset. The length of each text was calculated and stored in the text_length column. A box plot was then generated to visualize how text lengths vary for each emotion category. The x-axis represents the different emotions, while the y-axis shows the text lengths. Each box plot displays the median, quartiles, and potential outliers for the text lengths within each emotion category, providing a comprehensive view of the central tendency and dispersion of text lengths.\n",
        "\n",
        "The plot is color-coded using the 'Set3' palette, which enhances visual differentiation between the emotion categories. The figure is designed with a 45-degree rotation for the x-axis labels to improve readability. This visualization is crucial for understanding the relationship between the text length and the expressed emotions, highlighting any significant differences or patterns.\n",
        "\n",
        "The figure was generated with a resolution of 1200 dpi and saved with tight bounding box adjustments to ensure clarity and optimal presentation in the document.\n",
        "\n"
      ],
      "metadata": {
        "id": "kRpXZ918sRhT"
      }
    },
    {
      "cell_type": "code",
      "source": [
        "#for original data\n",
        "plt.figure(figsize=(14, 6))\n",
        "sns.boxplot(x='Emotion', y='text_length', data=df, palette='Set3')\n",
        "plt.title('Text Length by Emotion', fontsize=16)\n",
        "plt.xlabel('Emotion', fontsize=12)\n",
        "plt.ylabel('Text Length', fontsize=12)\n",
        "plt.xticks(rotation=45)\n",
        "plt.savefig('Text Length by Emotion.png',dpi=1200,bbox_inches='tight')\n",
        "plt.show()"
      ],
      "metadata": {
        "colab": {
          "base_uri": "https://localhost:8080/",
          "height": 684
        },
        "id": "de2I1zNfpi0u",
        "outputId": "054cdd8b-e4ed-4ec2-f5d8-d7217ce79687"
      },
      "execution_count": null,
      "outputs": [
        {
          "output_type": "stream",
          "name": "stderr",
          "text": [
            "<ipython-input-28-cb5e0e99b51b>:3: FutureWarning: \n",
            "\n",
            "Passing `palette` without assigning `hue` is deprecated and will be removed in v0.14.0. Assign the `x` variable to `hue` and set `legend=False` for the same effect.\n",
            "\n",
            "  sns.boxplot(x='Emotion', y='text_length', data=df, palette='Set3')\n"
          ]
        },
        {
          "output_type": "display_data",
          "data": {
            "text/plain": [
              "<Figure size 1400x600 with 1 Axes>"
            ],
            "image/png": "[encoded data removed]"
          },
          "metadata": {}
        }
      ]
    },
    {
      "cell_type": "code",
      "source": [
        "#for trimmed data\n",
        "plt.figure(figsize=(14, 6))\n",
        "sns.boxplot(x='Emotion', y='sentence_length', data=da, palette='Set3')\n",
        "plt.title('Text Length by Emotion', fontsize=16)\n",
        "plt.xlabel('Emotion', fontsize=12)\n",
        "plt.ylabel('Text Length', fontsize=12)\n",
        "plt.xticks(rotation=45)\n",
        "plt.savefig('Text Length by Emotion.png',dpi=1200,bbox_inches='tight')\n",
        "plt.show()"
      ],
      "metadata": {
        "colab": {
          "base_uri": "https://localhost:8080/",
          "height": 684
        },
        "id": "9km53h_CVEp7",
        "outputId": "870f9941-a360-41fb-9c7d-3f0080a823c5"
      },
      "execution_count": null,
      "outputs": [
        {
          "output_type": "stream",
          "name": "stderr",
          "text": [
            "<ipython-input-29-0b0b69cf51c8>:3: FutureWarning: \n",
            "\n",
            "Passing `palette` without assigning `hue` is deprecated and will be removed in v0.14.0. Assign the `x` variable to `hue` and set `legend=False` for the same effect.\n",
            "\n",
            "  sns.boxplot(x='Emotion', y='sentence_length', data=da, palette='Set3')\n"
          ]
        },
        {
          "output_type": "display_data",
          "data": {
            "text/plain": [
              "<Figure size 1400x600 with 1 Axes>"
            ],
            "image/png": "[encoded data removed]"
          },
          "metadata": {}
        }
      ]
    },
    {
      "cell_type": "markdown",
      "source": [
        "# ***Analyze word count***"
      ],
      "metadata": {
        "id": "GbIxKm1pkP-L"
      }
    },
    {
      "cell_type": "markdown",
      "source": [
        "This figure presents the distribution of word counts within the dataset. The number of words in each sentence was calculated and stored in the word_count column. A histogram was then created to visualize the frequency distribution of word counts, with a kernel density estimate (KDE) overlay to highlight the distribution's shape more smoothly. The x-axis represents the word count, while the y-axis shows the number of sentences corresponding to each word count. The plot is colored in light green to enhance visual appeal.\n",
        "\n",
        "This visualization provides a clear view of how word counts vary across the dataset, which is essential for understanding the textual characteristics and variability within the data. The figure was generated with a resolution of 1200 dpi and saved with tight bounding box adjustments to ensure clarity and optimal presentation in the document."
      ],
      "metadata": {
        "id": "6FHq6juBsgC7"
      }
    },
    {
      "cell_type": "code",
      "source": [
        "df['word_count'] = df['Sentence'].apply(lambda x: len(str(x).split()))\n",
        "\n",
        "plt.figure(figsize=(12, 6))\n",
        "sns.histplot(df['word_count'], kde=True,color='lightgreen')\n",
        "plt.title('Distribution of Word Count')\n",
        "plt.xlabel('Word Count')\n",
        "plt.savefig('Distribution of Word Count.png',dpi=1200,bbox_inches='tight')\n",
        "plt.show()\n",
        "\n"
      ],
      "metadata": {
        "colab": {
          "base_uri": "https://localhost:8080/",
          "height": 564
        },
        "id": "WSPlW8OMfU3r",
        "outputId": "68e4e1df-e246-4eea-80fd-13651cd6e699"
      },
      "execution_count": null,
      "outputs": [
        {
          "output_type": "display_data",
          "data": {
            "text/plain": [
              "<Figure size 1200x600 with 1 Axes>"
            ],
            "image/png": "[encoded data removed]"
          },
          "metadata": {}
        }
      ]
    },
    {
      "cell_type": "markdown",
      "source": [
        "# ***Analyze most common words***"
      ],
      "metadata": {
        "id": "bqo1gl85kUvj"
      }
    },
    {
      "cell_type": "markdown",
      "source": [
        "\n",
        "\n",
        "\n",
        "Top 20 Words and Their Frequencies\n",
        "\n",
        "This section presents an analysis of the top 20 most frequent words in the Telugu sentences from the dataset. The dataset was loaded from an Excel file, and the column containing Telugu sentences was specified. The words in each sentence were extracted and counted to determine their frequencies.\n",
        "\n",
        "The following steps were performed:\n",
        "\n",
        "Data Loading: The dataset was loaded successfully from the specified file path.\n",
        "Column Selection: The correct column containing Telugu sentences was identified based on user input.\n",
        "Word Extraction: A function was used to split each sentence into individual words.\n",
        "Word Counting: The words were counted, and the top 20 most frequent words were identified."
      ],
      "metadata": {
        "id": "fAffWxSDstEj"
      }
    },
    {
      "cell_type": "code",
      "source": [
        "#for truncated\n",
        "import pandas as pd\n",
        "import re\n",
        "from collections import Counter\n",
        "\n",
        "try:\n",
        "    # Load your data (replace with the actual path to your file)\n",
        "    file_path = '/content/drive/MyDrive/merged_dataset.xlsx'\n",
        "    df = pd.read_excel(file_path)\n",
        "    print(\"Data loaded successfully.\")\n",
        "\n",
        "    # Print column names\n",
        "    print(\"Available columns in your dataset:\")\n",
        "    print(df.columns.tolist())\n",
        "\n",
        "    # Ask user for the correct column name\n",
        "    column_name = input(\"Please enter the name of the column containing Telugu sentences: \")\n",
        "\n",
        "    if column_name not in df.columns:\n",
        "        raise ValueError(f\"Column '{column_name}' not found in the dataset.\")\n",
        "\n",
        "    # Function to split sentences into words\n",
        "    def split_sentence(sentence):\n",
        "        if isinstance(sentence, str):\n",
        "            return re.findall(r'\\S+', sentence)\n",
        "        return []\n",
        "\n",
        "    # Split sentences and count word frequencies\n",
        "    all_words = []\n",
        "    for sentence in df[column_name]:\n",
        "        all_words.extend(split_sentence(sentence))\n",
        "\n",
        "    word_counts = Counter(all_words).most_common(20)  # Top 20 words\n",
        "    print(\"Word counts calculated.\")\n",
        "\n",
        "    # Print the top 20 words and their counts\n",
        "    print(\"\\nTop 20 words and their frequencies:\")\n",
        "    max_word_length = max(len(word) for word, _ in word_counts)\n",
        "    max_count = max(count for _, count in word_counts)\n",
        "\n",
        "    for word, count in word_counts:\n",
        "        bar = '#' * int(count * 50 / max_count)\n",
        "        print(f\"{word.ljust(max_word_length)} | {str(count).rjust(5)} | {bar}\")\n",
        "\n",
        "except Exception as e:\n",
        "    print(f\"An error occurred: {str(e)}\")\n",
        "\n",
        "print(\"Script completed.\")\n"
      ],
      "metadata": {
        "colab": {
          "base_uri": "https://localhost:8080/"
        },
        "id": "EJxfldzTRzlO",
        "outputId": "898b448f-8fa2-489d-a68b-bc8ce4b3215d"
      },
      "execution_count": null,
      "outputs": [
        {
          "output_type": "stream",
          "name": "stdout",
          "text": [
            "Data loaded successfully.\n",
            "Available columns in your dataset:\n",
            "['Sentence', 'Emotion', 'Tokens', 'Sentence_Length']\n",
            "Please enter the name of the column containing Telugu sentences: Sentence\n",
            "Word counts calculated.\n",
            "\n",
            "Top 20 words and their frequencies:\n",
            "ఈ       |  6972 | ##################################################\n",
            "కూడా    |  2387 | #################\n",
            "ఆ       |  2061 | ##############\n",
            "నుంచి   |  1984 | ##############\n",
            "సినిమా  |  1575 | ###########\n",
            "తన      |  1356 | #########\n",
            "అని     |  1338 | #########\n",
            "అయితే   |  1194 | ########\n",
            "ఓ       |  1181 | ########\n",
            "చేశారు. |  1155 | ########\n",
            "ఆయన     |  1151 | ########\n",
            "చేసిన   |  1106 | #######\n",
            "ఉన్న    |  1087 | #######\n",
            "రెండు   |   994 | #######\n",
            "తొలి    |   985 | #######\n",
            "జగన్    |   971 | ######\n",
            "కోసం    |   940 | ######\n",
            "పార్టీ  |   929 | ######\n",
            "జట్టు   |   885 | ######\n",
            "పరుగులు |   857 | ######\n",
            "Script completed.\n"
          ]
        }
      ]
    },
    {
      "cell_type": "code",
      "source": [
        "\n",
        "#fir original data\n",
        "import pandas as pd\n",
        "import re\n",
        "from collections import Counter\n",
        "\n",
        "try:\n",
        "    # Load your data (replace with the actual path to your file)\n",
        "    file_path = '/content/drive/MyDrive/filtered_dataset.xlsx'\n",
        "    df = pd.read_excel(file_path)\n",
        "    print(\"Data loaded successfully.\")\n",
        "\n",
        "    # Print column names\n",
        "    print(\"Available columns in your dataset:\")\n",
        "    print(df.columns.tolist())\n",
        "\n",
        "    # Ask user for the correct column name\n",
        "    column_name = input(\"Please enter the name of the column containing Telugu sentences: \")\n",
        "\n",
        "    if column_name not in df.columns:\n",
        "        raise ValueError(f\"Column '{column_name}' not found in the dataset.\")\n",
        "\n",
        "    # Function to split sentences into words\n",
        "    def split_sentence(sentence):\n",
        "        if isinstance(sentence, str):\n",
        "            return re.findall(r'\\S+', sentence)\n",
        "        return []\n",
        "\n",
        "    # Split sentences and count word frequencies\n",
        "    all_words = []\n",
        "    for sentence in df[column_name]:\n",
        "        all_words.extend(split_sentence(sentence))\n",
        "\n",
        "    word_counts = Counter(all_words).most_common(20)  # Top 20 words\n",
        "    print(\"Word counts calculated.\")\n",
        "\n",
        "    # Print the top 20 words and their counts\n",
        "    print(\"\\nTop 20 words and their frequencies:\")\n",
        "    max_word_length = max(len(word) for word, _ in word_counts)\n",
        "    max_count = max(count for _, count in word_counts)\n",
        "\n",
        "    for word, count in word_counts:\n",
        "        bar = '#' * int(count * 50 / max_count)\n",
        "        print(f\"{word.ljust(max_word_length)} | {str(count).rjust(5)} | {bar}\")\n",
        "\n",
        "except Exception as e:\n",
        "    print(f\"An error occurred: {str(e)}\")\n",
        "\n",
        "print(\"Script completed.\")\n"
      ],
      "metadata": {
        "colab": {
          "base_uri": "https://localhost:8080/"
        },
        "id": "BlqZGvlYSFsR",
        "outputId": "10fca6d7-d3a3-4b7d-8b23-34a4a74dc948"
      },
      "execution_count": null,
      "outputs": [
        {
          "output_type": "stream",
          "name": "stdout",
          "text": [
            "Data loaded successfully.\n",
            "Available columns in your dataset:\n",
            "['Sentence', 'Emotion', 'Tokens', 'Sentence_Length']\n",
            "Please enter the name of the column containing Telugu sentences: Sentence\n",
            "Word counts calculated.\n",
            "\n",
            "Top 20 words and their frequencies:\n",
            "ఈ       |  6972 | ##################################################\n",
            "కూడా    |  2387 | #################\n",
            "ఆ       |  2061 | ##############\n",
            "నుంచి   |  1984 | ##############\n",
            "సినిమా  |  1575 | ###########\n",
            "తన      |  1356 | #########\n",
            "అని     |  1338 | #########\n",
            "అయితే   |  1194 | ########\n",
            "ఓ       |  1181 | ########\n",
            "చేశారు. |  1155 | ########\n",
            "ఆయన     |  1151 | ########\n",
            "చేసిన   |  1106 | #######\n",
            "ఉన్న    |  1087 | #######\n",
            "రెండు   |   994 | #######\n",
            "తొలి    |   985 | #######\n",
            "జగన్    |   971 | ######\n",
            "కోసం    |   940 | ######\n",
            "పార్టీ  |   929 | ######\n",
            "జట్టు   |   885 | ######\n",
            "పరుగులు |   857 | ######\n",
            "Script completed.\n"
          ]
        }
      ]
    },
    {
      "cell_type": "code",
      "source": [],
      "metadata": {
        "id": "XYPFuYOdj4Ew"
      },
      "execution_count": null,
      "outputs": []
    }
  ]
}